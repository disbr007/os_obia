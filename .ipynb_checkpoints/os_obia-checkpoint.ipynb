{
 "cells": [
  {
   "cell_type": "markdown",
   "id": "19c870b2-09a6-4da7-ba9b-e45dbf4282dc",
   "metadata": {},
   "source": [
    "# Open Source Object-Based-Image-Analysis\n",
    "*Example workflow to classify an urban scene into basic classes: trees, water, open space, buildings, pavement, shadow*"
   ]
  },
  {
   "cell_type": "markdown",
   "id": "e247b100-6e4e-4ad8-b6d2-164f349c5124",
   "metadata": {
    "tags": []
   },
   "source": [
    "*The great thing about python is...*  \n",
    "<img src=\"img/build_it2.png\" width=\"600\">"
   ]
  },
  {
   "cell_type": "markdown",
   "id": "37a92940",
   "metadata": {
    "tags": []
   },
   "source": [
    "### What is OBIA really?\n",
    "Derivatives -> Segmentation -> Zonal statistics -> Classification "
   ]
  },
  {
   "cell_type": "markdown",
   "id": "98eac067-14c6-4de3-887f-9a422113eb9e",
   "metadata": {
    "tags": []
   },
   "source": [
    "## Tools / Software Stack"
   ]
  },
  {
   "cell_type": "markdown",
   "id": "1db9f8a3-80e3-4796-9949-963f1aadd2d8",
   "metadata": {
    "tags": []
   },
   "source": [
    "## python\n",
    "# ![python](img/python_logo.png)  +  ![gdal](img/gdalicon.png)  \n",
    "- [geopandas](https://geopandas.org): vector (image object) manipulation  \n",
    "- [rasterio](https://rasterio.readthedocs.io/en/latest/): raster loading/manipulation  \n",
    "- [rasterstats](https://pythonhosted.org/rasterstats/): zonal statistics  \n",
    "*The use of anaconda/miniconda is *highly* recommended for managing python dependencies, specifically installing packages from the `conda-forge` channel. E.g.:*  \n",
    "`conda install -c conda-forge geopandas`\n",
    "  \n",
    "  \n",
    "## WhiteBoxTools\n",
    "![wbt](img/WhiteBoxToolsLogo_vert.png)  \n",
    "[WhiteBoxTools](https://jblindsay.github.io/wbt_book/intro.html): raster derivatives, specifically geomorphometic analyses.  \n",
    "*Has python bindings, but tough to integrate with other dependencies, so called from the command line.*  \n",
    "  \n",
    "  \n",
    "## Orfeo Toolbox  \n",
    "![orfeo](img/logo-orfeo-toolbox.png)  \n",
    "[**Orfeo Toolbox**](https://www.orfeo-toolbox.org/CookBook/): segmentation (also has general GIS tools).  \n",
    "*Has python bindings, but tough to integrate with other dependencies, so called from the command line.*  \n",
    "\n",
    "\n",
    "## QGIS\n",
    "![qgis](img/qgis-logo.png)  \n",
    "[**QGIS**](https://qgis.org/en/site/): Viewing outputs, general GIS."
   ]
  },
  {
   "cell_type": "markdown",
   "id": "05836110",
   "metadata": {
    "tags": []
   },
   "source": [
    "## Imports + Logging Set up"
   ]
  },
  {
   "cell_type": "code",
   "execution_count": 1,
   "id": "33674424",
   "metadata": {
    "tags": []
   },
   "outputs": [],
   "source": [
    "# Standard lib\n",
    "import copy\n",
    "import logging\n",
    "import numpy as np\n",
    "import operator\n",
    "from pathlib import Path\n",
    "from pprint import pprint\n",
    "import warnings\n",
    "import sys\n",
    "\n",
    "# Installed packages\n",
    "from osgeo import gdal, osr\n",
    "import geopandas\n",
    "import rasterio\n",
    "import rasterstats\n",
    "from skimage.segmentation import quickshift\n",
    "import scipy\n",
    "\n",
    "# Local packages\n",
    "from lib import (run_subprocess, clean4cmdline, create_grm_outname,\n",
    "                 rio_polygonize, read_vec, write_gdf, write_array,)\n",
    "from calc_zonal_stats import calc_zonal_stats"
   ]
  },
  {
   "cell_type": "code",
   "execution_count": 2,
   "id": "72a02d34",
   "metadata": {
    "tags": []
   },
   "outputs": [],
   "source": [
    "# Set up logger\n",
    "root_logger = logging.getLogger()\n",
    "root_logger.setLevel(logging.INFO)\n",
    "ch = logging.StreamHandler(sys.stdout)\n",
    "ch.setLevel(1)\n",
    "formatter = logging.Formatter(\n",
    "    '%(asctime)s - %(name)s - %(levelname)s - %(message)s')\n",
    "ch.setFormatter(formatter)\n",
    "root_logger.addHandler(ch)\n",
    "\n",
    "warnings.filterwarnings('ignore', category=RuntimeWarning, message='Sequential read of iterator*')"
   ]
  },
  {
   "cell_type": "markdown",
   "id": "6703ac81",
   "metadata": {},
   "source": [
    "## Paths (Orfeo + Data)"
   ]
  },
  {
   "cell_type": "code",
   "execution_count": 3,
   "id": "81e8a022-e21d-4936-a710-03c357d956c3",
   "metadata": {
    "tags": []
   },
   "outputs": [
    {
     "data": {
      "text/plain": [
       "WindowsPath('C:/OTB-7.2.0-Win64/OTB-7.2.0-Win64/bin/otbcli_GenericRegionMerging.bat')"
      ]
     },
     "execution_count": 3,
     "metadata": {},
     "output_type": "execute_result"
    }
   ],
   "source": [
    "# Orfeo setup and tools\n",
    "# Change this to match where OTB is on your machine, the rest of the paths should be OK\n",
    "otb = Path(r'C:\\OTB-7.2.0-Win64\\OTB-7.2.0-Win64')\n",
    "otb_init = otb / 'otbenv.bat'\n",
    "otb_bin = otb / 'bin'\n",
    "otb_grm = otb_bin / 'otbcli_GenericRegionMerging.bat'\n",
    "# otb_lsms = otb_bin / 'otbcli_LargeScaleMeanShift.bat'\n",
    "otb_grm"
   ]
  },
  {
   "cell_type": "code",
   "execution_count": 4,
   "id": "cee53336-455f-44ea-84d5-9791fd2dc7d4",
   "metadata": {
    "tags": []
   },
   "outputs": [
    {
     "data": {
      "text/plain": [
       "WindowsPath('data/naip_m_4509361_se_15_060_20190727_aoi.tif')"
      ]
     },
     "execution_count": 4,
     "metadata": {},
     "output_type": "execute_result"
    }
   ],
   "source": [
    "# Data\n",
    "data_dir = Path(r'./data')\n",
    "img = data_dir / 'naip_m_4509361_se_15_060_20190727_aoi.tif'\n",
    "ndsm = data_dir / 'nDSM_clip_fill.tif'\n",
    "ndvi = data_dir / 'ndvi_naip_m_4509361_se_15_060_20190727_aoi.tif'\n",
    "roughness = data_dir / 'nDSM_clip_fill_roughness.tif'\n",
    "img"
   ]
  },
  {
   "cell_type": "code",
   "execution_count": 5,
   "id": "d6f0af83-8722-45fa-9211-8d21677b3b4d",
   "metadata": {
    "tags": []
   },
   "outputs": [],
   "source": [
    "# Out paths\n",
    "out_dir = Path(r'./results')\n",
    "seg_dir = out_dir / 'seg'"
   ]
  },
  {
   "cell_type": "code",
   "execution_count": 6,
   "id": "3f48f4b6-ed23-4fa0-961a-7c83b6e61cb7",
   "metadata": {
    "tags": []
   },
   "outputs": [
    {
     "name": "stdout",
     "output_type": "stream",
     "text": [
      "2021-04-23 11:23:31,932 - root - INFO - All files/folders located.\n"
     ]
    }
   ],
   "source": [
    "# Ensure all exist\n",
    "missing_files = []\n",
    "for file_path in [data_dir, img, ndsm, ndvi, roughness, out_dir]:\n",
    "    if not file_path.exists():\n",
    "        missing_files.append(file_path)\n",
    "if len(missing_files) > 0:\n",
    "    for file_path in missing_files:\n",
    "        root_logger.error(f'Missing file/folder: {file_path}')\n",
    "else:\n",
    "    root_logger.info('All files/folders located.')"
   ]
  },
  {
   "cell_type": "markdown",
   "id": "e2af1a92",
   "metadata": {
    "tags": []
   },
   "source": [
    "### Check out input data\n",
    "how it was created, histogram of values in image (qgis), profile, stats of image to seg"
   ]
  },
  {
   "cell_type": "code",
   "execution_count": 7,
   "id": "14dddebc-6bec-4ee1-aeb3-80c5b312bf49",
   "metadata": {
    "tags": []
   },
   "outputs": [
    {
     "name": "stdout",
     "output_type": "stream",
     "text": [
      "Driver: GTiff/GeoTIFF\n",
      "Files: data\\naip_m_4509361_se_15_060_20190727_aoi.tif\n",
      "       data\\naip_m_4509361_se_15_060_20190727_aoi.tif.aux.xml\n",
      "Size is 2506, 1444\n",
      "Coordinate System is:\n",
      "PROJCRS[\"NAD83 / UTM zone 15N\",\n",
      "    BASEGEOGCRS[\"NAD83\",\n",
      "        DATUM[\"North American Datum 1983\",\n",
      "            ELLIPSOID[\"GRS 1980\",6378137,298.257222101,\n",
      "                LENGTHUNIT[\"metre\",1]]],\n",
      "        PRIMEM[\"Greenwich\",0,\n",
      "            ANGLEUNIT[\"degree\",0.0174532925199433]],\n",
      "        ID[\"EPSG\",4269]],\n",
      "    CONVERSION[\"UTM zone 15N\",\n",
      "        METHOD[\"Transverse Mercator\",\n",
      "            ID[\"EPSG\",9807]],\n",
      "        PARAMETER[\"Latitude of natural origin\",0,\n",
      "            ANGLEUNIT[\"degree\",0.0174532925199433],\n",
      "            ID[\"EPSG\",8801]],\n",
      "        PARAMETER[\"Longitude of natural origin\",-93,\n",
      "            ANGLEUNIT[\"degree\",0.0174532925199433],\n",
      "            ID[\"EPSG\",8802]],\n",
      "        PARAMETER[\"Scale factor at natural origin\",0.9996,\n",
      "            SCALEUNIT[\"unity\",1],\n",
      "            ID[\"EPSG\",8805]],\n",
      "        PARAMETER[\"False easting\",500000,\n",
      "            LENGTHUNIT[\"metre\",1],\n",
      "            ID[\"EPSG\",8806]],\n",
      "        PARAMETER[\"False northing\",0,\n",
      "            LENGTHUNIT[\"metre\",1],\n",
      "            ID[\"EPSG\",8807]]],\n",
      "    CS[Cartesian,2],\n",
      "        AXIS[\"(E)\",east,\n",
      "            ORDER[1],\n",
      "            LENGTHUNIT[\"metre\",1]],\n",
      "        AXIS[\"(N)\",north,\n",
      "            ORDER[2],\n",
      "            LENGTHUNIT[\"metre\",1]],\n",
      "    USAGE[\n",
      "        SCOPE[\"Engineering survey, topographic mapping.\"],\n",
      "        AREA[\"North America - between 96°W and 90°W - onshore and offshore. Canada - Manitoba; Nunavut; Ontario. United States (USA) - Arkansas; Illinois; Iowa; Kansas; Louisiana; Michigan; Minnesota; Mississippi; Missouri; Nebraska; Oklahoma; Tennessee; Texas; Wisconsin.\"],\n",
      "        BBOX[25.61,-96,84,-90]],\n",
      "    ID[\"EPSG\",26915]]\n",
      "Data axis to CRS axis mapping: 1,2\n",
      "Origin = (467491.799999999988358,4983821.400000000372529)\n",
      "Pixel Size = (0.600000000000014,-0.600000000000258)\n",
      "Metadata:\n",
      "  AREA_OR_POINT=Area\n",
      "Image Structure Metadata:\n",
      "  INTERLEAVE=PIXEL\n",
      "Corner Coordinates:\n",
      "Upper Left  (  467491.800, 4983821.400) ( 93d24'45.04\"W, 45d 0'25.54\"N)\n",
      "Lower Left  (  467491.800, 4982955.000) ( 93d24'44.84\"W, 44d59'57.47\"N)\n",
      "Upper Right (  468995.400, 4983821.400) ( 93d23'36.36\"W, 45d 0'25.79\"N)\n",
      "Lower Right (  468995.400, 4982955.000) ( 93d23'36.16\"W, 44d59'57.71\"N)\n",
      "Center      (  468243.600, 4983388.200) ( 93d24'10.60\"W, 45d 0'11.63\"N)\n",
      "Band 1 Block=2506x1 Type=Byte, ColorInterp=Red\n",
      "  Min=0.000 Max=255.000 \n",
      "  Minimum=0.000, Maximum=255.000, Mean=93.653, StdDev=39.967\n",
      "  Mask Flags: PER_DATASET ALPHA \n",
      "  Metadata:\n",
      "    STATISTICS_MAXIMUM=255\n",
      "    STATISTICS_MEAN=93.652965293268\n",
      "    STATISTICS_MINIMUM=0\n",
      "    STATISTICS_STDDEV=39.967441959392\n",
      "    STATISTICS_VALID_PERCENT=100\n",
      "Band 2 Block=2506x1 Type=Byte, ColorInterp=Green\n",
      "  Min=0.000 Max=255.000 \n",
      "  Minimum=0.000, Maximum=255.000, Mean=100.783, StdDev=35.144\n",
      "  Mask Flags: PER_DATASET ALPHA \n",
      "  Metadata:\n",
      "    STATISTICS_MAXIMUM=255\n",
      "    STATISTICS_MEAN=100.78307132135\n",
      "    STATISTICS_MINIMUM=0\n",
      "    STATISTICS_STDDEV=35.144343074588\n",
      "    STATISTICS_VALID_PERCENT=100\n",
      "Band 3 Block=2506x1 Type=Byte, ColorInterp=Blue\n",
      "  Min=0.000 Max=255.000 \n",
      "  Minimum=0.000, Maximum=255.000, Mean=87.302, StdDev=28.385\n",
      "  Mask Flags: PER_DATASET ALPHA \n",
      "  Metadata:\n",
      "    STATISTICS_MAXIMUM=255\n",
      "    STATISTICS_MEAN=87.302340034886\n",
      "    STATISTICS_MINIMUM=0\n",
      "    STATISTICS_STDDEV=28.385497954349\n",
      "    STATISTICS_VALID_PERCENT=100\n",
      "Band 4 Block=2506x1 Type=Byte, ColorInterp=Alpha\n",
      "  Min=0.000 Max=255.000 \n",
      "  Minimum=0.000, Maximum=255.000, Mean=68.404, StdDev=65.967\n",
      "  Metadata:\n",
      "    STATISTICS_MAXIMUM=255\n",
      "    STATISTICS_MEAN=68.404260799013\n",
      "    STATISTICS_MINIMUM=0\n",
      "    STATISTICS_STDDEV=65.967398237427\n",
      "    STATISTICS_VALID_PERCENT=100\n"
     ]
    }
   ],
   "source": [
    "response = run_subprocess(f'gdalinfo {img} -stats', log=False)\n",
    "for l in response:\n",
    "    print(l.strip('\\n'))"
   ]
  },
  {
   "cell_type": "markdown",
   "id": "2932346b",
   "metadata": {
    "tags": []
   },
   "source": [
    "## Segmentation"
   ]
  },
  {
   "cell_type": "markdown",
   "id": "ebfc3ddb",
   "metadata": {
    "tags": []
   },
   "source": [
    "#### Generic Region Merging\n",
    "[otb docs](https://www.orfeo-toolbox.org/CookBook/Applications/app_GenericRegionMerging.html?highlight=generic%20region%20merging)"
   ]
  },
  {
   "cell_type": "code",
   "execution_count": 8,
   "id": "4c7b71b2",
   "metadata": {
    "tags": []
   },
   "outputs": [
    {
     "name": "stdout",
     "output_type": "stream",
     "text": [
      "2021-04-23 11:23:32,440 - root - INFO - Out image: results\\seg\\naip_m_4509361_se_15_060_20190727_aoi_bst100ni100s0spec0x6spat25.tif\n"
     ]
    }
   ],
   "source": [
    "# Parameters\n",
    "# Homogeneity criterion to use. The default is 'bs'. One of: [bs, ed, fls]\n",
    "criterion = 'bs'\n",
    "threshold = 100\n",
    "niter = 100\n",
    "spectral_w = 0.6 # spectral weight, higher values slow processing time\n",
    "spatial_w = 25 # spatial weight\n",
    "out_img = create_grm_outname(img=img,\n",
    "                             out_dir=seg_dir,\n",
    "                             criterion=criterion,\n",
    "                             threshold=threshold,\n",
    "                             niter=niter,\n",
    "                             spectral=spectral_w,\n",
    "                             spatial=spatial_w)\n",
    "root_logger.info(f'Out image: {out_img}')"
   ]
  },
  {
   "cell_type": "code",
   "execution_count": 9,
   "id": "eb2e7038",
   "metadata": {
    "tags": []
   },
   "outputs": [
    {
     "name": "stdout",
     "output_type": "stream",
     "text": [
      "2021-04-23 11:23:32,474 - root - INFO - OTB command:\n",
      "\"C:\\OTB-7.2.0-Win64\\OTB-7.2.0-Win64\\bin\\otbcli_GenericRegionMerging.bat\" -in data\\naip_m_4509361_se_15_060_20190727_aoi.tif -out results\\seg\\naip_m_4509361_se_15_060_20190727_aoi_bst100ni100s0spec0x6spat25.tif -criterion bs -threshold 100 -niter 100 -cw 0.6 -sw 25\n"
     ]
    }
   ],
   "source": [
    "# Build the command\n",
    "otb_cmd = f\"\"\"\n",
    "\"{otb_grm}\"\n",
    "-in {str(img)}\n",
    "-out {str(out_img)}\n",
    "-criterion {criterion}\n",
    "-threshold {threshold}\n",
    "-niter {niter}\n",
    "-cw {spectral_w}\n",
    "-sw {spatial_w}\"\"\"\n",
    "\n",
    "otb_cmd = clean4cmdline(otb_cmd)\n",
    "root_logger.info(f'OTB command:\\n{otb_cmd}')\n",
    "otb_cmd = f'{otb_init} && {otb_cmd}'\n",
    "root_logger.debug(f'OTB full command:\\n{otb_cmd}')"
   ]
  },
  {
   "cell_type": "code",
   "execution_count": 10,
   "id": "10684db7",
   "metadata": {
    "tags": []
   },
   "outputs": [
    {
     "name": "stdout",
     "output_type": "stream",
     "text": [
      "2021-04-23 11:23:43,427 - lib - INFO - 2021-04-23 11:23:32 (INFO) GenericRegionMerging: Default RAM limit for OTB is 256 MB\n",
      "\n",
      "2021-04-23 11:23:43,431 - lib - INFO - 2021-04-23 11:23:32 (INFO) GenericRegionMerging: GDAL maximum cache size is 400 MB\n",
      "\n",
      "2021-04-23 11:23:43,434 - lib - INFO - 2021-04-23 11:23:32 (INFO) GenericRegionMerging: OTB will use at most 8 threads\n",
      "\n",
      "2021-04-23 11:24:34,955 - lib - INFO - ....................................................................................................\n",
      "\n",
      "2021-04-23 11:24:37,861 - lib - INFO - 2021-04-23 11:24:37 (INFO): Estimated memory for full processing: 68.9824MB (avail.: 256 MB), optimal image partitioning: 1 blocks\n",
      "\n",
      "2021-04-23 11:24:37,862 - lib - INFO - 2021-04-23 11:24:37 (INFO): File results\\seg\\naip_m_4509361_se_15_060_20190727_aoi_bst100ni100s0spec0x6spat25.tif will be written in 1 blocks of 2506x1444 pixels\n",
      "\n",
      "2021-04-23 11:24:37,863 - lib - INFO - Writing results\\seg\\naip_m_4509361_se_15_060_20190727_aoi_bst100ni100s0spec0x6spat25.tif...: 100% [**************************************************] (0s)\n",
      "\n"
     ]
    },
    {
     "data": {
      "text/plain": [
       "[]"
      ]
     },
     "execution_count": 10,
     "metadata": {},
     "output_type": "execute_result"
    }
   ],
   "source": [
    "run_subprocess(otb_cmd)"
   ]
  },
  {
   "cell_type": "markdown",
   "id": "7d5530e7",
   "metadata": {
    "tags": []
   },
   "source": [
    "(Check out resulting image)"
   ]
  },
  {
   "cell_type": "code",
   "execution_count": 21,
   "id": "8d1f7d77",
   "metadata": {
    "tags": []
   },
   "outputs": [
    {
     "name": "stdout",
     "output_type": "stream",
     "text": [
      "2021-04-23 11:32:31,729 - lib - INFO - Polygonizing: results\\seg\\naip_m_4509361_se_15_060_20190727_aoi_bst100ni100s0spec0x6spat25.tif\n",
      "2021-04-23 11:32:32,546 - lib - INFO - Writing polygons to: results\\seg\\naip_m_4509361_se_15_060_20190727_aoi_bst100ni100s0spec0x6spat25.gpkg/seg\n"
     ]
    }
   ],
   "source": [
    "# Convert output tif to polygons\n",
    "out_vec = out_img.replace('.tif', '.gpkg/seg')\n",
    "vec_objects = rio_polygonize(img=out_img, out_vec=out_vec)"
   ]
  },
  {
   "cell_type": "markdown",
   "id": "50fc5c5a",
   "metadata": {
    "tags": []
   },
   "source": [
    "(Check out resuting polygons)"
   ]
  },
  {
   "cell_type": "markdown",
   "id": "a2c68949-d402-4f69-9e19-4ff4210ad6ff",
   "metadata": {
    "tags": []
   },
   "source": [
    "### Other segmentation options"
   ]
  },
  {
   "cell_type": "markdown",
   "id": "f5078446-329c-4f1a-83a1-a33bc9b9a242",
   "metadata": {
    "tags": []
   },
   "source": [
    "[Orfeo Toolbox LargeScaleMeanShift](https://www.orfeo-toolbox.org/CookBook/Applications/app_LargeScaleMeanShift.html)\n",
    "\n",
    "[Scikit-Image Segmenation](https://scikit-image.org/docs/stable/auto_examples/segmentation/plot_segmentations.html)  \n",
    "Inputs and output are often numpy arrays/matrices that need to be converted from geographic-space to pixel-space and back to geographic-space. \n",
    "\n",
    "![pixel_space](img/pixel_space.png)\n",
    "\n",
    "A couple of useful functions for this conversion:"
   ]
  },
  {
   "cell_type": "code",
   "execution_count": 13,
   "id": "9cfbd82a-a1e6-4789-88b5-21738ccb8480",
   "metadata": {
    "tags": []
   },
   "outputs": [],
   "source": [
    "# Functions for going back and forth from pixel space to coordinate space\n",
    "def pixel2geo(pixel_coord, geotransform):\n",
    "    \"\"\"\n",
    "    Covert pixel coordinates to geographic coordinates\n",
    "    \"\"\"\n",
    "    y, x = pixel_coord\n",
    "    gy = geotransform[4] * x + geotransform[5] * y + geotransform[4] * 0.5 + geotransform[5] * 0.5 + geotransform[3]\n",
    "    gx = geotransform[1] * x + geotransform[2] * y + geotransform[1] * 0.5 + geotransform[2] * 0.5 + geotransform[0]\n",
    "\n",
    "    return gy, gx\n",
    "\n",
    "def geo2pixel(geocoord, geotransform):\n",
    "    \"\"\"\n",
    "    Convert geographic coordinates to pixel coordinates\n",
    "    \"\"\"\n",
    "    y, x = geocoord\n",
    "    py = int(np.around((y - geotransform[3]) / geotransform[5]))\n",
    "    px = int(np.around((x - geotransform[0]) / geotransform[1]))\n",
    "    return py, px"
   ]
  },
  {
   "cell_type": "markdown",
   "id": "0a743a68-ec15-46b5-b978-932375281427",
   "metadata": {
    "tags": []
   },
   "source": [
    "Luckily GDAL can handle much of this work, if you know where to look...  \n",
    "<img src=\"img/gdal_geotransform.png\" width=\"400\">\n"
   ]
  },
  {
   "cell_type": "code",
   "execution_count": 11,
   "id": "90dc3880-0732-49bd-89d5-a3fe91433d7d",
   "metadata": {
    "tags": []
   },
   "outputs": [
    {
     "name": "stdout",
     "output_type": "stream",
     "text": [
      "2021-04-23 11:24:53,337 - root - INFO - Geotransform:\n",
      "(467491.8, 0.600000000000014, 0.0, 4983821.4, 0.0, -0.600000000000258)\n",
      "\n",
      "2021-04-23 11:24:53,340 - root - INFO - Top left x: 467491.8\n",
      "2021-04-23 11:24:53,342 - root - INFO - X Resolution: 0.600000000000014\n",
      "2021-04-23 11:24:53,345 - root - INFO - Rotation1: 0.0\n",
      "2021-04-23 11:24:53,346 - root - INFO - Top left y: 4983821.4\n",
      "2021-04-23 11:24:53,348 - root - INFO - Rotation2: 0.0\n",
      "2021-04-23 11:24:53,350 - root - INFO - Y Resolution: -0.600000000000258\n",
      "\n"
     ]
    }
   ],
   "source": [
    "# Open image and get geotransform\n",
    "ds = gdal.Open(str(img))\n",
    "geotransform = ds.GetGeoTransform()\n",
    "\n",
    "# Log info \n",
    "root_logger.info(f'Geotransform:\\n{geotransform}\\n')\n",
    "root_logger.info(f'Top left x: {geotransform[0]}')\n",
    "root_logger.info(f'X Resolution: {geotransform[1]}')\n",
    "root_logger.info(f'Rotation1: {geotransform[2]}')\n",
    "root_logger.info(f'Top left y: {geotransform[3]}')\n",
    "root_logger.info(f'Rotation2: {geotransform[4]}')\n",
    "root_logger.info(f'Y Resolution: {geotransform[5]}\\n')"
   ]
  },
  {
   "cell_type": "code",
   "execution_count": 14,
   "id": "61f2618c-6201-462b-bde0-3cf8974cf47f",
   "metadata": {
    "tags": []
   },
   "outputs": [
    {
     "name": "stdout",
     "output_type": "stream",
     "text": [
      "2021-04-23 11:25:39,994 - root - INFO - Top left corner in pixels (y, x): (0, 0)\n",
      "2021-04-23 11:25:39,996 - root - INFO - Top left corner in geocoords (y, x): (4983821.100000001, 467492.1)\n"
     ]
    }
   ],
   "source": [
    "root_logger.info(f'Top left corner in pixels (y, x): {geo2pixel(geocoord=(4983821.4, 467491.8), geotransform=geotransform)}')\n",
    "root_logger.info(f'Top left corner in geocoords (y, x): {pixel2geo(pixel_coord=(0,0), geotransform=geotransform)}')"
   ]
  },
  {
   "cell_type": "markdown",
   "id": "7f6057e0-8075-4633-a9a0-08d3b109eb6c",
   "metadata": {},
   "source": [
    "#### Quickshift Segmentation"
   ]
  },
  {
   "cell_type": "code",
   "execution_count": 15,
   "id": "fa9b93cc-1392-4c44-8e01-965d04befd69",
   "metadata": {
    "tags": []
   },
   "outputs": [],
   "source": [
    "# Read image as array\n",
    "array = ds.ReadAsArray()\n",
    "# Reshape so that bands are last dimension of array\n",
    "rgb = array.reshape(array.shape[1], array.shape[2], array.shape[0])\n",
    "# Drop last band to get three-bands\n",
    "rgb = rgb[:, :, :3]\n",
    "# Run segmentation\n",
    "labelled = quickshift(image=rgb, ratio=1, kernel_size=5, max_dist=25, sigma=1)"
   ]
  },
  {
   "cell_type": "code",
   "execution_count": 28,
   "id": "6135f5dc-cf98-4002-935e-1dc0f010b59b",
   "metadata": {
    "tags": []
   },
   "outputs": [
    {
     "name": "stdout",
     "output_type": "stream",
     "text": [
      "2021-04-23 12:34:29,354 - root - INFO - Source array shape: (4, 1444, 2506)\n",
      "2021-04-23 12:34:29,370 - root - INFO - RGB array shape: (1444, 2506, 3)\n",
      "2021-04-23 12:34:29,370 - root - INFO - Labelled shape: (1444, 2506)\n"
     ]
    }
   ],
   "source": [
    "root_logger.info(f'Source array shape: {array.shape}')\n",
    "root_logger.info(f'RGB array shape: {rgb.shape}')\n",
    "root_logger.info(f'Labelled shape: {labelled.shape}')"
   ]
  },
  {
   "cell_type": "code",
   "execution_count": 17,
   "id": "6d5fd11e-3509-4c9f-8769-1f95413c8790",
   "metadata": {
    "tags": []
   },
   "outputs": [
    {
     "name": "stdout",
     "output_type": "stream",
     "text": [
      "2021-04-23 11:30:02,364 - lib - WARNING - Unable to determine NoData value using -9999\n",
      "2021-04-23 11:30:02,367 - lib - INFO - Creating raster at: results\\seg\\naip_m_4509361_se_15_060_20190727_aoi_bst100ni100s0spec0x6spat25_qs.tif\n",
      "2021-04-23 11:30:02,542 - lib - INFO - Writing complete.\n"
     ]
    }
   ],
   "source": [
    "# Write array out, using geotransform+projection of original image\n",
    "out_qs = out_img.replace('.tif', '_qs.tif')\n",
    "write_array(labelled, out_qs, ds, dtype=3)"
   ]
  },
  {
   "cell_type": "code",
   "execution_count": 18,
   "id": "201b4a5c-5b42-4acc-99e8-89ed35f4c4a9",
   "metadata": {
    "tags": []
   },
   "outputs": [
    {
     "name": "stdout",
     "output_type": "stream",
     "text": [
      "2021-04-23 11:30:03,654 - lib - INFO - Polygonizing: results\\seg\\naip_m_4509361_se_15_060_20190727_aoi_bst100ni100s0spec0x6spat25_qs.tif\n",
      "2021-04-23 11:30:05,240 - lib - INFO - Writing polygons to: results\\seg\\naip_m_4509361_se_15_060_20190727_aoi_bst100ni100s0spec0x6spat25_qs_qs.gpkg/qs_seg\n"
     ]
    }
   ],
   "source": [
    "out_qs_vec = out_qs.replace('.tif', '_qs.gpkg/qs_seg')\n",
    "qs_poly = rio_polygonize(img=out_qs, out_vec=out_qs_vec)"
   ]
  },
  {
   "cell_type": "markdown",
   "id": "196511fd-d591-4c7c-8b66-63ddaeeaffe2",
   "metadata": {},
   "source": [
    "## Zonal Statistics"
   ]
  },
  {
   "cell_type": "markdown",
   "id": "ee1692f1-7447-4b73-91b5-d9a25878112c",
   "metadata": {
    "tags": []
   },
   "source": [
    "The [rasterstats](https://pythonhosted.org/rasterstats/https://pythonhosted.org/rasterstats/) package does all of the work here. The simpliest usage of `rasterstats` is very easy, this is straight from their docs:  \n",
    "```python\n",
    "from rasterstats import zonal_stats\n",
    "zonal_stats(\"polygons.shp\", \"elevation.tif\",\n",
    "            stats=\"count min mean max median\")\n",
    "```\n",
    "The only wonky bit is that this returns a `list` of `dicts`, one for each feature in `polygons.shp`:\n",
    "```python\n",
    "[...,\n",
    " {'count': 89,\n",
    "  'max': 69.52958679199219,\n",
    "  'mean': 20.08093536034059,\n",
    "  'median': 19.33736801147461,\n",
    "  'min': 1.5106816291809082},\n",
    "]\n",
    "\n",
    "```\n",
    "The `calc_zonal_stats` function I wrote handles the logic of inputting multiple rasters, computing different stats for each raster, formatting the results into a GeoDataFrame and writing the output. It also adds the ability to compute `compactness` and `roundness`. "
   ]
  },
  {
   "cell_type": "code",
   "execution_count": 19,
   "id": "5da94cd6",
   "metadata": {
    "tags": []
   },
   "outputs": [],
   "source": [
    "# Create dictionary of rasters, stats, and bands to compute\n",
    "zonal_stats_params = (\n",
    "    {\"img\": {\n",
    "        \"path\": img,\n",
    "        \"stats\": [\"mean\", \"max\"],\n",
    "        \"bands\": [1, 2, 3, 4]\n",
    "\t},\n",
    "    \"nDSM\": {\n",
    "        \"path\": ndsm,\n",
    "        \"stats\": [\"mean\"]\n",
    "    },\n",
    "    \"roughness\":{\n",
    "        \"path\": roughness,\n",
    "        \"stats\": [\"mean\"],\n",
    "    },\n",
    "    \"ndvi\":{\n",
    "        \"path\": ndvi,\n",
    "        \"stats\": [\"mean\"]\n",
    "    } \n",
    "})"
   ]
  },
  {
   "cell_type": "code",
   "execution_count": 22,
   "id": "ec691448",
   "metadata": {
    "tags": []
   },
   "outputs": [
    {
     "name": "stdout",
     "output_type": "stream",
     "text": [
      "2021-04-23 11:32:39,316 - calc_zonal_stats - INFO - Reading in segments from: results\\seg\\naip_m_4509361_se_15_060_20190727_aoi_bst100ni100s0spec0x6spat25.gpkg/seg...\n",
      "2021-04-23 11:32:39,938 - calc_zonal_stats - INFO - Segments found: 9,033\n",
      "2021-04-23 11:32:39,940 - calc_zonal_stats - INFO - Computing mean max on raster:\n",
      "\tdata\\naip_m_4509361_se_15_060_20190727_aoi.tif\n",
      "2021-04-23 11:32:39,941 - calc_zonal_stats - INFO - Band: 1\n"
     ]
    },
    {
     "name": "stderr",
     "output_type": "stream",
     "text": [
      "C:\\Miniconda3\\envs\\osobia\\lib\\site-packages\\rasterstats\\io.py:301: UserWarning: Setting nodata to -999; specify nodata explicitly\n",
      "  warnings.warn(\"Setting nodata to -999; specify nodata explicitly\")\n"
     ]
    },
    {
     "name": "stdout",
     "output_type": "stream",
     "text": [
      "2021-04-23 11:34:03,991 - calc_zonal_stats - INFO - Computing mean max on raster:\n",
      "\tdata\\naip_m_4509361_se_15_060_20190727_aoi.tif\n",
      "2021-04-23 11:34:03,992 - calc_zonal_stats - INFO - Band: 2\n",
      "2021-04-23 11:35:19,946 - calc_zonal_stats - INFO - Computing mean max on raster:\n",
      "\tdata\\naip_m_4509361_se_15_060_20190727_aoi.tif\n",
      "2021-04-23 11:35:19,947 - calc_zonal_stats - INFO - Band: 3\n",
      "2021-04-23 11:36:41,101 - calc_zonal_stats - INFO - Computing mean max on raster:\n",
      "\tdata\\naip_m_4509361_se_15_060_20190727_aoi.tif\n",
      "2021-04-23 11:36:41,105 - calc_zonal_stats - INFO - Band: 4\n"
     ]
    },
    {
     "ename": "KeyboardInterrupt",
     "evalue": "",
     "output_type": "error",
     "traceback": [
      "\u001b[1;31m---------------------------------------------------------------------------\u001b[0m",
      "\u001b[1;31mKeyboardInterrupt\u001b[0m                         Traceback (most recent call last)",
      "\u001b[1;32m<ipython-input-22-e9c3602ad5ef>\u001b[0m in \u001b[0;36m<module>\u001b[1;34m\u001b[0m\n\u001b[0;32m      1\u001b[0m \u001b[0mout_zs\u001b[0m \u001b[1;33m=\u001b[0m \u001b[0mout_vec\u001b[0m\u001b[1;33m.\u001b[0m\u001b[0mreplace\u001b[0m\u001b[1;33m(\u001b[0m\u001b[1;34m'/seg'\u001b[0m\u001b[1;33m,\u001b[0m \u001b[1;34m'/zs'\u001b[0m\u001b[1;33m)\u001b[0m\u001b[1;33m\u001b[0m\u001b[1;33m\u001b[0m\u001b[0m\n\u001b[1;32m----> 2\u001b[1;33m calc_zonal_stats(shp=out_vec,\n\u001b[0m\u001b[0;32m      3\u001b[0m                  \u001b[0mrasters\u001b[0m\u001b[1;33m=\u001b[0m\u001b[1;33m[\u001b[0m\u001b[0mzonal_stats_params\u001b[0m\u001b[1;33m]\u001b[0m\u001b[1;33m,\u001b[0m\u001b[1;33m\u001b[0m\u001b[1;33m\u001b[0m\u001b[0m\n\u001b[0;32m      4\u001b[0m                  \u001b[0mcompactness\u001b[0m\u001b[1;33m=\u001b[0m\u001b[1;32mTrue\u001b[0m\u001b[1;33m,\u001b[0m\u001b[1;33m\u001b[0m\u001b[1;33m\u001b[0m\u001b[0m\n\u001b[0;32m      5\u001b[0m                  \u001b[0mroundness\u001b[0m\u001b[1;33m=\u001b[0m\u001b[1;32mTrue\u001b[0m\u001b[1;33m,\u001b[0m\u001b[1;33m\u001b[0m\u001b[1;33m\u001b[0m\u001b[0m\n",
      "\u001b[1;32mC:\\code\\os_obia\\calc_zonal_stats.py\u001b[0m in \u001b[0;36mcalc_zonal_stats\u001b[1;34m(shp, rasters, names, stats, area, compactness, roundness, out_path)\u001b[0m\n\u001b[0;32m    234\u001b[0m             \u001b[1;32mfor\u001b[0m \u001b[0mb\u001b[0m \u001b[1;32min\u001b[0m \u001b[0mbs\u001b[0m\u001b[1;33m:\u001b[0m\u001b[1;33m\u001b[0m\u001b[1;33m\u001b[0m\u001b[0m\n\u001b[0;32m    235\u001b[0m                 \u001b[0mstats_dict\u001b[0m \u001b[1;33m=\u001b[0m \u001b[1;33m{\u001b[0m\u001b[0mx\u001b[0m\u001b[1;33m:\u001b[0m \u001b[1;34m'{}b{}_{}'\u001b[0m\u001b[1;33m.\u001b[0m\u001b[0mformat\u001b[0m\u001b[1;33m(\u001b[0m\u001b[0mn\u001b[0m\u001b[1;33m,\u001b[0m \u001b[0mb\u001b[0m\u001b[1;33m,\u001b[0m \u001b[0mx\u001b[0m\u001b[1;33m)\u001b[0m \u001b[1;32mfor\u001b[0m \u001b[0mx\u001b[0m \u001b[1;32min\u001b[0m \u001b[0ms\u001b[0m\u001b[1;33m}\u001b[0m\u001b[1;33m\u001b[0m\u001b[1;33m\u001b[0m\u001b[0m\n\u001b[1;32m--> 236\u001b[1;33m                 seg = compute_stats(gdf=seg, raster=r,\n\u001b[0m\u001b[0;32m    237\u001b[0m                                     \u001b[0mstats\u001b[0m\u001b[1;33m=\u001b[0m\u001b[0mstats_dict\u001b[0m\u001b[1;33m,\u001b[0m\u001b[1;33m\u001b[0m\u001b[1;33m\u001b[0m\u001b[0m\n\u001b[0;32m    238\u001b[0m                                     \u001b[0mrenamer\u001b[0m\u001b[1;33m=\u001b[0m\u001b[0mstats_dict\u001b[0m\u001b[1;33m,\u001b[0m\u001b[1;33m\u001b[0m\u001b[1;33m\u001b[0m\u001b[0m\n",
      "\u001b[1;32mC:\\code\\os_obia\\calc_zonal_stats.py\u001b[0m in \u001b[0;36mcompute_stats\u001b[1;34m(gdf, raster, name, stats, custom_stats, band, renamer)\u001b[0m\n\u001b[0;32m    111\u001b[0m     \u001b[1;32mif\u001b[0m \u001b[0mband\u001b[0m\u001b[1;33m:\u001b[0m\u001b[1;33m\u001b[0m\u001b[1;33m\u001b[0m\u001b[0m\n\u001b[0;32m    112\u001b[0m         \u001b[0mlogger\u001b[0m\u001b[1;33m.\u001b[0m\u001b[0minfo\u001b[0m\u001b[1;33m(\u001b[0m\u001b[1;34m'Band: {}'\u001b[0m\u001b[1;33m.\u001b[0m\u001b[0mformat\u001b[0m\u001b[1;33m(\u001b[0m\u001b[0mband\u001b[0m\u001b[1;33m)\u001b[0m\u001b[1;33m)\u001b[0m\u001b[1;33m\u001b[0m\u001b[1;33m\u001b[0m\u001b[0m\n\u001b[1;32m--> 113\u001b[1;33m         gdf = gdf.join(pd.DataFrame(zonal_stats(gdf['geometry'], raster,\n\u001b[0m\u001b[0;32m    114\u001b[0m                                                 \u001b[0mstats\u001b[0m\u001b[1;33m=\u001b[0m\u001b[0mstats\u001b[0m\u001b[1;33m,\u001b[0m\u001b[1;33m\u001b[0m\u001b[1;33m\u001b[0m\u001b[0m\n\u001b[0;32m    115\u001b[0m                                                 \u001b[0madd_stats\u001b[0m\u001b[1;33m=\u001b[0m\u001b[0mcustom_stats\u001b[0m\u001b[1;33m,\u001b[0m\u001b[1;33m\u001b[0m\u001b[1;33m\u001b[0m\u001b[0m\n",
      "\u001b[1;32mC:\\Miniconda3\\envs\\osobia\\lib\\site-packages\\rasterstats\\main.py\u001b[0m in \u001b[0;36mzonal_stats\u001b[1;34m(*args, **kwargs)\u001b[0m\n\u001b[0;32m     29\u001b[0m     \u001b[0mThe\u001b[0m \u001b[0monly\u001b[0m \u001b[0mdifference\u001b[0m \u001b[1;32mis\u001b[0m \u001b[0mthat\u001b[0m\u001b[0;31m \u001b[0m\u001b[0;31m`\u001b[0m\u001b[0;31m`\u001b[0m\u001b[0mzonal_stats\u001b[0m\u001b[0;31m`\u001b[0m\u001b[0;31m`\u001b[0m \u001b[0mwill\u001b[0m\u001b[1;33m\u001b[0m\u001b[1;33m\u001b[0m\u001b[0m\n\u001b[0;32m     30\u001b[0m     return a list rather than a generator.\"\"\"\n\u001b[1;32m---> 31\u001b[1;33m     \u001b[1;32mreturn\u001b[0m \u001b[0mlist\u001b[0m\u001b[1;33m(\u001b[0m\u001b[0mgen_zonal_stats\u001b[0m\u001b[1;33m(\u001b[0m\u001b[1;33m*\u001b[0m\u001b[0margs\u001b[0m\u001b[1;33m,\u001b[0m \u001b[1;33m**\u001b[0m\u001b[0mkwargs\u001b[0m\u001b[1;33m)\u001b[0m\u001b[1;33m)\u001b[0m\u001b[1;33m\u001b[0m\u001b[1;33m\u001b[0m\u001b[0m\n\u001b[0m\u001b[0;32m     32\u001b[0m \u001b[1;33m\u001b[0m\u001b[0m\n\u001b[0;32m     33\u001b[0m \u001b[1;33m\u001b[0m\u001b[0m\n",
      "\u001b[1;32mC:\\Miniconda3\\envs\\osobia\\lib\\site-packages\\rasterstats\\main.py\u001b[0m in \u001b[0;36mgen_zonal_stats\u001b[1;34m(vectors, raster, layer, band, nodata, affine, stats, all_touched, categorical, category_map, add_stats, zone_func, raster_out, prefix, geojson_out, **kwargs)\u001b[0m\n\u001b[0;32m    157\u001b[0m \u001b[1;33m\u001b[0m\u001b[0m\n\u001b[0;32m    158\u001b[0m             \u001b[1;31m# rasterized geometry\u001b[0m\u001b[1;33m\u001b[0m\u001b[1;33m\u001b[0m\u001b[1;33m\u001b[0m\u001b[0m\n\u001b[1;32m--> 159\u001b[1;33m             \u001b[0mrv_array\u001b[0m \u001b[1;33m=\u001b[0m \u001b[0mrasterize_geom\u001b[0m\u001b[1;33m(\u001b[0m\u001b[0mgeom\u001b[0m\u001b[1;33m,\u001b[0m \u001b[0mlike\u001b[0m\u001b[1;33m=\u001b[0m\u001b[0mfsrc\u001b[0m\u001b[1;33m,\u001b[0m \u001b[0mall_touched\u001b[0m\u001b[1;33m=\u001b[0m\u001b[0mall_touched\u001b[0m\u001b[1;33m)\u001b[0m\u001b[1;33m\u001b[0m\u001b[1;33m\u001b[0m\u001b[0m\n\u001b[0m\u001b[0;32m    160\u001b[0m \u001b[1;33m\u001b[0m\u001b[0m\n\u001b[0;32m    161\u001b[0m             \u001b[1;31m# nodata mask\u001b[0m\u001b[1;33m\u001b[0m\u001b[1;33m\u001b[0m\u001b[1;33m\u001b[0m\u001b[0m\n",
      "\u001b[1;32mC:\\Miniconda3\\envs\\osobia\\lib\\site-packages\\rasterstats\\utils.py\u001b[0m in \u001b[0;36mrasterize_geom\u001b[1;34m(geom, like, all_touched)\u001b[0m\n\u001b[0;32m     39\u001b[0m     \"\"\"\n\u001b[0;32m     40\u001b[0m     \u001b[0mgeoms\u001b[0m \u001b[1;33m=\u001b[0m \u001b[1;33m[\u001b[0m\u001b[1;33m(\u001b[0m\u001b[0mgeom\u001b[0m\u001b[1;33m,\u001b[0m \u001b[1;36m1\u001b[0m\u001b[1;33m)\u001b[0m\u001b[1;33m]\u001b[0m\u001b[1;33m\u001b[0m\u001b[1;33m\u001b[0m\u001b[0m\n\u001b[1;32m---> 41\u001b[1;33m     rv_array = features.rasterize(\n\u001b[0m\u001b[0;32m     42\u001b[0m         \u001b[0mgeoms\u001b[0m\u001b[1;33m,\u001b[0m\u001b[1;33m\u001b[0m\u001b[1;33m\u001b[0m\u001b[0m\n\u001b[0;32m     43\u001b[0m         \u001b[0mout_shape\u001b[0m\u001b[1;33m=\u001b[0m\u001b[0mlike\u001b[0m\u001b[1;33m.\u001b[0m\u001b[0mshape\u001b[0m\u001b[1;33m,\u001b[0m\u001b[1;33m\u001b[0m\u001b[1;33m\u001b[0m\u001b[0m\n",
      "\u001b[1;32mC:\\Miniconda3\\envs\\osobia\\lib\\site-packages\\rasterio\\env.py\u001b[0m in \u001b[0;36mwrapper\u001b[1;34m(*args, **kwds)\u001b[0m\n\u001b[0;32m    385\u001b[0m         \u001b[1;32melse\u001b[0m\u001b[1;33m:\u001b[0m\u001b[1;33m\u001b[0m\u001b[1;33m\u001b[0m\u001b[0m\n\u001b[0;32m    386\u001b[0m             \u001b[1;32mwith\u001b[0m \u001b[0mEnv\u001b[0m\u001b[1;33m.\u001b[0m\u001b[0mfrom_defaults\u001b[0m\u001b[1;33m(\u001b[0m\u001b[1;33m)\u001b[0m\u001b[1;33m:\u001b[0m\u001b[1;33m\u001b[0m\u001b[1;33m\u001b[0m\u001b[0m\n\u001b[1;32m--> 387\u001b[1;33m                 \u001b[1;32mreturn\u001b[0m \u001b[0mf\u001b[0m\u001b[1;33m(\u001b[0m\u001b[1;33m*\u001b[0m\u001b[0margs\u001b[0m\u001b[1;33m,\u001b[0m \u001b[1;33m**\u001b[0m\u001b[0mkwds\u001b[0m\u001b[1;33m)\u001b[0m\u001b[1;33m\u001b[0m\u001b[1;33m\u001b[0m\u001b[0m\n\u001b[0m\u001b[0;32m    388\u001b[0m     \u001b[1;32mreturn\u001b[0m \u001b[0mwrapper\u001b[0m\u001b[1;33m\u001b[0m\u001b[1;33m\u001b[0m\u001b[0m\n\u001b[0;32m    389\u001b[0m \u001b[1;33m\u001b[0m\u001b[0m\n",
      "\u001b[1;32mC:\\Miniconda3\\envs\\osobia\\lib\\site-packages\\rasterio\\features.py\u001b[0m in \u001b[0;36mrasterize\u001b[1;34m(shapes, out_shape, fill, out, transform, all_touched, merge_alg, default_value, dtype)\u001b[0m\n\u001b[0;32m    290\u001b[0m             \u001b[0mgeom\u001b[0m \u001b[1;33m=\u001b[0m \u001b[0mitem\u001b[0m\u001b[1;33m\u001b[0m\u001b[1;33m\u001b[0m\u001b[0m\n\u001b[0;32m    291\u001b[0m             \u001b[0mvalue\u001b[0m \u001b[1;33m=\u001b[0m \u001b[0mdefault_value\u001b[0m\u001b[1;33m\u001b[0m\u001b[1;33m\u001b[0m\u001b[0m\n\u001b[1;32m--> 292\u001b[1;33m         \u001b[0mgeom\u001b[0m \u001b[1;33m=\u001b[0m \u001b[0mgetattr\u001b[0m\u001b[1;33m(\u001b[0m\u001b[0mgeom\u001b[0m\u001b[1;33m,\u001b[0m \u001b[1;34m'__geo_interface__'\u001b[0m\u001b[1;33m,\u001b[0m \u001b[1;32mNone\u001b[0m\u001b[1;33m)\u001b[0m \u001b[1;32mor\u001b[0m \u001b[0mgeom\u001b[0m\u001b[1;33m\u001b[0m\u001b[1;33m\u001b[0m\u001b[0m\n\u001b[0m\u001b[0;32m    293\u001b[0m \u001b[1;33m\u001b[0m\u001b[0m\n\u001b[0;32m    294\u001b[0m         \u001b[1;32mif\u001b[0m \u001b[0mis_valid_geom\u001b[0m\u001b[1;33m(\u001b[0m\u001b[0mgeom\u001b[0m\u001b[1;33m)\u001b[0m\u001b[1;33m:\u001b[0m\u001b[1;33m\u001b[0m\u001b[1;33m\u001b[0m\u001b[0m\n",
      "\u001b[1;32mC:\\Miniconda3\\envs\\osobia\\lib\\site-packages\\shapely\\geometry\\polygon.py\u001b[0m in \u001b[0;36m__geo_interface__\u001b[1;34m(self)\u001b[0m\n\u001b[0;32m    316\u001b[0m     \u001b[1;33m@\u001b[0m\u001b[0mproperty\u001b[0m\u001b[1;33m\u001b[0m\u001b[1;33m\u001b[0m\u001b[0m\n\u001b[0;32m    317\u001b[0m     \u001b[1;32mdef\u001b[0m \u001b[0m__geo_interface__\u001b[0m\u001b[1;33m(\u001b[0m\u001b[0mself\u001b[0m\u001b[1;33m)\u001b[0m\u001b[1;33m:\u001b[0m\u001b[1;33m\u001b[0m\u001b[1;33m\u001b[0m\u001b[0m\n\u001b[1;32m--> 318\u001b[1;33m         \u001b[1;32mif\u001b[0m \u001b[0mself\u001b[0m\u001b[1;33m.\u001b[0m\u001b[0mexterior\u001b[0m \u001b[1;33m==\u001b[0m \u001b[0mLinearRing\u001b[0m\u001b[1;33m(\u001b[0m\u001b[1;33m)\u001b[0m\u001b[1;33m:\u001b[0m\u001b[1;33m\u001b[0m\u001b[1;33m\u001b[0m\u001b[0m\n\u001b[0m\u001b[0;32m    319\u001b[0m             \u001b[0mcoords\u001b[0m \u001b[1;33m=\u001b[0m \u001b[1;33m[\u001b[0m\u001b[1;33m]\u001b[0m\u001b[1;33m\u001b[0m\u001b[1;33m\u001b[0m\u001b[0m\n\u001b[0;32m    320\u001b[0m         \u001b[1;32melse\u001b[0m\u001b[1;33m:\u001b[0m\u001b[1;33m\u001b[0m\u001b[1;33m\u001b[0m\u001b[0m\n",
      "\u001b[1;32mC:\\Miniconda3\\envs\\osobia\\lib\\site-packages\\shapely\\geometry\\polygon.py\u001b[0m in \u001b[0;36mexterior\u001b[1;34m(self)\u001b[0m\n\u001b[0;32m    252\u001b[0m             \u001b[1;32mreturn\u001b[0m \u001b[0mLinearRing\u001b[0m\u001b[1;33m(\u001b[0m\u001b[1;33m)\u001b[0m\u001b[1;33m\u001b[0m\u001b[1;33m\u001b[0m\u001b[0m\n\u001b[0;32m    253\u001b[0m         \u001b[1;32melif\u001b[0m \u001b[0mself\u001b[0m\u001b[1;33m.\u001b[0m\u001b[0m_exterior\u001b[0m \u001b[1;32mis\u001b[0m \u001b[1;32mNone\u001b[0m \u001b[1;32mor\u001b[0m \u001b[0mself\u001b[0m\u001b[1;33m.\u001b[0m\u001b[0m_exterior\u001b[0m\u001b[1;33m(\u001b[0m\u001b[1;33m)\u001b[0m \u001b[1;32mis\u001b[0m \u001b[1;32mNone\u001b[0m\u001b[1;33m:\u001b[0m\u001b[1;33m\u001b[0m\u001b[1;33m\u001b[0m\u001b[0m\n\u001b[1;32m--> 254\u001b[1;33m             \u001b[0mg\u001b[0m \u001b[1;33m=\u001b[0m \u001b[0mlgeos\u001b[0m\u001b[1;33m.\u001b[0m\u001b[0mGEOSGetExteriorRing\u001b[0m\u001b[1;33m(\u001b[0m\u001b[0mself\u001b[0m\u001b[1;33m.\u001b[0m\u001b[0m_geom\u001b[0m\u001b[1;33m)\u001b[0m\u001b[1;33m\u001b[0m\u001b[1;33m\u001b[0m\u001b[0m\n\u001b[0m\u001b[0;32m    255\u001b[0m             \u001b[0mring\u001b[0m \u001b[1;33m=\u001b[0m \u001b[0mLinearRing\u001b[0m\u001b[1;33m(\u001b[0m\u001b[1;33m)\u001b[0m\u001b[1;33m\u001b[0m\u001b[1;33m\u001b[0m\u001b[0m\n\u001b[0;32m    256\u001b[0m             \u001b[0mring\u001b[0m\u001b[1;33m.\u001b[0m\u001b[0m_geom\u001b[0m \u001b[1;33m=\u001b[0m \u001b[0mg\u001b[0m\u001b[1;33m\u001b[0m\u001b[1;33m\u001b[0m\u001b[0m\n",
      "\u001b[1;31mKeyboardInterrupt\u001b[0m: "
     ]
    }
   ],
   "source": [
    "out_zs = out_vec.replace('/seg', '/zs')\n",
    "calc_zonal_stats(shp=out_vec,\n",
    "                 rasters=[zonal_stats_params],\n",
    "                 compactness=True,\n",
    "                 roundness=True,\n",
    "                 out_path=out_zs)"
   ]
  },
  {
   "cell_type": "markdown",
   "id": "c534958e-3f6e-48bc-8240-05a55afb82c3",
   "metadata": {},
   "source": [
    "## Classification"
   ]
  },
  {
   "cell_type": "markdown",
   "id": "5dfdb3a6-3125-4428-b90b-93606010b3e8",
   "metadata": {
    "tags": []
   },
   "source": [
    "This is done with python+geopandas but could also be done via QGIS+select_by_attribute"
   ]
  },
  {
   "cell_type": "code",
   "execution_count": 23,
   "id": "8c82a9c6",
   "metadata": {
    "tags": []
   },
   "outputs": [
    {
     "data": {
      "text/html": [
       "<div>\n",
       "<style scoped>\n",
       "    .dataframe tbody tr th:only-of-type {\n",
       "        vertical-align: middle;\n",
       "    }\n",
       "\n",
       "    .dataframe tbody tr th {\n",
       "        vertical-align: top;\n",
       "    }\n",
       "\n",
       "    .dataframe thead th {\n",
       "        text-align: right;\n",
       "    }\n",
       "</style>\n",
       "<table border=\"1\" class=\"dataframe\">\n",
       "  <thead>\n",
       "    <tr style=\"text-align: right;\">\n",
       "      <th></th>\n",
       "      <th>raster_val</th>\n",
       "      <th>imgb1_max</th>\n",
       "      <th>imgb1_mean</th>\n",
       "      <th>imgb2_max</th>\n",
       "      <th>imgb2_mean</th>\n",
       "      <th>imgb3_max</th>\n",
       "      <th>imgb3_mean</th>\n",
       "      <th>imgb4_max</th>\n",
       "      <th>imgb4_mean</th>\n",
       "      <th>nDSM_mean</th>\n",
       "      <th>roughness_mean</th>\n",
       "      <th>ndvi_mean</th>\n",
       "      <th>area_zs</th>\n",
       "      <th>compactness</th>\n",
       "      <th>roundness</th>\n",
       "      <th>geometry</th>\n",
       "    </tr>\n",
       "  </thead>\n",
       "  <tbody>\n",
       "    <tr>\n",
       "      <th>3032</th>\n",
       "      <td>2966.0</td>\n",
       "      <td>178.0</td>\n",
       "      <td>110.848617</td>\n",
       "      <td>178.0</td>\n",
       "      <td>128.618632</td>\n",
       "      <td>146.0</td>\n",
       "      <td>86.767103</td>\n",
       "      <td>213.0</td>\n",
       "      <td>178.369723</td>\n",
       "      <td>4.277692</td>\n",
       "      <td>6.764251</td>\n",
       "      <td>0.336449</td>\n",
       "      <td>247.32</td>\n",
       "      <td>0.440464</td>\n",
       "      <td>2.270333</td>\n",
       "      <td>POLYGON ((468639.000 4983804.000, 468639.000 4...</td>\n",
       "    </tr>\n",
       "    <tr>\n",
       "      <th>6203</th>\n",
       "      <td>6113.0</td>\n",
       "      <td>205.0</td>\n",
       "      <td>166.098529</td>\n",
       "      <td>204.0</td>\n",
       "      <td>153.538235</td>\n",
       "      <td>193.0</td>\n",
       "      <td>143.951471</td>\n",
       "      <td>128.0</td>\n",
       "      <td>48.447059</td>\n",
       "      <td>4.706129</td>\n",
       "      <td>2.524435</td>\n",
       "      <td>-0.494910</td>\n",
       "      <td>244.80</td>\n",
       "      <td>0.342298</td>\n",
       "      <td>2.921429</td>\n",
       "      <td>POLYGON ((468577.800 4983394.800, 468577.800 4...</td>\n",
       "    </tr>\n",
       "    <tr>\n",
       "      <th>8187</th>\n",
       "      <td>8174.0</td>\n",
       "      <td>121.0</td>\n",
       "      <td>88.331565</td>\n",
       "      <td>153.0</td>\n",
       "      <td>110.360743</td>\n",
       "      <td>99.0</td>\n",
       "      <td>81.726790</td>\n",
       "      <td>208.0</td>\n",
       "      <td>172.480106</td>\n",
       "      <td>2.735971</td>\n",
       "      <td>4.988777</td>\n",
       "      <td>0.346639</td>\n",
       "      <td>135.72</td>\n",
       "      <td>0.455356</td>\n",
       "      <td>2.196085</td>\n",
       "      <td>POLYGON ((468972.000 4983097.800, 468972.000 4...</td>\n",
       "    </tr>\n",
       "    <tr>\n",
       "      <th>2708</th>\n",
       "      <td>2704.0</td>\n",
       "      <td>98.0</td>\n",
       "      <td>73.754839</td>\n",
       "      <td>127.0</td>\n",
       "      <td>91.425806</td>\n",
       "      <td>81.0</td>\n",
       "      <td>68.587097</td>\n",
       "      <td>192.0</td>\n",
       "      <td>149.638710</td>\n",
       "      <td>8.837273</td>\n",
       "      <td>11.828546</td>\n",
       "      <td>0.365994</td>\n",
       "      <td>55.80</td>\n",
       "      <td>0.447150</td>\n",
       "      <td>2.236384</td>\n",
       "      <td>POLYGON ((468237.000 4983816.000, 468237.000 4...</td>\n",
       "    </tr>\n",
       "    <tr>\n",
       "      <th>858</th>\n",
       "      <td>859.0</td>\n",
       "      <td>0.0</td>\n",
       "      <td>0.000000</td>\n",
       "      <td>0.0</td>\n",
       "      <td>0.000000</td>\n",
       "      <td>0.0</td>\n",
       "      <td>0.000000</td>\n",
       "      <td>0.0</td>\n",
       "      <td>0.000000</td>\n",
       "      <td>NaN</td>\n",
       "      <td>NaN</td>\n",
       "      <td>NaN</td>\n",
       "      <td>0.36</td>\n",
       "      <td>0.785398</td>\n",
       "      <td>1.273240</td>\n",
       "      <td>POLYGON ((468120.600 4983821.400, 468120.600 4...</td>\n",
       "    </tr>\n",
       "  </tbody>\n",
       "</table>\n",
       "</div>"
      ],
      "text/plain": [
       "      raster_val  imgb1_max  imgb1_mean  imgb2_max  imgb2_mean  imgb3_max  \\\n",
       "3032      2966.0      178.0  110.848617      178.0  128.618632      146.0   \n",
       "6203      6113.0      205.0  166.098529      204.0  153.538235      193.0   \n",
       "8187      8174.0      121.0   88.331565      153.0  110.360743       99.0   \n",
       "2708      2704.0       98.0   73.754839      127.0   91.425806       81.0   \n",
       "858        859.0        0.0    0.000000        0.0    0.000000        0.0   \n",
       "\n",
       "      imgb3_mean  imgb4_max  imgb4_mean  nDSM_mean  roughness_mean  ndvi_mean  \\\n",
       "3032   86.767103      213.0  178.369723   4.277692        6.764251   0.336449   \n",
       "6203  143.951471      128.0   48.447059   4.706129        2.524435  -0.494910   \n",
       "8187   81.726790      208.0  172.480106   2.735971        4.988777   0.346639   \n",
       "2708   68.587097      192.0  149.638710   8.837273       11.828546   0.365994   \n",
       "858     0.000000        0.0    0.000000        NaN             NaN        NaN   \n",
       "\n",
       "      area_zs  compactness  roundness  \\\n",
       "3032   247.32     0.440464   2.270333   \n",
       "6203   244.80     0.342298   2.921429   \n",
       "8187   135.72     0.455356   2.196085   \n",
       "2708    55.80     0.447150   2.236384   \n",
       "858      0.36     0.785398   1.273240   \n",
       "\n",
       "                                               geometry  \n",
       "3032  POLYGON ((468639.000 4983804.000, 468639.000 4...  \n",
       "6203  POLYGON ((468577.800 4983394.800, 468577.800 4...  \n",
       "8187  POLYGON ((468972.000 4983097.800, 468972.000 4...  \n",
       "2708  POLYGON ((468237.000 4983816.000, 468237.000 4...  \n",
       "858   POLYGON ((468120.600 4983821.400, 468120.600 4...  "
      ]
     },
     "execution_count": 23,
     "metadata": {},
     "output_type": "execute_result"
    }
   ],
   "source": [
    "obj = read_vec(out_zs)\n",
    "obj.sample(5)"
   ]
  },
  {
   "cell_type": "code",
   "execution_count": 24,
   "id": "0f30d6c6",
   "metadata": {
    "tags": []
   },
   "outputs": [
    {
     "data": {
      "text/html": [
       "<div>\n",
       "<style scoped>\n",
       "    .dataframe tbody tr th:only-of-type {\n",
       "        vertical-align: middle;\n",
       "    }\n",
       "\n",
       "    .dataframe tbody tr th {\n",
       "        vertical-align: top;\n",
       "    }\n",
       "\n",
       "    .dataframe thead th {\n",
       "        text-align: right;\n",
       "    }\n",
       "</style>\n",
       "<table border=\"1\" class=\"dataframe\">\n",
       "  <thead>\n",
       "    <tr style=\"text-align: right;\">\n",
       "      <th></th>\n",
       "      <th>raster_val</th>\n",
       "      <th>imgb1_max</th>\n",
       "      <th>imgb1_mean</th>\n",
       "      <th>imgb2_max</th>\n",
       "      <th>imgb2_mean</th>\n",
       "      <th>imgb3_max</th>\n",
       "      <th>imgb3_mean</th>\n",
       "      <th>imgb4_max</th>\n",
       "      <th>imgb4_mean</th>\n",
       "      <th>nDSM_mean</th>\n",
       "      <th>roughness_mean</th>\n",
       "      <th>ndvi_mean</th>\n",
       "      <th>area_zs</th>\n",
       "      <th>compactness</th>\n",
       "      <th>roundness</th>\n",
       "    </tr>\n",
       "  </thead>\n",
       "  <tbody>\n",
       "    <tr>\n",
       "      <th>count</th>\n",
       "      <td>9033.000000</td>\n",
       "      <td>9033.000000</td>\n",
       "      <td>9033.000000</td>\n",
       "      <td>9033.000000</td>\n",
       "      <td>9033.000000</td>\n",
       "      <td>9033.000000</td>\n",
       "      <td>9033.000000</td>\n",
       "      <td>9033.000000</td>\n",
       "      <td>9033.000000</td>\n",
       "      <td>5270.000000</td>\n",
       "      <td>5259.000000</td>\n",
       "      <td>5269.000000</td>\n",
       "      <td>9033.000000</td>\n",
       "      <td>9033.000000</td>\n",
       "      <td>9033.000000</td>\n",
       "    </tr>\n",
       "    <tr>\n",
       "      <th>mean</th>\n",
       "      <td>4517.000000</td>\n",
       "      <td>87.438282</td>\n",
       "      <td>61.142690</td>\n",
       "      <td>87.693457</td>\n",
       "      <td>63.626343</td>\n",
       "      <td>76.348279</td>\n",
       "      <td>55.630130</td>\n",
       "      <td>85.700100</td>\n",
       "      <td>51.341469</td>\n",
       "      <td>2.890653</td>\n",
       "      <td>3.735777</td>\n",
       "      <td>-0.150868</td>\n",
       "      <td>144.217762</td>\n",
       "      <td>0.559391</td>\n",
       "      <td>2.131951</td>\n",
       "    </tr>\n",
       "    <tr>\n",
       "      <th>std</th>\n",
       "      <td>2607.746824</td>\n",
       "      <td>80.832053</td>\n",
       "      <td>60.440066</td>\n",
       "      <td>79.430565</td>\n",
       "      <td>60.233265</td>\n",
       "      <td>71.472467</td>\n",
       "      <td>52.404200</td>\n",
       "      <td>85.796136</td>\n",
       "      <td>59.857532</td>\n",
       "      <td>3.391132</td>\n",
       "      <td>4.032175</td>\n",
       "      <td>0.371883</td>\n",
       "      <td>293.472714</td>\n",
       "      <td>0.207961</td>\n",
       "      <td>1.070550</td>\n",
       "    </tr>\n",
       "    <tr>\n",
       "      <th>min</th>\n",
       "      <td>1.000000</td>\n",
       "      <td>0.000000</td>\n",
       "      <td>0.000000</td>\n",
       "      <td>0.000000</td>\n",
       "      <td>0.000000</td>\n",
       "      <td>0.000000</td>\n",
       "      <td>0.000000</td>\n",
       "      <td>0.000000</td>\n",
       "      <td>0.000000</td>\n",
       "      <td>-0.021763</td>\n",
       "      <td>0.000000</td>\n",
       "      <td>-0.913682</td>\n",
       "      <td>0.360000</td>\n",
       "      <td>0.047589</td>\n",
       "      <td>1.273240</td>\n",
       "    </tr>\n",
       "    <tr>\n",
       "      <th>25%</th>\n",
       "      <td>2259.000000</td>\n",
       "      <td>0.000000</td>\n",
       "      <td>0.000000</td>\n",
       "      <td>0.000000</td>\n",
       "      <td>0.000000</td>\n",
       "      <td>0.000000</td>\n",
       "      <td>0.000000</td>\n",
       "      <td>0.000000</td>\n",
       "      <td>0.000000</td>\n",
       "      <td>0.063125</td>\n",
       "      <td>0.368812</td>\n",
       "      <td>-0.425017</td>\n",
       "      <td>0.360000</td>\n",
       "      <td>0.375953</td>\n",
       "      <td>1.273240</td>\n",
       "    </tr>\n",
       "    <tr>\n",
       "      <th>50%</th>\n",
       "      <td>4517.000000</td>\n",
       "      <td>94.000000</td>\n",
       "      <td>65.362903</td>\n",
       "      <td>104.000000</td>\n",
       "      <td>69.586057</td>\n",
       "      <td>85.000000</td>\n",
       "      <td>70.303371</td>\n",
       "      <td>72.000000</td>\n",
       "      <td>28.644444</td>\n",
       "      <td>1.495482</td>\n",
       "      <td>2.293838</td>\n",
       "      <td>-0.135668</td>\n",
       "      <td>45.720000</td>\n",
       "      <td>0.512254</td>\n",
       "      <td>1.952156</td>\n",
       "    </tr>\n",
       "    <tr>\n",
       "      <th>75%</th>\n",
       "      <td>6775.000000</td>\n",
       "      <td>163.000000</td>\n",
       "      <td>101.583333</td>\n",
       "      <td>159.000000</td>\n",
       "      <td>114.385519</td>\n",
       "      <td>134.000000</td>\n",
       "      <td>87.897872</td>\n",
       "      <td>175.000000</td>\n",
       "      <td>96.032653</td>\n",
       "      <td>4.760528</td>\n",
       "      <td>6.020273</td>\n",
       "      <td>0.204322</td>\n",
       "      <td>177.840000</td>\n",
       "      <td>0.785398</td>\n",
       "      <td>2.659910</td>\n",
       "    </tr>\n",
       "    <tr>\n",
       "      <th>max</th>\n",
       "      <td>9033.000000</td>\n",
       "      <td>255.000000</td>\n",
       "      <td>231.715447</td>\n",
       "      <td>255.000000</td>\n",
       "      <td>228.756098</td>\n",
       "      <td>255.000000</td>\n",
       "      <td>222.398374</td>\n",
       "      <td>255.000000</td>\n",
       "      <td>211.557692</td>\n",
       "      <td>18.680612</td>\n",
       "      <td>22.409891</td>\n",
       "      <td>0.420029</td>\n",
       "      <td>6719.400000</td>\n",
       "      <td>0.785398</td>\n",
       "      <td>21.013426</td>\n",
       "    </tr>\n",
       "  </tbody>\n",
       "</table>\n",
       "</div>"
      ],
      "text/plain": [
       "        raster_val    imgb1_max   imgb1_mean    imgb2_max   imgb2_mean  \\\n",
       "count  9033.000000  9033.000000  9033.000000  9033.000000  9033.000000   \n",
       "mean   4517.000000    87.438282    61.142690    87.693457    63.626343   \n",
       "std    2607.746824    80.832053    60.440066    79.430565    60.233265   \n",
       "min       1.000000     0.000000     0.000000     0.000000     0.000000   \n",
       "25%    2259.000000     0.000000     0.000000     0.000000     0.000000   \n",
       "50%    4517.000000    94.000000    65.362903   104.000000    69.586057   \n",
       "75%    6775.000000   163.000000   101.583333   159.000000   114.385519   \n",
       "max    9033.000000   255.000000   231.715447   255.000000   228.756098   \n",
       "\n",
       "         imgb3_max   imgb3_mean    imgb4_max   imgb4_mean    nDSM_mean  \\\n",
       "count  9033.000000  9033.000000  9033.000000  9033.000000  5270.000000   \n",
       "mean     76.348279    55.630130    85.700100    51.341469     2.890653   \n",
       "std      71.472467    52.404200    85.796136    59.857532     3.391132   \n",
       "min       0.000000     0.000000     0.000000     0.000000    -0.021763   \n",
       "25%       0.000000     0.000000     0.000000     0.000000     0.063125   \n",
       "50%      85.000000    70.303371    72.000000    28.644444     1.495482   \n",
       "75%     134.000000    87.897872   175.000000    96.032653     4.760528   \n",
       "max     255.000000   222.398374   255.000000   211.557692    18.680612   \n",
       "\n",
       "       roughness_mean    ndvi_mean      area_zs  compactness    roundness  \n",
       "count     5259.000000  5269.000000  9033.000000  9033.000000  9033.000000  \n",
       "mean         3.735777    -0.150868   144.217762     0.559391     2.131951  \n",
       "std          4.032175     0.371883   293.472714     0.207961     1.070550  \n",
       "min          0.000000    -0.913682     0.360000     0.047589     1.273240  \n",
       "25%          0.368812    -0.425017     0.360000     0.375953     1.273240  \n",
       "50%          2.293838    -0.135668    45.720000     0.512254     1.952156  \n",
       "75%          6.020273     0.204322   177.840000     0.785398     2.659910  \n",
       "max         22.409891     0.420029  6719.400000     0.785398    21.013426  "
      ]
     },
     "execution_count": 24,
     "metadata": {},
     "output_type": "execute_result"
    }
   ],
   "source": [
    "obj.describe()"
   ]
  },
  {
   "cell_type": "code",
   "execution_count": 25,
   "id": "45f7c7b6",
   "metadata": {
    "tags": []
   },
   "outputs": [],
   "source": [
    "# Field names\n",
    "ndvi_mean = 'ndvi_mean'\n",
    "ndsm_mean = 'nDSM_mean'\n",
    "roughness_mean = 'roughness_mean'\n",
    "imgb1_mean = 'imgb1_mean'\n",
    "imgb2_mean = 'imgb2_mean'\n",
    "imgb3_mean = 'imgb3_mean'\n",
    "imgb4_mean = 'imgb4_mean'\n",
    "roundness = 'roundness'\n",
    "# Class names\n",
    "trees = 'trees'\n",
    "water = 'water'\n",
    "open_green = 'open_green'\n",
    "buildings = 'buildings'\n",
    "roads_pave = 'roads_pavement'\n",
    "shadow = 'shadow'\n",
    "# Add a field to hold the class\n",
    "CLASS = 'class'\n",
    "obj[CLASS] = None\n",
    "\n",
    "\n",
    "def apply_rules(gdf, rules, class_name, unclass_only=True):\n",
    "    \"\"\"Function to apply rules\"\"\"\n",
    "    # Look up strings operators to get function\n",
    "    op_lut = {'>': operator.gt,\n",
    "              '<': operator.lt}\n",
    "    \n",
    "    matches = copy.deepcopy(gdf)\n",
    "    for field, op, val in rules:\n",
    "        if isinstance(op, str):\n",
    "            # if  a string is passed, get the function\n",
    "            op = op_lut[op]\n",
    "        matches = matches[op(matches[field], val)]\n",
    "    root_logger.info(f'Objects to be classified as {class_name}: {len(matches)}')\n",
    "    if unclass_only:\n",
    "        # Index in matches and not classified yet\n",
    "        gdf.loc[gdf.index.isin(matches.index) & gdf[CLASS].isnull(), CLASS] = class_name\n",
    "    else:\n",
    "        # Index in matches - would overwrite class if present\n",
    "        gdf.loc[gdf.index.isin(matches.index), CLASS] = class_name\n",
    "    root_logger.info(f'Objects classified as {class_name}: {len(gdf[gdf[CLASS]==class_name])}')\n",
    "    root_logger.debug(f'Remaining unclassified: {len(gdf[gdf[CLASS].isnull()])}')\n",
    "    return gdf"
   ]
  },
  {
   "cell_type": "code",
   "execution_count": 26,
   "id": "384394db",
   "metadata": {
    "tags": []
   },
   "outputs": [
    {
     "name": "stdout",
     "output_type": "stream",
     "text": [
      "2021-04-23 11:38:13,174 - root - INFO - Classifying: trees\n",
      "2021-04-23 11:38:13,302 - root - INFO - Objects to be classified as trees: 1634\n",
      "2021-04-23 11:38:13,354 - root - INFO - Objects classified as trees: 1634\n",
      "2021-04-23 11:38:13,386 - root - INFO - Classifying: water\n",
      "2021-04-23 11:38:13,495 - root - INFO - Objects to be classified as water: 463\n",
      "2021-04-23 11:38:13,519 - root - INFO - Objects classified as water: 463\n",
      "2021-04-23 11:38:13,546 - root - INFO - Classifying: open_green\n",
      "2021-04-23 11:38:13,620 - root - INFO - Objects to be classified as open_green: 424\n",
      "2021-04-23 11:38:13,650 - root - INFO - Objects classified as open_green: 387\n",
      "2021-04-23 11:38:13,669 - root - INFO - Classifying: buildings\n",
      "2021-04-23 11:38:13,758 - root - INFO - Objects to be classified as buildings: 995\n",
      "2021-04-23 11:38:13,780 - root - INFO - Objects classified as buildings: 995\n",
      "2021-04-23 11:38:13,813 - root - INFO - Classifying: roads_pavement\n",
      "2021-04-23 11:38:14,043 - root - INFO - Objects to be classified as roads_pavement: 1355\n",
      "2021-04-23 11:38:14,073 - root - INFO - Objects classified as roads_pavement: 917\n",
      "2021-04-23 11:38:14,103 - root - INFO - Classifying: shadow\n",
      "2021-04-23 11:38:14,229 - root - INFO - Objects to be classified as shadow: 7127\n",
      "2021-04-23 11:38:14,251 - root - INFO - Objects classified as shadow: 4445\n"
     ]
    }
   ],
   "source": [
    "# Trees\n",
    "tree_rules = [\n",
    "    (ndvi_mean, '>', 0),\n",
    "    (ndsm_mean, '>', 0.75),\n",
    "    (roughness_mean, '>', 1.25)\n",
    "]\n",
    "# Water\n",
    "water_rules = [\n",
    "    (ndvi_mean, '<', 0),\n",
    "    (roughness_mean, '<', 0.13),\n",
    "    (ndsm_mean, '<', 1),\n",
    "    (imgb4_mean, '<', 10)\n",
    "]\n",
    "# Open Green Space\n",
    "open_rules = [\n",
    "    (ndvi_mean, '>', 0.1),\n",
    "    (ndsm_mean, '<', 1)\n",
    "]\n",
    "# Buildings\n",
    "build_rules = [\n",
    "    (ndvi_mean, '<', 0),\n",
    "    (ndsm_mean, '>', 2),\n",
    "]\n",
    "# Roads and pavement\n",
    "roads_rules = [\n",
    "    (ndvi_mean, '<', 0),\n",
    "    (ndsm_mean, '<', 1),\n",
    "    (roughness_mean, '<', 1.5),\n",
    "    (roundness, '>', 2)\n",
    "]\n",
    "# Shadow\n",
    "shadow_rules = [\n",
    "    (imgb1_mean, '<', 150),\n",
    "    (imgb2_mean, '<', 150),\n",
    "    (imgb3_mean, '<', 150),\n",
    "    (imgb4_mean, '<', 150)\n",
    "]\n",
    "classes = [trees, water, open_green, buildings, roads_pave, shadow]\n",
    "rules = [tree_rules, water_rules, open_rules, build_rules, roads_rules, shadow_rules]\n",
    "classes_rules = zip(classes, rules)\n",
    "for class_name, class_rules in classes_rules:\n",
    "    root_logger.info(f'Classifying: {class_name}')\n",
    "    obj = apply_rules(obj, class_rules, class_name)"
   ]
  },
  {
   "cell_type": "markdown",
   "id": "f50192a1-cf6c-4168-a7ae-be9cb5f1b632",
   "metadata": {
    "tags": []
   },
   "source": [
    "Other rules are possible, but complicated.  \n",
    "* OR rules  \n",
    "* adjacency\n"
   ]
  },
  {
   "cell_type": "code",
   "execution_count": 27,
   "id": "f147a926",
   "metadata": {
    "tags": []
   },
   "outputs": [
    {
     "name": "stdout",
     "output_type": "stream",
     "text": [
      "results\\seg\\naip_m_4509361_se_15_060_20190727_aoi_bst100ni100s0spec0x6spat25.gpkg/classified\n"
     ]
    }
   ],
   "source": [
    "# Write classification\n",
    "out_class = out_vec.replace('/seg', '/classified')\n",
    "# write_gdf(obj, out_class)\n",
    "print(out_class)"
   ]
  }
 ],
 "metadata": {
  "kernelspec": {
   "display_name": "Python 3",
   "language": "python",
   "name": "python3"
  },
  "language_info": {
   "codemirror_mode": {
    "name": "ipython",
    "version": 3
   },
   "file_extension": ".py",
   "mimetype": "text/x-python",
   "name": "python",
   "nbconvert_exporter": "python",
   "pygments_lexer": "ipython3",
   "version": "3.9.2"
  }
 },
 "nbformat": 4,
 "nbformat_minor": 5
}
