{
 "cells": [
  {
   "cell_type": "markdown",
   "id": "19c870b2-09a6-4da7-ba9b-e45dbf4282dc",
   "metadata": {},
   "source": [
    "# Open Source Object-Based-Image-Analysis"
   ]
  },
  {
   "cell_type": "markdown",
   "id": "e247b100-6e4e-4ad8-b6d2-164f349c5124",
   "metadata": {},
   "source": [
    "*The great thing about python is...*  \n",
    "<img src=\"img/build_it2.png\" width=\"600\">"
   ]
  },
  {
   "cell_type": "markdown",
   "id": "37a92940",
   "metadata": {
    "tags": []
   },
   "source": [
    "### What is OBIA really?\n",
    "Derivatives -> Segmentation -> Zonal statistics -> Classification "
   ]
  },
  {
   "cell_type": "markdown",
   "id": "ba7a5633",
   "metadata": {},
   "source": [
    "\n",
    "\n",
    "\n"
   ]
  },
  {
   "cell_type": "markdown",
   "id": "2d723b0a",
   "metadata": {
    "tags": []
   },
   "source": [
    "## Stack\n",
    "# **python:**\n",
    "# ![python](img/python_logo.png)  +  ![gdal](img/gdalicon.png)  \n",
    "\n",
    "    - [geopandas](https://geopandas.org): vector (image object) manipulation  \n",
    "    - [rasterio](https://rasterio.readthedocs.io/en/latest/): raster loading/manipulation  \n",
    "    - [rasterstats](https://pythonhosted.org/rasterstats/): zonal statistics  \n",
    "*The use of anaconda/miniconda is *highly* recommended for managing python dependencies, specifically installing packages from the `conda-forge` channel.*  \n",
    "\n",
    "\n",
    "![wbt](img/WhiteBoxToolsLogo_vert.png)  \n",
    "[WhiteBoxTools](https://jblindsay.github.io/wbt_book/intro.html): raster derivatives, specifically geomorphometic analyses.  \n",
    "*Has python bindings, but tough to integrate with other dependencies, so called from the command line.*  \n",
    "  \n",
    "![orfeo](img/logo-orfeo-toolbox.png)  \n",
    "[**Orfeo Toolbox**](https://www.orfeo-toolbox.org/CookBook/): segmentation (also has general GIS tools).  \n",
    "*Has python bindings, but tough to integrate with other dependencies, so called from the command line.*  \n",
    "\n",
    "[**QGIS**](https://qgis.org/en/site/): Viewing outputs, general GIS."
   ]
  },
  {
   "cell_type": "markdown",
   "id": "05836110",
   "metadata": {
    "tags": []
   },
   "source": [
    "## Imports + Logging Set up"
   ]
  },
  {
   "cell_type": "code",
   "execution_count": 27,
   "id": "33674424",
   "metadata": {
    "tags": []
   },
   "outputs": [],
   "source": [
    "# Standard lib\n",
    "import copy\n",
    "import logging\n",
    "import numpy as np\n",
    "import operator\n",
    "from pathlib import Path\n",
    "from pprint import pprint\n",
    "import warnings\n",
    "import sys\n",
    "\n",
    "# Installed packages\n",
    "from osgeo import gdal, osr\n",
    "import geopandas\n",
    "import rasterio\n",
    "import rasterstats\n",
    "from skimage.segmentation import quickshift\n",
    "import scipy\n",
    "\n",
    "# Local packages\n",
    "from lib import (run_subprocess, clean4cmdline, create_grm_outname,\n",
    "                 rio_polygonize, read_vec, write_gdf, write_array)\n",
    "from calc_zonal_stats import calc_zonal_stats"
   ]
  },
  {
   "cell_type": "code",
   "execution_count": 2,
   "id": "72a02d34",
   "metadata": {
    "tags": []
   },
   "outputs": [],
   "source": [
    "# Set up logger\n",
    "logger = logging.getLogger(__name__)\n",
    "logger.setLevel(logging.DEBUG)\n",
    "ch = logging.StreamHandler(sys.stdout)\n",
    "formatter = logging.Formatter(\n",
    "    '%(asctime)s - %(name)s - %(levelname)s - %(message)s')\n",
    "ch.setFormatter(formatter)\n",
    "logger.addHandler(ch)\n",
    "\n",
    "warnings.filterwarnings('ignore', category=RuntimeWarning message='Sequential read of iterator*')"
   ]
  },
  {
   "cell_type": "markdown",
   "id": "6703ac81",
   "metadata": {},
   "source": [
    "## Paths (Orfeo + Data)"
   ]
  },
  {
   "cell_type": "code",
   "execution_count": 3,
   "id": "ecd7d76f",
   "metadata": {
    "tags": []
   },
   "outputs": [
    {
     "name": "stdout",
     "output_type": "stream",
     "text": [
      "2021-04-23 08:20:37,773 - __main__ - INFO - All files/folders located.\n"
     ]
    }
   ],
   "source": [
    "# Orfeo setup and tools\n",
    "otb = Path(r'C:\\OTB-7.2.0-Win64\\OTB-7.2.0-Win64')\n",
    "otb_init = otb / 'otbenv.bat'\n",
    "otb_bin = otb / 'bin'\n",
    "otb_grm = otb_bin / 'otbcli_GenericRegionMerging.bat'\n",
    "# otb_lsms = otb_bin / 'otbcli_LargeScaleMeanShift.bat'\n",
    "\n",
    "# Data\n",
    "data_dir = Path(r'./data')\n",
    "img = data_dir / 'naip_m_4509361_se_15_060_20190727_aoi.tif'\n",
    "ndsm = data_dir / 'nDSM_clip_fill.tif'\n",
    "ndvi = data_dir / 'ndvi_naip_m_4509361_se_15_060_20190727_aoi.tif'\n",
    "roughness = data_dir / 'nDSM_clip_fill_roughness.tif'\n",
    "\n",
    "# Out paths\n",
    "out_dir = Path(r'./results')\n",
    "seg_dir = out_dir / 'seg'\n",
    "\n",
    "# Ensure all exist\n",
    "missing_files = []\n",
    "for file_path in [data_dir, img, ndsm, ndvi, roughness, out_dir]:\n",
    "    if not file_path.exists():\n",
    "        missing_files.append(file_path)\n",
    "if len(missing_files) > 0:\n",
    "    for file_path in missing_files:\n",
    "        logger.error(f'Missing file/folder: {file_path}')\n",
    "else:\n",
    "    logger.info('All files/folders located.')"
   ]
  },
  {
   "cell_type": "markdown",
   "id": "e2af1a92",
   "metadata": {
    "tags": []
   },
   "source": [
    "### Check out input data\n",
    "(how it was created, etc), histogram of values in image (qgis), profile, stats of image to seg"
   ]
  },
  {
   "cell_type": "markdown",
   "id": "2932346b",
   "metadata": {
    "tags": []
   },
   "source": [
    "## Segmentation"
   ]
  },
  {
   "cell_type": "markdown",
   "id": "ebfc3ddb",
   "metadata": {
    "tags": []
   },
   "source": [
    "#### Generic Region Merging\n",
    "[otb docs](https://www.orfeo-toolbox.org/CookBook/Applications/app_GenericRegionMerging.html?highlight=generic%20region%20merging)"
   ]
  },
  {
   "cell_type": "code",
   "execution_count": 5,
   "id": "4c7b71b2",
   "metadata": {
    "tags": []
   },
   "outputs": [
    {
     "name": "stdout",
     "output_type": "stream",
     "text": [
      "2021-04-23 08:28:59,047 - __main__ - INFO - Out image: results\\seg\\naip_m_4509361_se_15_060_20190727_aoi_bst100ni100s0spec0x6spat25.tif\n"
     ]
    }
   ],
   "source": [
    "# Parameters\n",
    "# Homogeneity criterion to use. The default is 'bs'. One of: [bs, ed, fls]\n",
    "criterion = 'bs'\n",
    "threshold = 100\n",
    "niter = 100\n",
    "spectral_w = 0.6 # spectral weight, higher values slow processing time\n",
    "spatial_w = 25 # spatial weight\n",
    "out_img = create_grm_outname(img=img,\n",
    "                             out_dir=seg_dir,\n",
    "                             criterion=criterion,\n",
    "                             threshold=threshold,\n",
    "                             niter=niter,\n",
    "                             spectral=spectral_w,\n",
    "                             spatial=spatial_w)\n",
    "logger.info(f'Out image: {out_img}')"
   ]
  },
  {
   "cell_type": "code",
   "execution_count": 6,
   "id": "eb2e7038",
   "metadata": {
    "tags": []
   },
   "outputs": [
    {
     "name": "stdout",
     "output_type": "stream",
     "text": [
      "2021-04-23 08:29:42,523 - __main__ - INFO - OTB command:\n",
      "\"C:\\OTB-7.2.0-Win64\\OTB-7.2.0-Win64\\bin\\otbcli_GenericRegionMerging.bat\" -in data\\naip_m_4509361_se_15_060_20190727_aoi.tif -out results\\seg\\naip_m_4509361_se_15_060_20190727_aoi_bst100ni100s0spec0x6spat25.tif -criterion bs -threshold 100 -niter 100 -cw 0.6 -sw 25\n",
      "2021-04-23 08:29:42,527 - __main__ - DEBUG - OTB full command:\n",
      "C:\\OTB-7.2.0-Win64\\OTB-7.2.0-Win64\\otbenv.bat && \"C:\\OTB-7.2.0-Win64\\OTB-7.2.0-Win64\\bin\\otbcli_GenericRegionMerging.bat\" -in data\\naip_m_4509361_se_15_060_20190727_aoi.tif -out results\\seg\\naip_m_4509361_se_15_060_20190727_aoi_bst100ni100s0spec0x6spat25.tif -criterion bs -threshold 100 -niter 100 -cw 0.6 -sw 25\n"
     ]
    }
   ],
   "source": [
    "# Build the command\n",
    "otb_cmd = f\"\"\"\n",
    "\"{otb_grm}\"\n",
    "-in {str(img)}\n",
    "-out {str(out_img)}\n",
    "-criterion {criterion}\n",
    "-threshold {threshold}\n",
    "-niter {niter}\n",
    "-cw {spectral_w}\n",
    "-sw {spatial_w}\"\"\"\n",
    "\n",
    "otb_cmd = clean4cmdline(otb_cmd)\n",
    "logger.info(f'OTB command:\\n{otb_cmd}')\n",
    "otb_cmd = f'{otb_init} && {otb_cmd}'\n",
    "logger.debug(f'OTB full command:\\n{otb_cmd}')"
   ]
  },
  {
   "cell_type": "code",
   "execution_count": 7,
   "id": "10684db7",
   "metadata": {
    "tags": []
   },
   "outputs": [
    {
     "name": "stderr",
     "output_type": "stream",
     "text": [
      "2021-04-23 08:32:05,336 - lib - INFO - 2021-04-23 08:31:52 (INFO) GenericRegionMerging: Default RAM limit for OTB is 256 MB\n",
      "\n",
      "2021-04-23 08:32:05,338 - lib - INFO - 2021-04-23 08:31:52 (INFO) GenericRegionMerging: GDAL maximum cache size is 400 MB\n",
      "\n",
      "2021-04-23 08:32:05,339 - lib - INFO - 2021-04-23 08:31:52 (INFO) GenericRegionMerging: OTB will use at most 8 threads\n",
      "\n",
      "2021-04-23 08:33:18,281 - lib - INFO - ....................................................................................................\n",
      "\n",
      "2021-04-23 08:33:21,977 - lib - INFO - 2021-04-23 08:33:21 (INFO): Estimated memory for full processing: 68.9824MB (avail.: 256 MB), optimal image partitioning: 1 blocks\n",
      "\n",
      "2021-04-23 08:33:21,985 - lib - INFO - 2021-04-23 08:33:21 (INFO): File results\\seg\\naip_m_4509361_se_15_060_20190727_aoi_bst100ni100s0spec0x6spat25.tif will be written in 1 blocks of 2506x1444 pixels\n",
      "\n",
      "2021-04-23 08:33:21,986 - lib - INFO - Writing results\\seg\\naip_m_4509361_se_15_060_20190727_aoi_bst100ni100s0spec0x6spat25.tif...: 100% [**************************************************] (0s)\n",
      "\n"
     ]
    }
   ],
   "source": [
    "run_subprocess(otb_cmd)"
   ]
  },
  {
   "cell_type": "markdown",
   "id": "7d5530e7",
   "metadata": {
    "tags": []
   },
   "source": [
    "(Check out resulting image)"
   ]
  },
  {
   "cell_type": "code",
   "execution_count": 8,
   "id": "8d1f7d77",
   "metadata": {
    "tags": []
   },
   "outputs": [
    {
     "name": "stderr",
     "output_type": "stream",
     "text": [
      "2021-04-23 08:35:55,122 - lib - INFO - Polygonizing: results\\seg\\naip_m_4509361_se_15_060_20190727_aoi_bst100ni100s0spec0x6spat25.tif\n",
      "2021-04-23 08:35:57,800 - lib - INFO - Writing polygons to: results\\seg\\naip_m_4509361_se_15_060_20190727_aoi_bst100ni100s0spec0x6spat25.gpkg/seg\n"
     ]
    }
   ],
   "source": [
    "# Convert output tif to polygons\n",
    "out_vec = out_img.replace('.tif', '.gpkg/seg')\n",
    "vec_objects = rio_polygonize(img=out_img, out_vec=out_vec)"
   ]
  },
  {
   "cell_type": "markdown",
   "id": "50fc5c5a",
   "metadata": {
    "tags": []
   },
   "source": [
    "(Check out resuting polygons)"
   ]
  },
  {
   "cell_type": "markdown",
   "id": "e995e537",
   "metadata": {
    "tags": []
   },
   "source": [
    "### Other segmentation options\n",
    "[Orfeo Toolbox LargeScaleMeanShift](https://www.orfeo-toolbox.org/CookBook/Applications/app_LargeScaleMeanShift.html)\n",
    "\n",
    "[Scikit-Image Segmenation](https://scikit-image.org/docs/dev/api/skimage.segmentation.html)  \n",
    "Inputs and output are often numpy arrays/matrices that need to be converted from geographic-space to pixel-space and back to geographic-space. \n",
    "\n",
    "![pixel_space](img/pixel_space.png)\n",
    "\n",
    "A couple of useful functions for this conversion:"
   ]
  },
  {
   "cell_type": "code",
   "execution_count": 21,
   "id": "9cfbd82a-a1e6-4789-88b5-21738ccb8480",
   "metadata": {
    "tags": []
   },
   "outputs": [],
   "source": [
    "# Functions for going back and forth from pixel space to coordinate space\n",
    "def pixel2geo(pixel_coord, geotransform):\n",
    "    \"\"\"\n",
    "    Covert pixel coordinates to geographic coordinates\n",
    "    \"\"\"\n",
    "    y, x = pixel_coord\n",
    "    gy = geotransform[4] * x + geotransform[5] * y + geotransform[4] * 0.5 + geotransform[5] * 0.5 + geotransform[3]\n",
    "    gx = geotransform[1] * x + geotransform[2] * y + geotransform[1] * 0.5 + geotransform[2] * 0.5 + geotransform[0]\n",
    "\n",
    "    return gy, gx\n",
    "\n",
    "def geo2pixel(geocoord, geotransform):\n",
    "    \"\"\"\n",
    "    Convert geographic coordinates to pixel coordinates\n",
    "    \"\"\"\n",
    "    y, x = geocoord\n",
    "    py = int(np.around((y - geotransform[3]) / geotransform[5]))\n",
    "    px = int(np.around((x - geotransform[0]) / geotransform[1]))\n",
    "    return py, px"
   ]
  },
  {
   "cell_type": "markdown",
   "id": "0a743a68-ec15-46b5-b978-932375281427",
   "metadata": {},
   "source": [
    "Luckily GDAL can handle much of this work, if you know where to look...  \n",
    "<img src=\"img/gdal_geotransform.png\" width=\"400\">\n"
   ]
  },
  {
   "cell_type": "code",
   "execution_count": 31,
   "id": "90dc3880-0732-49bd-89d5-a3fe91433d7d",
   "metadata": {
    "tags": []
   },
   "outputs": [
    {
     "name": "stdout",
     "output_type": "stream",
     "text": [
      "2021-04-23 09:05:06,120 - __main__ - INFO - Geotransform:\n",
      "(467491.8, 0.600000000000014, 0.0, 4983821.4, 0.0, -0.600000000000258)\n",
      "\n",
      "2021-04-23 09:05:06,122 - __main__ - INFO - Top left x: 467491.8\n",
      "2021-04-23 09:05:06,123 - __main__ - INFO - X Resolution: 0.600000000000014\n",
      "2021-04-23 09:05:06,126 - __main__ - INFO - Rotation1: 0.0\n",
      "2021-04-23 09:05:06,128 - __main__ - INFO - Top left y: 4983821.4\n",
      "2021-04-23 09:05:06,129 - __main__ - INFO - Rotation2: 0.0\n",
      "2021-04-23 09:05:06,130 - __main__ - INFO - Y Resolution: -0.600000000000258\n",
      "\n"
     ]
    }
   ],
   "source": [
    "# Open image and get geotransform, array\n",
    "ds = gdal.Open(str(img))\n",
    "geotransform = ds.GetGeoTransform()\n",
    "\n",
    "# Log info \n",
    "logger.info(f'Geotransform:\\n{geotransform}\\n')\n",
    "logger.info(f'Top left x: {geotransform[0]}')\n",
    "logger.info(f'X Resolution: {geotransform[1]}')\n",
    "logger.info(f'Rotation1: {geotransform[2]}')\n",
    "logger.info(f'Top left y: {geotransform[3]}')\n",
    "logger.info(f'Rotation2: {geotransform[4]}')\n",
    "logger.info(f'Y Resolution: {geotransform[5]}\\n')"
   ]
  },
  {
   "cell_type": "code",
   "execution_count": 26,
   "id": "61f2618c-6201-462b-bde0-3cf8974cf47f",
   "metadata": {
    "tags": []
   },
   "outputs": [
    {
     "name": "stdout",
     "output_type": "stream",
     "text": [
      "2021-04-23 08:48:54,732 - __main__ - INFO - Top left corner in pixels (y, x): (0, 0)\n",
      "2021-04-23 08:48:54,734 - __main__ - INFO - Top left corner in geocoords (y, x): (4983821.100000001, 467492.1)\n"
     ]
    }
   ],
   "source": [
    "logger.info(f'Top left corner in pixels (y, x): {geo2pixel(geocoord=(4983821.4, 467491.8), geotransform=geotransform)}')\n",
    "logger.info(f'Top left corner in geocoords (y, x): {pixel2geo(pixel_coord=(0,0), geotransform=geotransform)}')"
   ]
  },
  {
   "cell_type": "markdown",
   "id": "7f6057e0-8075-4633-a9a0-08d3b109eb6c",
   "metadata": {},
   "source": [
    "#### Quickshift Segmentation"
   ]
  },
  {
   "cell_type": "code",
   "execution_count": 30,
   "id": "fa9b93cc-1392-4c44-8e01-965d04befd69",
   "metadata": {
    "tags": []
   },
   "outputs": [],
   "source": [
    "# Read image as array\n",
    "array = ds.ReadAsArray()\n",
    "# Reshape so that bands are last dimension of array\n",
    "rgb = array.reshape(array.shape[1], array.shape[2], array.shape[0])\n",
    "# Drop last band to get three-bands\n",
    "rgb = rgb[:, :, :3]\n",
    "# Run segmentation\n",
    "labelled = quickshift(image=rgb, ratio=1, kernel_size=5, max_dist=25, sigma=1)"
   ]
  },
  {
   "cell_type": "code",
   "execution_count": 38,
   "id": "6135f5dc-cf98-4002-935e-1dc0f010b59b",
   "metadata": {
    "tags": []
   },
   "outputs": [
    {
     "name": "stdout",
     "output_type": "stream",
     "text": [
      "2021-04-23 09:07:45,512 - __main__ - INFO - Source array shape: (4, 1444, 2506)\n",
      "2021-04-23 09:07:45,514 - __main__ - INFO - RGB array shape: (1444, 2506, 3)\n",
      "2021-04-23 09:07:45,516 - __main__ - INFO - Labelled shape: (1444, 2506)\n",
      "2021-04-23 09:07:45,523 - __main__ - INFO - Labelled min: 0\n",
      "2021-04-23 09:07:45,529 - __main__ - INFO - Labelled max: 2335\n",
      "2021-04-23 09:07:45,537 - __main__ - INFO - Labelled mean: 1097.8317072267555\n"
     ]
    }
   ],
   "source": [
    "logger.info(f'Source array shape: {array.shape}')\n",
    "logger.info(f'RGB array shape: {rgb.shape}')\n",
    "logger.info(f'Labelled shape: {labelled.shape}')\n",
    "logger.info(f'Labelled min: {labelled.min()}')\n",
    "logger.info(f'Labelled max: {labelled.max()}')\n",
    "logger.info(f'Labelled mean: {labelled.mean()}')"
   ]
  },
  {
   "cell_type": "code",
   "execution_count": 39,
   "id": "6d5fd11e-3509-4c9f-8769-1f95413c8790",
   "metadata": {
    "tags": []
   },
   "outputs": [
    {
     "name": "stderr",
     "output_type": "stream",
     "text": [
      "2021-04-23 09:08:04,757 - lib - WARNING - Unable to determine NoData value using -9999\n"
     ]
    }
   ],
   "source": [
    "# Write array out, using geotransform of original img\n",
    "out_qs = out_img.replace('.tif', '_qs.tif')\n",
    "write_array(labelled, out_qs, ds, dtype=3)"
   ]
  },
  {
   "cell_type": "code",
   "execution_count": 41,
   "id": "201b4a5c-5b42-4acc-99e8-89ed35f4c4a9",
   "metadata": {
    "tags": []
   },
   "outputs": [
    {
     "name": "stderr",
     "output_type": "stream",
     "text": [
      "2021-04-23 09:10:19,684 - lib - INFO - Polygonizing: results\\seg\\naip_m_4509361_se_15_060_20190727_aoi_bst100ni100s0spec0x6spat25_qs.tif\n",
      "2021-04-23 09:10:20,788 - lib - INFO - Writing polygons to: results\\seg\\naip_m_4509361_se_15_060_20190727_aoi_bst100ni100s0spec0x6spat25_qs_qs.gpkg/qs_seg\n"
     ]
    }
   ],
   "source": [
    "out_qs_vec = out_qs.replace('.tif', '_qs.gpkg/qs_seg')\n",
    "qs_poly = rio_polygonize(img=out_qs, out_vec=out_qs_vec)"
   ]
  },
  {
   "cell_type": "markdown",
   "id": "196511fd-d591-4c7c-8b66-63ddaeeaffe2",
   "metadata": {},
   "source": [
    "## Zonal Statistics"
   ]
  },
  {
   "cell_type": "markdown",
   "id": "ee1692f1-7447-4b73-91b5-d9a25878112c",
   "metadata": {},
   "source": [
    "The [rasterstats](https://pythonhosted.org/rasterstats/https://pythonhosted.org/rasterstats/) package does all of the work here. The simpliest usage of `rasterstats` is very easy, this is straight from their docs:  \n",
    "```python\n",
    "from rasterstats import zonal_stats\n",
    "zonal_stats(\"polygons.shp\", \"elevation.tif\",\n",
    "            stats=\"count min mean max median\")\n",
    "```\n",
    "The only wonky bit is that this returns a `list` of `dicts`, one for each feature in `polygons.shp`:\n",
    "```python\n",
    "[...,\n",
    " {'count': 89,\n",
    "  'max': 69.52958679199219,\n",
    "  'mean': 20.08093536034059,\n",
    "  'median': 19.33736801147461,\n",
    "  'min': 1.5106816291809082},\n",
    "]\n",
    "\n",
    "```\n",
    "The `calc_zonal_stats` function I wrote handles the logic of inputting multiple rasters, computing different stats for each raster, formatting the results into a GeoDataFrame and writing the output. It also adds the ability to compute `compactness` and `roundness`. "
   ]
  },
  {
   "cell_type": "code",
   "execution_count": 43,
   "id": "5da94cd6",
   "metadata": {
    "tags": []
   },
   "outputs": [],
   "source": [
    "# Create dictionary of rasters, stats, and bands to compute\n",
    "zonal_stats_params = (\n",
    "    {\"img\": {\n",
    "        \"path\": img,\n",
    "        \"stats\": [\"mean\", \"max\"],\n",
    "        \"bands\": [1, 2, 3, 4]\n",
    "\t},\n",
    "    \"nDSM\": {\n",
    "        \"path\": ndsm,\n",
    "        \"stats\": [\"mean\"]\n",
    "    },\n",
    "    \"roughness\":{\n",
    "        \"path\": roughnesscategory=       \"stats\": [\"mean\"],\n",
    "    },\n",
    "    \"ndvi\":{\n",
    "        \"path\": ndvi,\n",
    "        \"stats\": [\"mean\"]\n",
    "    } \n",
    "})"
   ]
  },
  {
   "cell_type": "code",
   "execution_count": 44,
   "id": "ec691448",
   "metadata": {
    "tags": []
   },
   "outputs": [
    {
     "name": "stderr",
     "output_type": "stream",
     "text": [
      "C:\\Miniconda3\\envs\\osobia\\lib\\site-packages\\geopandas\\geodataframe.py:577: RuntimeWarning: Sequential read of iterator was interrupted. Resetting iterator. This can negatively impact the performance.\n",
      "  for feature in features_lst:\n",
      "C:\\Miniconda3\\envs\\osobia\\lib\\site-packages\\rasterstats\\io.py:301: UserWarning: Setting nodata to -999; specify nodata explicitly\n",
      "  warnings.warn(\"Setting nodata to -999; specify nodata explicitly\")\n"
     ]
    },
    {
     "data": {
      "text/html": [
       "<div>\n",
       "<style scoped>\n",
       "    .dataframe tbody tr th:only-of-type {\n",
       "        vertical-align: middle;\n",
       "    }\n",
       "\n",
       "    .dataframe tbody tr th {\n",
       "        vertical-align: top;\n",
       "    }\n",
       "\n",
       "    .dataframe thead th {\n",
       "        text-align: right;\n",
       "    }\n",
       "</style>\n",
       "<table border=\"1\" class=\"dataframe\">\n",
       "  <thead>\n",
       "    <tr style=\"text-align: right;\">\n",
       "      <th></th>\n",
       "      <th>raster_val</th>\n",
       "      <th>geometry</th>\n",
       "      <th>imgb1_max</th>\n",
       "      <th>imgb1_mean</th>\n",
       "      <th>imgb2_max</th>\n",
       "      <th>imgb2_mean</th>\n",
       "      <th>imgb3_max</th>\n",
       "      <th>imgb3_mean</th>\n",
       "      <th>imgb4_max</th>\n",
       "      <th>imgb4_mean</th>\n",
       "      <th>nDSM_mean</th>\n",
       "      <th>roughness_mean</th>\n",
       "      <th>ndvi_mean</th>\n",
       "      <th>area_zs</th>\n",
       "      <th>compactness</th>\n",
       "      <th>roundness</th>\n",
       "    </tr>\n",
       "  </thead>\n",
       "  <tbody>\n",
       "    <tr>\n",
       "      <th>0</th>\n",
       "      <td>1.0</td>\n",
       "      <td>POLYGON ((467491.800 4983821.400, 467491.800 4...</td>\n",
       "      <td>0.0</td>\n",
       "      <td>0.000000</td>\n",
       "      <td>0.0</td>\n",
       "      <td>0.000000</td>\n",
       "      <td>0.0</td>\n",
       "      <td>0.000000</td>\n",
       "      <td>0.0</td>\n",
       "      <td>0.000000</td>\n",
       "      <td>NaN</td>\n",
       "      <td>NaN</td>\n",
       "      <td>NaN</td>\n",
       "      <td>23.04</td>\n",
       "      <td>0.047589</td>\n",
       "      <td>21.013426</td>\n",
       "    </tr>\n",
       "    <tr>\n",
       "      <th>1</th>\n",
       "      <td>2.0</td>\n",
       "      <td>POLYGON ((467530.200 4983821.400, 467530.200 4...</td>\n",
       "      <td>0.0</td>\n",
       "      <td>0.000000</td>\n",
       "      <td>0.0</td>\n",
       "      <td>0.000000</td>\n",
       "      <td>0.0</td>\n",
       "      <td>0.000000</td>\n",
       "      <td>0.0</td>\n",
       "      <td>0.000000</td>\n",
       "      <td>NaN</td>\n",
       "      <td>NaN</td>\n",
       "      <td>NaN</td>\n",
       "      <td>23.04</td>\n",
       "      <td>0.047589</td>\n",
       "      <td>21.013426</td>\n",
       "    </tr>\n",
       "    <tr>\n",
       "      <th>2</th>\n",
       "      <td>3.0</td>\n",
       "      <td>POLYGON ((467568.600 4983821.400, 467568.600 4...</td>\n",
       "      <td>0.0</td>\n",
       "      <td>0.000000</td>\n",
       "      <td>0.0</td>\n",
       "      <td>0.000000</td>\n",
       "      <td>0.0</td>\n",
       "      <td>0.000000</td>\n",
       "      <td>0.0</td>\n",
       "      <td>0.000000</td>\n",
       "      <td>NaN</td>\n",
       "      <td>NaN</td>\n",
       "      <td>NaN</td>\n",
       "      <td>11.52</td>\n",
       "      <td>0.092315</td>\n",
       "      <td>10.832483</td>\n",
       "    </tr>\n",
       "    <tr>\n",
       "      <th>3</th>\n",
       "      <td>4.0</td>\n",
       "      <td>POLYGON ((467587.800 4983821.400, 467587.800 4...</td>\n",
       "      <td>0.0</td>\n",
       "      <td>0.000000</td>\n",
       "      <td>0.0</td>\n",
       "      <td>0.000000</td>\n",
       "      <td>0.0</td>\n",
       "      <td>0.000000</td>\n",
       "      <td>0.0</td>\n",
       "      <td>0.000000</td>\n",
       "      <td>NaN</td>\n",
       "      <td>NaN</td>\n",
       "      <td>NaN</td>\n",
       "      <td>5.76</td>\n",
       "      <td>0.173929</td>\n",
       "      <td>5.749472</td>\n",
       "    </tr>\n",
       "    <tr>\n",
       "      <th>4</th>\n",
       "      <td>5.0</td>\n",
       "      <td>POLYGON ((467597.400 4983821.400, 467597.400 4...</td>\n",
       "      <td>0.0</td>\n",
       "      <td>0.000000</td>\n",
       "      <td>0.0</td>\n",
       "      <td>0.000000</td>\n",
       "      <td>0.0</td>\n",
       "      <td>0.000000</td>\n",
       "      <td>0.0</td>\n",
       "      <td>0.000000</td>\n",
       "      <td>NaN</td>\n",
       "      <td>NaN</td>\n",
       "      <td>NaN</td>\n",
       "      <td>2.88</td>\n",
       "      <td>0.310281</td>\n",
       "      <td>3.222888</td>\n",
       "    </tr>\n",
       "    <tr>\n",
       "      <th>...</th>\n",
       "      <td>...</td>\n",
       "      <td>...</td>\n",
       "      <td>...</td>\n",
       "      <td>...</td>\n",
       "      <td>...</td>\n",
       "      <td>...</td>\n",
       "      <td>...</td>\n",
       "      <td>...</td>\n",
       "      <td>...</td>\n",
       "      <td>...</td>\n",
       "      <td>...</td>\n",
       "      <td>...</td>\n",
       "      <td>...</td>\n",
       "      <td>...</td>\n",
       "      <td>...</td>\n",
       "      <td>...</td>\n",
       "    </tr>\n",
       "    <tr>\n",
       "      <th>9028</th>\n",
       "      <td>8930.0</td>\n",
       "      <td>POLYGON ((468683.400 4982980.800, 468683.400 4...</td>\n",
       "      <td>141.0</td>\n",
       "      <td>80.877061</td>\n",
       "      <td>155.0</td>\n",
       "      <td>93.407796</td>\n",
       "      <td>113.0</td>\n",
       "      <td>75.930285</td>\n",
       "      <td>201.0</td>\n",
       "      <td>129.033733</td>\n",
       "      <td>5.861141</td>\n",
       "      <td>11.850944</td>\n",
       "      <td>0.247328</td>\n",
       "      <td>480.24</td>\n",
       "      <td>0.251841</td>\n",
       "      <td>3.970761</td>\n",
       "    </tr>\n",
       "    <tr>\n",
       "      <th>9029</th>\n",
       "      <td>9032.0</td>\n",
       "      <td>POLYGON ((468994.800 4982956.200, 468994.800 4...</td>\n",
       "      <td>0.0</td>\n",
       "      <td>0.000000</td>\n",
       "      <td>0.0</td>\n",
       "      <td>0.000000</td>\n",
       "      <td>0.0</td>\n",
       "      <td>0.000000</td>\n",
       "      <td>0.0</td>\n",
       "      <td>0.000000</td>\n",
       "      <td>NaN</td>\n",
       "      <td>NaN</td>\n",
       "      <td>NaN</td>\n",
       "      <td>0.36</td>\n",
       "      <td>0.785398</td>\n",
       "      <td>1.273240</td>\n",
       "    </tr>\n",
       "    <tr>\n",
       "      <th>9030</th>\n",
       "      <td>8998.0</td>\n",
       "      <td>POLYGON ((468471.600 4982967.600, 468471.600 4...</td>\n",
       "      <td>143.0</td>\n",
       "      <td>67.196319</td>\n",
       "      <td>131.0</td>\n",
       "      <td>67.527607</td>\n",
       "      <td>118.0</td>\n",
       "      <td>76.500000</td>\n",
       "      <td>131.0</td>\n",
       "      <td>31.723926</td>\n",
       "      <td>1.535610</td>\n",
       "      <td>2.468661</td>\n",
       "      <td>-0.414224</td>\n",
       "      <td>117.36</td>\n",
       "      <td>0.426555</td>\n",
       "      <td>2.344362</td>\n",
       "    </tr>\n",
       "    <tr>\n",
       "      <th>9031</th>\n",
       "      <td>9012.0</td>\n",
       "      <td>POLYGON ((468607.200 4982964.600, 468607.200 4...</td>\n",
       "      <td>186.0</td>\n",
       "      <td>124.243802</td>\n",
       "      <td>176.0</td>\n",
       "      <td>123.235537</td>\n",
       "      <td>158.0</td>\n",
       "      <td>103.380165</td>\n",
       "      <td>142.0</td>\n",
       "      <td>108.235537</td>\n",
       "      <td>0.080337</td>\n",
       "      <td>0.392763</td>\n",
       "      <td>-0.012404</td>\n",
       "      <td>87.12</td>\n",
       "      <td>0.329976</td>\n",
       "      <td>3.030521</td>\n",
       "    </tr>\n",
       "    <tr>\n",
       "      <th>9032</th>\n",
       "      <td>9033.0</td>\n",
       "      <td>POLYGON ((468994.800 4982955.600, 468994.800 4...</td>\n",
       "      <td>0.0</td>\n",
       "      <td>0.000000</td>\n",
       "      <td>0.0</td>\n",
       "      <td>0.000000</td>\n",
       "      <td>0.0</td>\n",
       "      <td>0.000000</td>\n",
       "      <td>0.0</td>\n",
       "      <td>0.000000</td>\n",
       "      <td>NaN</td>\n",
       "      <td>NaN</td>\n",
       "      <td>NaN</td>\n",
       "      <td>0.36</td>\n",
       "      <td>0.785398</td>\n",
       "      <td>1.273240</td>\n",
       "    </tr>\n",
       "  </tbody>\n",
       "</table>\n",
       "<p>9033 rows × 16 columns</p>\n",
       "</div>"
      ],
      "text/plain": [
       "      raster_val                                           geometry  \\\n",
       "0            1.0  POLYGON ((467491.800 4983821.400, 467491.800 4...   \n",
       "1            2.0  POLYGON ((467530.200 4983821.400, 467530.200 4...   \n",
       "2            3.0  POLYGON ((467568.600 4983821.400, 467568.600 4...   \n",
       "3            4.0  POLYGON ((467587.800 4983821.400, 467587.800 4...   \n",
       "4            5.0  POLYGON ((467597.400 4983821.400, 467597.400 4...   \n",
       "...          ...                                                ...   \n",
       "9028      8930.0  POLYGON ((468683.400 4982980.800, 468683.400 4...   \n",
       "9029      9032.0  POLYGON ((468994.800 4982956.200, 468994.800 4...   \n",
       "9030      8998.0  POLYGON ((468471.600 4982967.600, 468471.600 4...   \n",
       "9031      9012.0  POLYGON ((468607.200 4982964.600, 468607.200 4...   \n",
       "9032      9033.0  POLYGON ((468994.800 4982955.600, 468994.800 4...   \n",
       "\n",
       "      imgb1_max  imgb1_mean  imgb2_max  imgb2_mean  imgb3_max  imgb3_mean  \\\n",
       "0           0.0    0.000000        0.0    0.000000        0.0    0.000000   \n",
       "1           0.0    0.000000        0.0    0.000000        0.0    0.000000   \n",
       "2           0.0    0.000000        0.0    0.000000        0.0    0.000000   \n",
       "3           0.0    0.000000        0.0    0.000000        0.0    0.000000   \n",
       "4           0.0    0.000000        0.0    0.000000        0.0    0.000000   \n",
       "...         ...         ...        ...         ...        ...         ...   \n",
       "9028      141.0   80.877061      155.0   93.407796      113.0   75.930285   \n",
       "9029        0.0    0.000000        0.0    0.000000        0.0    0.000000   \n",
       "9030      143.0   67.196319      131.0   67.527607      118.0   76.500000   \n",
       "9031      186.0  124.243802      176.0  123.235537      158.0  103.380165   \n",
       "9032        0.0    0.000000        0.0    0.000000        0.0    0.000000   \n",
       "\n",
       "      imgb4_max  imgb4_mean  nDSM_mean  roughness_mean  ndvi_mean  area_zs  \\\n",
       "0           0.0    0.000000        NaN             NaN        NaN    23.04   \n",
       "1           0.0    0.000000        NaN             NaN        NaN    23.04   \n",
       "2           0.0    0.000000        NaN             NaN        NaN    11.52   \n",
       "3           0.0    0.000000        NaN             NaN        NaN     5.76   \n",
       "4           0.0    0.000000        NaN             NaN        NaN     2.88   \n",
       "...         ...         ...        ...             ...        ...      ...   \n",
       "9028      201.0  129.033733   5.861141       11.850944   0.247328   480.24   \n",
       "9029        0.0    0.000000        NaN             NaN        NaN     0.36   \n",
       "9030      131.0   31.723926   1.535610        2.468661  -0.414224   117.36   \n",
       "9031      142.0  108.235537   0.080337        0.392763  -0.012404    87.12   \n",
       "9032        0.0    0.000000        NaN             NaN        NaN     0.36   \n",
       "\n",
       "      compactness  roundness  \n",
       "0        0.047589  21.013426  \n",
       "1        0.047589  21.013426  \n",
       "2        0.092315  10.832483  \n",
       "3        0.173929   5.749472  \n",
       "4        0.310281   3.222888  \n",
       "...           ...        ...  \n",
       "9028     0.251841   3.970761  \n",
       "9029     0.785398   1.273240  \n",
       "9030     0.426555   2.344362  \n",
       "9031     0.329976   3.030521  \n",
       "9032     0.785398   1.273240  \n",
       "\n",
       "[9033 rows x 16 columns]"
      ]
     },
     "execution_count": 44,
     "metadata": {},
     "output_type": "execute_result"
    }
   ],
   "source": [
    "out_zs = out_vec.replace('/seg', '/zs')\n",
    "calc_zonal_stats(shp=out_vec,\n",
    "                 rasters=[zonal_stats_params],\n",
    "                 compactness=True,\n",
    "                 roundness=True,\n",
    "                 out_path=out_zs)"
   ]
  },
  {
   "cell_type": "markdown",
   "id": "48d88baf",
   "metadata": {},
   "source": [
    "## Classification\n",
    "This is done with python+geopandas but could also be done via QGIS+select_by_attribute"
   ]
  },
  {
   "cell_type": "code",
   "execution_count": null,
   "id": "8c82a9c6",
   "metadata": {
    "jupyter": {
     "source_hidden": true
    },
    "tags": []
   },
   "outputs": [],
   "source": [
    "obj = read_vec(out_zs)\n",
    "obj.sample(5)"
   ]
  },
  {
   "cell_type": "code",
   "execution_count": null,
   "id": "0f30d6c6",
   "metadata": {
    "jupyter": {
     "source_hidden": true
    },
    "tags": []
   },
   "outputs": [],
   "source": [
    "obj.describe()"
   ]
  },
  {
   "cell_type": "code",
   "execution_count": null,
   "id": "45f7c7b6",
   "metadata": {
    "jupyter": {
     "source_hidden": true
    },
    "tags": []
   },
   "outputs": [],
   "source": [
    "# Field names\n",
    "ndvi_mean = 'ndvi_mean'\n",
    "ndsm_mean = 'nDSM_mean'\n",
    "roughness_mean = 'roughness_mean'\n",
    "imgb1_mean = 'imgb1_mean'\n",
    "imgb2_mean = 'imgb2_mean'\n",
    "imgb3_mean = 'imgb3_mean'\n",
    "imgb4_mean = 'imgb4_mean'\n",
    "roundness = 'roundness'\n",
    "# Class names\n",
    "trees = 'trees'\n",
    "water = 'water'\n",
    "open_green = 'open_green'\n",
    "buildings = 'buildings'\n",
    "roads_pave = 'roads_pavement'\n",
    "shadow = 'shadow'\n",
    "# Add a field to hold the class\n",
    "CLASS = 'class'\n",
    "obj[CLASS] = None\n",
    "\n",
    "\n",
    "def apply_rules(gdf, rules, class_name, unclass_only=True):\n",
    "    \"\"\"Function to apply rules\"\"\"\n",
    "    # Look up strings operators to get function\n",
    "    op_lut = {'>': operator.gt,\n",
    "              '<': operator.lt}\n",
    "    \n",
    "    matches = copy.deepcopy(gdf)\n",
    "    for field, op, val in rules:\n",
    "        if isinstance(op, str):\n",
    "            # if  a string is passed, get the function\n",
    "            op = op_lut[op]\n",
    "        matches = matches[op(matches[field], val)]\n",
    "    logger.info(f'Objects to be classified as {class_name}: {len(matches)}')\n",
    "    if unclass_only:\n",
    "        # Index in matches and not classified yet\n",
    "        gdf.loc[gdf.index.isin(matches.index) & gdf[CLASS].isnull(), CLASS] = class_name\n",
    "    else:\n",
    "        # Index in matches - would overwrite class if present\n",
    "        gdf.loc[gdf.index.isin(matches.index), CLASS] = class_name\n",
    "    logger.info(f'Objects classified as {class_name}: {len(gdf[gdf[CLASS]==class_name])}')\n",
    "    logger.debug(f'Remaining unclassified: {len(gdf[gdf[CLASS].isnull()])}')\n",
    "    return gdf"
   ]
  },
  {
   "cell_type": "code",
   "execution_count": null,
   "id": "384394db",
   "metadata": {
    "jupyter": {
     "source_hidden": true
    },
    "tags": []
   },
   "outputs": [],
   "source": [
    "# Trees\n",
    "tree_rules = [\n",
    "    (ndvi_mean, '>', 0),\n",
    "    (ndsm_mean, '>', 0.75),\n",
    "    (roughness_mean, '>', 1.25)\n",
    "]\n",
    "# Water\n",
    "water_rules = [\n",
    "    (ndvi_mean, '<', 0),\n",
    "    (roughness_mean, '<', 0.13),\n",
    "    (ndsm_mean, '<', 1),\n",
    "    (imgb4_mean, '<', 10)\n",
    "]\n",
    "# Open Green Space\n",
    "open_rules = [\n",
    "    (ndvi_mean, '>', 0.1),\n",
    "    (ndsm_mean, '<', 1)\n",
    "]\n",
    "# Buildings\n",
    "build_rules = [\n",
    "    (ndvi_mean, '<', 0),\n",
    "    (ndsm_mean, '>', 2),\n",
    "]\n",
    "# Roads and pavement\n",
    "roads_rules = [\n",
    "    (ndvi_mean, '<', 0),\n",
    "    (ndsm_mean, '<', 1),\n",
    "    (roughness_mean, '<', 1.5),\n",
    "    (roundness, '>', 2)\n",
    "]\n",
    "# Shadow\n",
    "shadow_rules = [\n",
    "    (imgb1_mean, '<', 150),\n",
    "    (imgb2_mean, '<', 150),\n",
    "    (imgb3_mean, '<', 150),\n",
    "    (imgb4_mean, '<', 150)\n",
    "]\n",
    "classes = [trees, water, open_green, buildings, roads_pave, shadow]\n",
    "rules = [tree_rules, water_rules, open_rules, build_rules, roads_rules, shadow_rules]\n",
    "classes_rules = zip(classes, rules)\n",
    "for class_name, class_rules in classes_rules:\n",
    "    logger.info(f'Classifying: {class_name}')\n",
    "    obj = apply_rules(obj, class_rules, class_name)"
   ]
  },
  {
   "cell_type": "markdown",
   "id": "f50192a1-cf6c-4168-a7ae-be9cb5f1b632",
   "metadata": {
    "jupyter": {
     "source_hidden": true
    },
    "tags": []
   },
   "source": [
    "Other rules are possible, but complicated.  \n",
    "* OR rules  \n",
    "* adjacency\n"
   ]
  },
  {
   "cell_type": "code",
   "execution_count": null,
   "id": "f147a926",
   "metadata": {
    "jupyter": {
     "source_hidden": true
    },
    "tags": []
   },
   "outputs": [],
   "source": [
    "# Write classification\n",
    "out_class = out_vec.replace('/seg', '/classified')\n",
    "# write_gdf(obj, out_class)\n",
    "print(out_class)"
   ]
  }
 ],
 "metadata": {
  "kernelspec": {
   "display_name": "Python 3",
   "language": "python",
   "name": "python3"
  },
  "language_info": {
   "codemirror_mode": {
    "name": "ipython",
    "version": 3
   },
   "file_extension": ".py",
   "mimetype": "text/x-python",
   "name": "python",
   "nbconvert_exporter": "python",
   "pygments_lexer": "ipython3",
   "version": "3.9.2"
  }
 },
 "nbformat": 4,
 "nbformat_minor": 5
}
