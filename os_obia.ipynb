{
 "cells": [
  {
   "cell_type": "markdown",
   "id": "19c870b2-09a6-4da7-ba9b-e45dbf4282dc",
   "metadata": {},
   "source": [
    "# Open Source Object-Based-Image-Analysis"
   ]
  },
  {
   "cell_type": "markdown",
   "id": "e247b100-6e4e-4ad8-b6d2-164f349c5124",
   "metadata": {
    "tags": []
   },
   "source": [
    "*The great thing about python is...*  \n",
    "<img src=\"img/build_it2.png\" width=\"600\">"
   ]
  },
  {
   "cell_type": "markdown",
   "id": "37a92940",
   "metadata": {
    "jupyter": {
     "source_hidden": true
    },
    "tags": []
   },
   "source": [
    "### What is OBIA really?\n",
    "Derivatives -> Segmentation -> Zonal statistics -> Classification "
   ]
  },
  {
   "cell_type": "markdown",
   "id": "98eac067-14c6-4de3-887f-9a422113eb9e",
   "metadata": {
    "tags": []
   },
   "source": [
    "## Tools / Software Stack"
   ]
  },
  {
   "cell_type": "markdown",
   "id": "1db9f8a3-80e3-4796-9949-963f1aadd2d8",
   "metadata": {
    "jupyter": {
     "source_hidden": true
    },
    "tags": []
   },
   "source": [
    "## python\n",
    "# ![python](img/python_logo.png)  +  ![gdal](img/gdalicon.png)  \n",
    "- [geopandas](https://geopandas.org): vector (image object) manipulation  \n",
    "- [rasterio](https://rasterio.readthedocs.io/en/latest/): raster loading/manipulation  \n",
    "- [rasterstats](https://pythonhosted.org/rasterstats/): zonal statistics  \n",
    "*The use of anaconda/miniconda is *highly* recommended for managing python dependencies, specifically installing packages from the `conda-forge` channel. E.g.:*  \n",
    "`conda install -c conda-forge geopandas`\n",
    "  \n",
    "  \n",
    "## WhiteBoxTools\n",
    "![wbt](img/WhiteBoxToolsLogo_vert.png)  \n",
    "[WhiteBoxTools](https://jblindsay.github.io/wbt_book/intro.html): raster derivatives, specifically geomorphometic analyses.  \n",
    "*Has python bindings, but tough to integrate with other dependencies, so called from the command line.*  \n",
    "  \n",
    "  \n",
    "## Orfeo Toolbox  \n",
    "![orfeo](img/logo-orfeo-toolbox.png)  \n",
    "[**Orfeo Toolbox**](https://www.orfeo-toolbox.org/CookBook/): segmentation (also has general GIS tools).  \n",
    "*Has python bindings, but tough to integrate with other dependencies, so called from the command line.*  \n",
    "\n",
    "\n",
    "## QGIS\n",
    "![qgis](img/qgis-logo.png)  \n",
    "[**QGIS**](https://qgis.org/en/site/): Viewing outputs, general GIS."
   ]
  },
  {
   "cell_type": "markdown",
   "id": "05836110",
   "metadata": {
    "tags": []
   },
   "source": [
    "## Imports + Logging Set up"
   ]
  },
  {
   "cell_type": "code",
   "execution_count": null,
   "id": "33674424",
   "metadata": {
    "jupyter": {
     "source_hidden": true
    },
    "tags": []
   },
   "outputs": [],
   "source": [
    "# Standard lib\n",
    "import copy\n",
    "import logging\n",
    "import numpy as np\n",
    "import operator\n",
    "from pathlib import Path\n",
    "from pprint import pprint\n",
    "import warnings\n",
    "import sys\n",
    "\n",
    "# Installed packages\n",
    "from osgeo import gdal, osr\n",
    "import geopandas\n",
    "import rasterio\n",
    "import rasterstats\n",
    "from skimage.segmentation import quickshift\n",
    "import scipy\n",
    "\n",
    "# Local packages\n",
    "from lib import (run_subprocess, clean4cmdline, create_grm_outname,\n",
    "                 rio_polygonize, read_vec, write_gdf, write_array,\n",
    "                log_me)\n",
    "from calc_zonal_stats import calc_zonal_stats"
   ]
  },
  {
   "cell_type": "code",
   "execution_count": null,
   "id": "72a02d34",
   "metadata": {
    "jupyter": {
     "source_hidden": true
    },
    "tags": []
   },
   "outputs": [],
   "source": [
    "# Set up logger\n",
    "root_logger = logging.getLogger()\n",
    "root_logger.setLevel(logging.DEBUG)\n",
    "ch = logging.StreamHandler(sys.stdout)\n",
    "ch.setLevel(1)\n",
    "formatter = logging.Formatter(\n",
    "    '%(asctime)s - %(name)s - %(levelname)s - %(message)s')\n",
    "ch.setFormatter(formatter)\n",
    "root_logger.addHandler(ch)\n",
    "\n",
    "warnings.filterwarnings('ignore', category=RuntimeWarning, message='Sequential read of iterator*')"
   ]
  },
  {
   "cell_type": "markdown",
   "id": "6703ac81",
   "metadata": {},
   "source": [
    "## Paths (Orfeo + Data)"
   ]
  },
  {
   "cell_type": "code",
   "execution_count": null,
   "id": "81e8a022-e21d-4936-a710-03c357d956c3",
   "metadata": {
    "jupyter": {
     "source_hidden": true
    },
    "tags": []
   },
   "outputs": [],
   "source": [
    "# Orfeo setup and tools\n",
    "# Change this to match where OTB is on your machine, the rest of the paths should be OK\n",
    "otb = Path(r'C:\\OTB-7.2.0-Win64\\OTB-7.2.0-Win64')\n",
    "otb_init = otb / 'otbenv.bat'\n",
    "otb_bin = otb / 'bin'\n",
    "otb_grm = otb_bin / 'otbcli_GenericRegionMerging.bat'\n",
    "# otb_lsms = otb_bin / 'otbcli_LargeScaleMeanShift.bat'\n",
    "otb_grm"
   ]
  },
  {
   "cell_type": "code",
   "execution_count": null,
   "id": "cee53336-455f-44ea-84d5-9791fd2dc7d4",
   "metadata": {
    "jupyter": {
     "source_hidden": true
    },
    "tags": []
   },
   "outputs": [],
   "source": [
    "# Data\n",
    "data_dir = Path(r'./data')\n",
    "img = data_dir / 'naip_m_4509361_se_15_060_20190727_aoi.tif'\n",
    "ndsm = data_dir / 'nDSM_clip_fill.tif'\n",
    "ndvi = data_dir / 'ndvi_naip_m_4509361_se_15_060_20190727_aoi.tif'\n",
    "roughness = data_dir / 'nDSM_clip_fill_roughness.tif'\n",
    "img"
   ]
  },
  {
   "cell_type": "code",
   "execution_count": null,
   "id": "d6f0af83-8722-45fa-9211-8d21677b3b4d",
   "metadata": {
    "jupyter": {
     "source_hidden": true
    },
    "tags": []
   },
   "outputs": [],
   "source": [
    "# Out paths\n",
    "out_dir = Path(r'./results')\n",
    "seg_dir = out_dir / 'seg'"
   ]
  },
  {
   "cell_type": "code",
   "execution_count": null,
   "id": "3f48f4b6-ed23-4fa0-961a-7c83b6e61cb7",
   "metadata": {
    "jupyter": {
     "source_hidden": true
    },
    "tags": []
   },
   "outputs": [],
   "source": [
    "# Ensure all exist\n",
    "missing_files = []\n",
    "for file_path in [data_dir, img, ndsm, ndvi, roughness, out_dir]:\n",
    "    if not file_path.exists():\n",
    "        missing_files.append(file_path)\n",
    "if len(missing_files) > 0:\n",
    "    for file_path in missing_files:\n",
    "        root_logger.error(f'Missing file/folder: {file_path}')\n",
    "else:\n",
    "    root_logger.info('All files/folders located.')"
   ]
  },
  {
   "cell_type": "markdown",
   "id": "e2af1a92",
   "metadata": {
    "jupyter": {
     "source_hidden": true
    },
    "tags": []
   },
   "source": [
    "### Check out input data\n",
    "how it was created, histogram of values in image (qgis), profile, stats of image to seg"
   ]
  },
  {
   "cell_type": "code",
   "execution_count": null,
   "id": "14dddebc-6bec-4ee1-aeb3-80c5b312bf49",
   "metadata": {
    "jupyter": {
     "source_hidden": true
    },
    "tags": []
   },
   "outputs": [],
   "source": [
    "response = run_subprocess(f'gdalinfo {img} -stats', log=False)\n",
    "for l in response:\n",
    "    print(l.strip('\\n'))"
   ]
  },
  {
   "cell_type": "markdown",
   "id": "2932346b",
   "metadata": {
    "tags": []
   },
   "source": [
    "## Segmentation"
   ]
  },
  {
   "cell_type": "markdown",
   "id": "ebfc3ddb",
   "metadata": {
    "tags": []
   },
   "source": [
    "#### Generic Region Merging\n",
    "[otb docs](https://www.orfeo-toolbox.org/CookBook/Applications/app_GenericRegionMerging.html?highlight=generic%20region%20merging)"
   ]
  },
  {
   "cell_type": "code",
   "execution_count": null,
   "id": "4c7b71b2",
   "metadata": {
    "jupyter": {
     "source_hidden": true
    },
    "tags": []
   },
   "outputs": [],
   "source": [
    "# Parameters\n",
    "# Homogeneity criterion to use. The default is 'bs'. One of: [bs, ed, fls]\n",
    "criterion = 'bs'\n",
    "threshold = 100\n",
    "niter = 100\n",
    "spectral_w = 0.6 # spectral weight, higher values slow processing time\n",
    "spatial_w = 25 # spatial weight\n",
    "out_img = create_grm_outname(img=img,\n",
    "                             out_dir=seg_dir,\n",
    "                             criterion=criterion,\n",
    "                             threshold=threshold,\n",
    "                             niter=niter,\n",
    "                             spectral=spectral_w,\n",
    "                             spatial=spatial_w)\n",
    "root_logger.info(f'Out image: {out_img}')"
   ]
  },
  {
   "cell_type": "code",
   "execution_count": null,
   "id": "eb2e7038",
   "metadata": {
    "jupyter": {
     "source_hidden": true
    },
    "tags": []
   },
   "outputs": [],
   "source": [
    "# Build the command\n",
    "otb_cmd = f\"\"\"\n",
    "\"{otb_grm}\"\n",
    "-in {str(img)}\n",
    "-out {str(out_img)}\n",
    "-criterion {criterion}\n",
    "-threshold {threshold}\n",
    "-niter {niter}\n",
    "-cw {spectral_w}\n",
    "-sw {spatial_w}\"\"\"\n",
    "\n",
    "otb_cmd = clean4cmdline(otb_cmd)\n",
    "root_logger.info(f'OTB command:\\n{otb_cmd}')\n",
    "otb_cmd = f'{otb_init} && {otb_cmd}'\n",
    "root_logger.debug(f'OTB full command:\\n{otb_cmd}')"
   ]
  },
  {
   "cell_type": "code",
   "execution_count": null,
   "id": "10684db7",
   "metadata": {
    "jupyter": {
     "source_hidden": true
    },
    "tags": []
   },
   "outputs": [],
   "source": [
    "run_subprocess(otb_cmd)"
   ]
  },
  {
   "cell_type": "markdown",
   "id": "7d5530e7",
   "metadata": {
    "jupyter": {
     "source_hidden": true
    },
    "tags": []
   },
   "source": [
    "(Check out resulting image)"
   ]
  },
  {
   "cell_type": "code",
   "execution_count": null,
   "id": "8d1f7d77",
   "metadata": {
    "jupyter": {
     "source_hidden": true
    },
    "tags": []
   },
   "outputs": [],
   "source": [
    "# Convert output tif to polygons\n",
    "out_vec = out_img.replace('.tif', '.gpkg/seg')\n",
    "vec_objects = rio_polygonize(img=out_img, out_vec=out_vec)"
   ]
  },
  {
   "cell_type": "markdown",
   "id": "50fc5c5a",
   "metadata": {
    "jupyter": {
     "source_hidden": true
    },
    "tags": []
   },
   "source": [
    "(Check out resuting polygons)"
   ]
  },
  {
   "cell_type": "markdown",
   "id": "a2c68949-d402-4f69-9e19-4ff4210ad6ff",
   "metadata": {
    "tags": []
   },
   "source": [
    "### Other segmentation options"
   ]
  },
  {
   "cell_type": "markdown",
   "id": "f5078446-329c-4f1a-83a1-a33bc9b9a242",
   "metadata": {
    "jupyter": {
     "source_hidden": true
    },
    "tags": []
   },
   "source": [
    "[Orfeo Toolbox LargeScaleMeanShift](https://www.orfeo-toolbox.org/CookBook/Applications/app_LargeScaleMeanShift.html)\n",
    "\n",
    "[Scikit-Image Segmenation](https://scikit-image.org/docs/dev/api/skimage.segmentation.html)  \n",
    "Inputs and output are often numpy arrays/matrices that need to be converted from geographic-space to pixel-space and back to geographic-space. \n",
    "\n",
    "![pixel_space](img/pixel_space.png)\n",
    "\n",
    "A couple of useful functions for this conversion:"
   ]
  },
  {
   "cell_type": "code",
   "execution_count": null,
   "id": "9cfbd82a-a1e6-4789-88b5-21738ccb8480",
   "metadata": {
    "jupyter": {
     "source_hidden": true
    },
    "tags": []
   },
   "outputs": [],
   "source": [
    "# Functions for going back and forth from pixel space to coordinate space\n",
    "def pixel2geo(pixel_coord, geotransform):\n",
    "    \"\"\"\n",
    "    Covert pixel coordinates to geographic coordinates\n",
    "    \"\"\"\n",
    "    y, x = pixel_coord\n",
    "    gy = geotransform[4] * x + geotransform[5] * y + geotransform[4] * 0.5 + geotransform[5] * 0.5 + geotransform[3]\n",
    "    gx = geotransform[1] * x + geotransform[2] * y + geotransform[1] * 0.5 + geotransform[2] * 0.5 + geotransform[0]\n",
    "\n",
    "    return gy, gx\n",
    "\n",
    "def geo2pixel(geocoord, geotransform):\n",
    "    \"\"\"\n",
    "    Convert geographic coordinates to pixel coordinates\n",
    "    \"\"\"\n",
    "    y, x = geocoord\n",
    "    py = int(np.around((y - geotransform[3]) / geotransform[5]))\n",
    "    px = int(np.around((x - geotransform[0]) / geotransform[1]))\n",
    "    return py, px"
   ]
  },
  {
   "cell_type": "markdown",
   "id": "0a743a68-ec15-46b5-b978-932375281427",
   "metadata": {
    "jupyter": {
     "source_hidden": true
    },
    "tags": []
   },
   "source": [
    "Luckily GDAL can handle much of this work, if you know where to look...  \n",
    "<img src=\"img/gdal_geotransform.png\" width=\"400\">\n"
   ]
  },
  {
   "cell_type": "code",
   "execution_count": null,
   "id": "90dc3880-0732-49bd-89d5-a3fe91433d7d",
   "metadata": {
    "jupyter": {
     "source_hidden": true
    },
    "tags": []
   },
   "outputs": [],
   "source": [
    "# Open image and get geotransform, array\n",
    "ds = gdal.Open(str(img))\n",
    "geotransform = ds.GetGeoTransform()\n",
    "\n",
    "# Log info \n",
    "root_logger.info(f'Geotransform:\\n{geotransform}\\n')\n",
    "root_logger.info(f'Top left x: {geotransform[0]}')\n",
    "root_logger.info(f'X Resolution: {geotransform[1]}')\n",
    "root_logger.info(f'Rotation1: {geotransform[2]}')\n",
    "root_logger.info(f'Top left y: {geotransform[3]}')\n",
    "root_logger.info(f'Rotation2: {geotransform[4]}')\n",
    "root_logger.info(f'Y Resolution: {geotransform[5]}\\n')"
   ]
  },
  {
   "cell_type": "code",
   "execution_count": null,
   "id": "61f2618c-6201-462b-bde0-3cf8974cf47f",
   "metadata": {
    "jupyter": {
     "source_hidden": true
    },
    "tags": []
   },
   "outputs": [],
   "source": [
    "root_logger.info(f'Top left corner in pixels (y, x): {geo2pixel(geocoord=(4983821.4, 467491.8), geotransform=geotransform)}')\n",
    "root_logger.info(f'Top left corner in geocoords (y, x): {pixel2geo(pixel_coord=(0,0), geotransform=geotransform)}')"
   ]
  },
  {
   "cell_type": "markdown",
   "id": "7f6057e0-8075-4633-a9a0-08d3b109eb6c",
   "metadata": {},
   "source": [
    "#### Quickshift Segmentation"
   ]
  },
  {
   "cell_type": "code",
   "execution_count": null,
   "id": "fa9b93cc-1392-4c44-8e01-965d04befd69",
   "metadata": {
    "jupyter": {
     "source_hidden": true
    },
    "tags": []
   },
   "outputs": [],
   "source": [
    "# Read image as array\n",
    "array = ds.ReadAsArray()\n",
    "# Reshape so that bands are last dimension of array\n",
    "rgb = array.reshape(array.shape[1], array.shape[2], array.shape[0])\n",
    "# Drop last band to get three-bands\n",
    "rgb = rgb[:, :, :3]\n",
    "# Run segmentation\n",
    "labelled = quickshift(image=rgb, ratio=1, kernel_size=5, max_dist=25, sigma=1)"
   ]
  },
  {
   "cell_type": "code",
   "execution_count": null,
   "id": "6135f5dc-cf98-4002-935e-1dc0f010b59b",
   "metadata": {
    "jupyter": {
     "source_hidden": true
    },
    "tags": []
   },
   "outputs": [],
   "source": [
    "root_logger.info(f'Source array shape: {array.shape}')\n",
    "root_logger.info(f'RGB array shape: {rgb.shape}')\n",
    "root_logger.info(f'Labelled shape: {labelled.shape}')\n",
    "root_logger.info(f'Labelled min: {labelled.min()}')\n",
    "root_logger.info(f'Labelled max: {labelled.max()}')\n",
    "root_logger.info(f'Labelled mean: {labelled.mean()}')"
   ]
  },
  {
   "cell_type": "code",
   "execution_count": null,
   "id": "6d5fd11e-3509-4c9f-8769-1f95413c8790",
   "metadata": {
    "jupyter": {
     "source_hidden": true
    },
    "tags": []
   },
   "outputs": [],
   "source": [
    "# Write array out, using geotransform of original img\n",
    "out_qs = out_img.replace('.tif', '_qs.tif')\n",
    "write_array(labelled, out_qs, ds, dtype=3)"
   ]
  },
  {
   "cell_type": "code",
   "execution_count": null,
   "id": "201b4a5c-5b42-4acc-99e8-89ed35f4c4a9",
   "metadata": {
    "jupyter": {
     "source_hidden": true
    },
    "tags": []
   },
   "outputs": [],
   "source": [
    "out_qs_vec = out_qs.replace('.tif', '_qs.gpkg/qs_seg')\n",
    "qs_poly = rio_polygonize(img=out_qs, out_vec=out_qs_vec)"
   ]
  },
  {
   "cell_type": "markdown",
   "id": "196511fd-d591-4c7c-8b66-63ddaeeaffe2",
   "metadata": {},
   "source": [
    "## Zonal Statistics"
   ]
  },
  {
   "cell_type": "markdown",
   "id": "ee1692f1-7447-4b73-91b5-d9a25878112c",
   "metadata": {
    "jupyter": {
     "source_hidden": true
    },
    "tags": []
   },
   "source": [
    "The [rasterstats](https://pythonhosted.org/rasterstats/https://pythonhosted.org/rasterstats/) package does all of the work here. The simpliest usage of `rasterstats` is very easy, this is straight from their docs:  \n",
    "```python\n",
    "from rasterstats import zonal_stats\n",
    "zonal_stats(\"polygons.shp\", \"elevation.tif\",\n",
    "            stats=\"count min mean max median\")\n",
    "```\n",
    "The only wonky bit is that this returns a `list` of `dicts`, one for each feature in `polygons.shp`:\n",
    "```python\n",
    "[...,\n",
    " {'count': 89,\n",
    "  'max': 69.52958679199219,\n",
    "  'mean': 20.08093536034059,\n",
    "  'median': 19.33736801147461,\n",
    "  'min': 1.5106816291809082},\n",
    "]\n",
    "\n",
    "```\n",
    "The `calc_zonal_stats` function I wrote handles the logic of inputting multiple rasters, computing different stats for each raster, formatting the results into a GeoDataFrame and writing the output. It also adds the ability to compute `compactness` and `roundness`. "
   ]
  },
  {
   "cell_type": "code",
   "execution_count": null,
   "id": "5da94cd6",
   "metadata": {
    "jupyter": {
     "source_hidden": true
    },
    "tags": []
   },
   "outputs": [],
   "source": [
    "# Create dictionary of rasters, stats, and bands to compute\n",
    "zonal_stats_params = (\n",
    "    {\"img\": {\n",
    "        \"path\": img,\n",
    "        \"stats\": [\"mean\", \"max\"],\n",
    "        \"bands\": [1, 2, 3, 4]\n",
    "\t},\n",
    "    \"nDSM\": {\n",
    "        \"path\": ndsm,\n",
    "        \"stats\": [\"mean\"]\n",
    "    },\n",
    "    \"roughness\":{\n",
    "        \"path\": roughnesscategory=       \"stats\": [\"mean\"],\n",
    "    },\n",
    "    \"ndvi\":{\n",
    "        \"path\": ndvi,\n",
    "        \"stats\": [\"mean\"]\n",
    "    } \n",
    "})"
   ]
  },
  {
   "cell_type": "code",
   "execution_count": null,
   "id": "ec691448",
   "metadata": {
    "jupyter": {
     "source_hidden": true
    },
    "tags": []
   },
   "outputs": [],
   "source": [
    "out_zs = out_vec.replace('/seg', '/zs')\n",
    "calc_zonal_stats(shp=out_vec,\n",
    "                 rasters=[zonal_stats_params],\n",
    "                 compactness=True,\n",
    "                 roundness=True,\n",
    "                 out_path=out_zs)"
   ]
  },
  {
   "cell_type": "markdown",
   "id": "c534958e-3f6e-48bc-8240-05a55afb82c3",
   "metadata": {},
   "source": [
    "## Classification"
   ]
  },
  {
   "cell_type": "markdown",
   "id": "5dfdb3a6-3125-4428-b90b-93606010b3e8",
   "metadata": {
    "jupyter": {
     "source_hidden": true
    },
    "tags": []
   },
   "source": [
    "This is done with python+geopandas but could also be done via QGIS+select_by_attribute"
   ]
  },
  {
   "cell_type": "code",
   "execution_count": null,
   "id": "8c82a9c6",
   "metadata": {
    "jupyter": {
     "source_hidden": true
    },
    "tags": []
   },
   "outputs": [],
   "source": [
    "obj = read_vec(out_zs)\n",
    "obj.sample(5)"
   ]
  },
  {
   "cell_type": "code",
   "execution_count": null,
   "id": "0f30d6c6",
   "metadata": {
    "jupyter": {
     "source_hidden": true
    },
    "tags": []
   },
   "outputs": [],
   "source": [
    "obj.describe()"
   ]
  },
  {
   "cell_type": "code",
   "execution_count": null,
   "id": "45f7c7b6",
   "metadata": {
    "jupyter": {
     "source_hidden": true
    },
    "tags": []
   },
   "outputs": [],
   "source": [
    "# Field names\n",
    "ndvi_mean = 'ndvi_mean'\n",
    "ndsm_mean = 'nDSM_mean'\n",
    "roughness_mean = 'roughness_mean'\n",
    "imgb1_mean = 'imgb1_mean'\n",
    "imgb2_mean = 'imgb2_mean'\n",
    "imgb3_mean = 'imgb3_mean'\n",
    "imgb4_mean = 'imgb4_mean'\n",
    "roundness = 'roundness'\n",
    "# Class names\n",
    "trees = 'trees'\n",
    "water = 'water'\n",
    "open_green = 'open_green'\n",
    "buildings = 'buildings'\n",
    "roads_pave = 'roads_pavement'\n",
    "shadow = 'shadow'\n",
    "# Add a field to hold the class\n",
    "CLASS = 'class'\n",
    "obj[CLASS] = None\n",
    "\n",
    "\n",
    "def apply_rules(gdf, rules, class_name, unclass_only=True):\n",
    "    \"\"\"Function to apply rules\"\"\"\n",
    "    # Look up strings operators to get function\n",
    "    op_lut = {'>': operator.gt,\n",
    "              '<': operator.lt}\n",
    "    \n",
    "    matches = copy.deepcopy(gdf)\n",
    "    for field, op, val in rules:\n",
    "        if isinstance(op, str):\n",
    "            # if  a string is passed, get the function\n",
    "            op = op_lut[op]\n",
    "        matches = matches[op(matches[field], val)]\n",
    "    root_logger.info(f'Objects to be classified as {class_name}: {len(matches)}')\n",
    "    if unclass_only:\n",
    "        # Index in matches and not classified yet\n",
    "        gdf.loc[gdf.index.isin(matches.index) & gdf[CLASS].isnull(), CLASS] = class_name\n",
    "    else:\n",
    "        # Index in matches - would overwrite class if present\n",
    "        gdf.loc[gdf.index.isin(matches.index), CLASS] = class_name\n",
    "    root_logger.info(f'Objects classified as {class_name}: {len(gdf[gdf[CLASS]==class_name])}')\n",
    "    root_logger.debug(f'Remaining unclassified: {len(gdf[gdf[CLASS].isnull()])}')\n",
    "    return gdf"
   ]
  },
  {
   "cell_type": "code",
   "execution_count": null,
   "id": "384394db",
   "metadata": {
    "jupyter": {
     "source_hidden": true
    },
    "tags": []
   },
   "outputs": [],
   "source": [
    "# Trees\n",
    "tree_rules = [\n",
    "    (ndvi_mean, '>', 0),\n",
    "    (ndsm_mean, '>', 0.75),\n",
    "    (roughness_mean, '>', 1.25)\n",
    "]\n",
    "# Water\n",
    "water_rules = [\n",
    "    (ndvi_mean, '<', 0),\n",
    "    (roughness_mean, '<', 0.13),\n",
    "    (ndsm_mean, '<', 1),\n",
    "    (imgb4_mean, '<', 10)\n",
    "]\n",
    "# Open Green Space\n",
    "open_rules = [\n",
    "    (ndvi_mean, '>', 0.1),\n",
    "    (ndsm_mean, '<', 1)\n",
    "]\n",
    "# Buildings\n",
    "build_rules = [\n",
    "    (ndvi_mean, '<', 0),\n",
    "    (ndsm_mean, '>', 2),\n",
    "]\n",
    "# Roads and pavement\n",
    "roads_rules = [\n",
    "    (ndvi_mean, '<', 0),\n",
    "    (ndsm_mean, '<', 1),\n",
    "    (roughness_mean, '<', 1.5),\n",
    "    (roundness, '>', 2)\n",
    "]\n",
    "# Shadow\n",
    "shadow_rules = [\n",
    "    (imgb1_mean, '<', 150),\n",
    "    (imgb2_mean, '<', 150),\n",
    "    (imgb3_mean, '<', 150),\n",
    "    (imgb4_mean, '<', 150)\n",
    "]\n",
    "classes = [trees, water, open_green, buildings, roads_pave, shadow]\n",
    "rules = [tree_rules, water_rules, open_rules, build_rules, roads_rules, shadow_rules]\n",
    "classes_rules = zip(classes, rules)\n",
    "for class_name, class_rules in classes_rules:\n",
    "    root_logger.info(f'Classifying: {class_name}')\n",
    "    obj = apply_rules(obj, class_rules, class_name)"
   ]
  },
  {
   "cell_type": "markdown",
   "id": "f50192a1-cf6c-4168-a7ae-be9cb5f1b632",
   "metadata": {
    "jupyter": {
     "source_hidden": true
    },
    "tags": []
   },
   "source": [
    "Other rules are possible, but complicated.  \n",
    "* OR rules  \n",
    "* adjacency\n"
   ]
  },
  {
   "cell_type": "code",
   "execution_count": null,
   "id": "f147a926",
   "metadata": {
    "jupyter": {
     "source_hidden": true
    },
    "tags": []
   },
   "outputs": [],
   "source": [
    "# Write classification\n",
    "out_class = out_vec.replace('/seg', '/classified')\n",
    "# write_gdf(obj, out_class)\n",
    "print(out_class)"
   ]
  }
 ],
 "metadata": {
  "kernelspec": {
   "display_name": "Python 3",
   "language": "python",
   "name": "python3"
  },
  "language_info": {
   "codemirror_mode": {
    "name": "ipython",
    "version": 3
   },
   "file_extension": ".py",
   "mimetype": "text/x-python",
   "name": "python",
   "nbconvert_exporter": "python",
   "pygments_lexer": "ipython3",
   "version": "3.9.2"
  }
 },
 "nbformat": 4,
 "nbformat_minor": 5
}
