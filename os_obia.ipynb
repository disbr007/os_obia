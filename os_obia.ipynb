{
 "cells": [
  {
   "cell_type": "markdown",
   "id": "19c870b2-09a6-4da7-ba9b-e45dbf4282dc",
   "metadata": {},
   "source": [
    "# Open Source Object-Based-Image-Analysis\n",
    "*Example workflow to classify an urban scene into basic classes: trees, water, open space, buildings, pavement, shadow*"
   ]
  },
  {
   "cell_type": "markdown",
   "id": "e247b100-6e4e-4ad8-b6d2-164f349c5124",
   "metadata": {
    "tags": []
   },
   "source": [
    "*The great thing about python is...*  \n",
    "<img src=\"img/build_it2.png\" width=\"600\">"
   ]
  },
  {
   "cell_type": "markdown",
   "id": "37a92940",
   "metadata": {
    "tags": []
   },
   "source": [
    "### What is OBIA really?\n",
    "Derivatives -> Segmentation -> Zonal statistics -> Classification "
   ]
  },
  {
   "cell_type": "markdown",
   "id": "98eac067-14c6-4de3-887f-9a422113eb9e",
   "metadata": {
    "tags": []
   },
   "source": [
    "## Tools / Software Stack"
   ]
  },
  {
   "cell_type": "markdown",
   "id": "1db9f8a3-80e3-4796-9949-963f1aadd2d8",
   "metadata": {
    "tags": []
   },
   "source": [
    "## python\n",
    "# ![python](img/python_logo.png)  +  ![gdal](img/gdalicon.png)  \n",
    "- [geopandas](https://geopandas.org): vector (image object) manipulation  \n",
    "- [rasterio](https://rasterio.readthedocs.io/en/latest/): raster loading/manipulation  \n",
    "- [rasterstats](https://pythonhosted.org/rasterstats/): zonal statistics  \n",
    "*The use of anaconda/miniconda is *highly* recommended for managing python dependencies, specifically installing packages from the `conda-forge` channel. E.g.:*  \n",
    "`conda install -c conda-forge geopandas`\n",
    "  \n",
    "  \n",
    "## WhiteBoxTools\n",
    "![wbt](img/WhiteBoxToolsLogo_vert.png)  \n",
    "[WhiteBoxTools](https://jblindsay.github.io/wbt_book/intro.html): raster derivatives, specifically geomorphometic analyses.  \n",
    "*Has python bindings, but tough to integrate with other dependencies, so called from the command line.*  \n",
    "  \n",
    "  \n",
    "## Orfeo Toolbox  \n",
    "![orfeo](img/logo-orfeo-toolbox.png)  \n",
    "[**Orfeo Toolbox**](https://www.orfeo-toolbox.org/CookBook/): segmentation (also has general GIS tools).  \n",
    "*Has python bindings, but tough to integrate with other dependencies, so called from the command line.*  \n",
    "\n",
    "\n",
    "## QGIS\n",
    "![qgis](img/qgis-logo.png)  \n",
    "[**QGIS**](https://qgis.org/en/site/): Viewing outputs, general GIS."
   ]
  },
  {
   "cell_type": "markdown",
   "id": "05836110",
   "metadata": {
    "tags": []
   },
   "source": [
    "## Imports + Logging Set up"
   ]
  },
  {
   "cell_type": "code",
   "execution_count": 1,
   "id": "33674424",
   "metadata": {
    "tags": []
   },
   "outputs": [],
   "source": [
    "# Standard lib\n",
    "import copy\n",
    "import logging\n",
    "import numpy as np\n",
    "import operator\n",
    "from pathlib import Path\n",
    "from pprint import pprint\n",
    "import warnings\n",
    "import sys\n",
    "\n",
    "# Installed packages\n",
    "from osgeo import gdal, osr\n",
    "import geopandas\n",
    "import rasterio\n",
    "import rasterstats\n",
    "from skimage.segmentation import quickshift\n",
    "import scipy\n",
    "\n",
    "# Local packages\n",
    "from lib import (run_subprocess, clean4cmdline, create_grm_outname,\n",
    "                 rio_polygonize, read_vec, write_gdf, write_array,)\n",
    "from calc_zonal_stats import calc_zonal_stats"
   ]
  },
  {
   "cell_type": "code",
   "execution_count": 2,
   "id": "72a02d34",
   "metadata": {
    "tags": []
   },
   "outputs": [],
   "source": [
    "# Set up logger\n",
    "root_logger = logging.getLogger()\n",
    "root_logger.setLevel(logging.INFO)\n",
    "ch = logging.StreamHandler(sys.stdout)\n",
    "ch.setLevel(1)\n",
    "formatter = logging.Formatter(\n",
    "    '%(asctime)s - %(name)s - %(levelname)s - %(message)s')\n",
    "ch.setFormatter(formatter)\n",
    "root_logger.addHandler(ch)\n",
    "\n",
    "warnings.filterwarnings('ignore', category=RuntimeWarning, message='Sequential read of iterator*')"
   ]
  },
  {
   "cell_type": "markdown",
   "id": "6703ac81",
   "metadata": {},
   "source": [
    "## Paths (Orfeo + Data)"
   ]
  },
  {
   "cell_type": "code",
   "execution_count": 3,
   "id": "81e8a022-e21d-4936-a710-03c357d956c3",
   "metadata": {
    "tags": []
   },
   "outputs": [
    {
     "data": {
      "text/plain": [
       "WindowsPath('C:/OTB-7.2.0-Win64/OTB-7.2.0-Win64/bin/otbcli_GenericRegionMerging.bat')"
      ]
     },
     "execution_count": 3,
     "metadata": {},
     "output_type": "execute_result"
    }
   ],
   "source": [
    "# Orfeo setup and tools\n",
    "# Change this to match where OTB is on your machine, the rest of the paths should be OK\n",
    "otb = Path(r'C:\\OTB-7.2.0-Win64\\OTB-7.2.0-Win64')\n",
    "otb_init = otb / 'otbenv.bat'\n",
    "otb_bin = otb / 'bin'\n",
    "otb_grm = otb_bin / 'otbcli_GenericRegionMerging.bat'\n",
    "# otb_lsms = otb_bin / 'otbcli_LargeScaleMeanShift.bat'\n",
    "otb_grm"
   ]
  },
  {
   "cell_type": "code",
   "execution_count": 4,
   "id": "cee53336-455f-44ea-84d5-9791fd2dc7d4",
   "metadata": {
    "tags": []
   },
   "outputs": [
    {
     "data": {
      "text/plain": [
       "WindowsPath('data/naip_m_4509361_se_15_060_20190727_aoi.tif')"
      ]
     },
     "execution_count": 4,
     "metadata": {},
     "output_type": "execute_result"
    }
   ],
   "source": [
    "# Data\n",
    "data_dir = Path(r'./data')\n",
    "img = data_dir / 'naip_m_4509361_se_15_060_20190727_aoi.tif'\n",
    "ndsm = data_dir / 'nDSM_clip_fill.tif'\n",
    "ndvi = data_dir / 'ndvi_naip_m_4509361_se_15_060_20190727_aoi.tif'\n",
    "roughness = data_dir / 'nDSM_clip_fill_roughness.tif'\n",
    "img"
   ]
  },
  {
   "cell_type": "code",
   "execution_count": 5,
   "id": "d6f0af83-8722-45fa-9211-8d21677b3b4d",
   "metadata": {
    "tags": []
   },
   "outputs": [],
   "source": [
    "# Out paths\n",
    "out_dir = Path(r'./results')\n",
    "seg_dir = out_dir / 'seg'"
   ]
  },
  {
   "cell_type": "code",
   "execution_count": 6,
   "id": "3f48f4b6-ed23-4fa0-961a-7c83b6e61cb7",
   "metadata": {
    "tags": []
   },
   "outputs": [
    {
     "name": "stdout",
     "output_type": "stream",
     "text": [
      "2021-04-23 11:23:31,932 - root - INFO - All files/folders located.\n"
     ]
    }
   ],
   "source": [
    "# Ensure all exist\n",
    "missing_files = []\n",
    "for file_path in [data_dir, img, ndsm, ndvi, roughness, out_dir]:\n",
    "    if not file_path.exists():\n",
    "        missing_files.append(file_path)\n",
    "if len(missing_files) > 0:\n",
    "    for file_path in missing_files:\n",
    "        root_logger.error(f'Missing file/folder: {file_path}')\n",
    "else:\n",
    "    root_logger.info('All files/folders located.')"
   ]
  },
  {
   "cell_type": "markdown",
   "id": "e2af1a92",
   "metadata": {
    "tags": []
   },
   "source": [
    "### Check out input data\n",
    "how it was created, histogram of values in image (qgis), profile, stats of image to seg"
   ]
  },
  {
   "cell_type": "code",
   "execution_count": 7,
   "id": "14dddebc-6bec-4ee1-aeb3-80c5b312bf49",
   "metadata": {
    "tags": []
   },
   "outputs": [
    {
     "name": "stdout",
     "output_type": "stream",
     "text": [
      "Driver: GTiff/GeoTIFF\n",
      "Files: data\\naip_m_4509361_se_15_060_20190727_aoi.tif\n",
      "       data\\naip_m_4509361_se_15_060_20190727_aoi.tif.aux.xml\n",
      "Size is 2506, 1444\n",
      "Coordinate System is:\n",
      "PROJCRS[\"NAD83 / UTM zone 15N\",\n",
      "    BASEGEOGCRS[\"NAD83\",\n",
      "        DATUM[\"North American Datum 1983\",\n",
      "            ELLIPSOID[\"GRS 1980\",6378137,298.257222101,\n",
      "                LENGTHUNIT[\"metre\",1]]],\n",
      "        PRIMEM[\"Greenwich\",0,\n",
      "            ANGLEUNIT[\"degree\",0.0174532925199433]],\n",
      "        ID[\"EPSG\",4269]],\n",
      "    CONVERSION[\"UTM zone 15N\",\n",
      "        METHOD[\"Transverse Mercator\",\n",
      "            ID[\"EPSG\",9807]],\n",
      "        PARAMETER[\"Latitude of natural origin\",0,\n",
      "            ANGLEUNIT[\"degree\",0.0174532925199433],\n",
      "            ID[\"EPSG\",8801]],\n",
      "        PARAMETER[\"Longitude of natural origin\",-93,\n",
      "            ANGLEUNIT[\"degree\",0.0174532925199433],\n",
      "            ID[\"EPSG\",8802]],\n",
      "        PARAMETER[\"Scale factor at natural origin\",0.9996,\n",
      "            SCALEUNIT[\"unity\",1],\n",
      "            ID[\"EPSG\",8805]],\n",
      "        PARAMETER[\"False easting\",500000,\n",
      "            LENGTHUNIT[\"metre\",1],\n",
      "            ID[\"EPSG\",8806]],\n",
      "        PARAMETER[\"False northing\",0,\n",
      "            LENGTHUNIT[\"metre\",1],\n",
      "            ID[\"EPSG\",8807]]],\n",
      "    CS[Cartesian,2],\n",
      "        AXIS[\"(E)\",east,\n",
      "            ORDER[1],\n",
      "            LENGTHUNIT[\"metre\",1]],\n",
      "        AXIS[\"(N)\",north,\n",
      "            ORDER[2],\n",
      "            LENGTHUNIT[\"metre\",1]],\n",
      "    USAGE[\n",
      "        SCOPE[\"Engineering survey, topographic mapping.\"],\n",
      "        AREA[\"North America - between 96°W and 90°W - onshore and offshore. Canada - Manitoba; Nunavut; Ontario. United States (USA) - Arkansas; Illinois; Iowa; Kansas; Louisiana; Michigan; Minnesota; Mississippi; Missouri; Nebraska; Oklahoma; Tennessee; Texas; Wisconsin.\"],\n",
      "        BBOX[25.61,-96,84,-90]],\n",
      "    ID[\"EPSG\",26915]]\n",
      "Data axis to CRS axis mapping: 1,2\n",
      "Origin = (467491.799999999988358,4983821.400000000372529)\n",
      "Pixel Size = (0.600000000000014,-0.600000000000258)\n",
      "Metadata:\n",
      "  AREA_OR_POINT=Area\n",
      "Image Structure Metadata:\n",
      "  INTERLEAVE=PIXEL\n",
      "Corner Coordinates:\n",
      "Upper Left  (  467491.800, 4983821.400) ( 93d24'45.04\"W, 45d 0'25.54\"N)\n",
      "Lower Left  (  467491.800, 4982955.000) ( 93d24'44.84\"W, 44d59'57.47\"N)\n",
      "Upper Right (  468995.400, 4983821.400) ( 93d23'36.36\"W, 45d 0'25.79\"N)\n",
      "Lower Right (  468995.400, 4982955.000) ( 93d23'36.16\"W, 44d59'57.71\"N)\n",
      "Center      (  468243.600, 4983388.200) ( 93d24'10.60\"W, 45d 0'11.63\"N)\n",
      "Band 1 Block=2506x1 Type=Byte, ColorInterp=Red\n",
      "  Min=0.000 Max=255.000 \n",
      "  Minimum=0.000, Maximum=255.000, Mean=93.653, StdDev=39.967\n",
      "  Mask Flags: PER_DATASET ALPHA \n",
      "  Metadata:\n",
      "    STATISTICS_MAXIMUM=255\n",
      "    STATISTICS_MEAN=93.652965293268\n",
      "    STATISTICS_MINIMUM=0\n",
      "    STATISTICS_STDDEV=39.967441959392\n",
      "    STATISTICS_VALID_PERCENT=100\n",
      "Band 2 Block=2506x1 Type=Byte, ColorInterp=Green\n",
      "  Min=0.000 Max=255.000 \n",
      "  Minimum=0.000, Maximum=255.000, Mean=100.783, StdDev=35.144\n",
      "  Mask Flags: PER_DATASET ALPHA \n",
      "  Metadata:\n",
      "    STATISTICS_MAXIMUM=255\n",
      "    STATISTICS_MEAN=100.78307132135\n",
      "    STATISTICS_MINIMUM=0\n",
      "    STATISTICS_STDDEV=35.144343074588\n",
      "    STATISTICS_VALID_PERCENT=100\n",
      "Band 3 Block=2506x1 Type=Byte, ColorInterp=Blue\n",
      "  Min=0.000 Max=255.000 \n",
      "  Minimum=0.000, Maximum=255.000, Mean=87.302, StdDev=28.385\n",
      "  Mask Flags: PER_DATASET ALPHA \n",
      "  Metadata:\n",
      "    STATISTICS_MAXIMUM=255\n",
      "    STATISTICS_MEAN=87.302340034886\n",
      "    STATISTICS_MINIMUM=0\n",
      "    STATISTICS_STDDEV=28.385497954349\n",
      "    STATISTICS_VALID_PERCENT=100\n",
      "Band 4 Block=2506x1 Type=Byte, ColorInterp=Alpha\n",
      "  Min=0.000 Max=255.000 \n",
      "  Minimum=0.000, Maximum=255.000, Mean=68.404, StdDev=65.967\n",
      "  Metadata:\n",
      "    STATISTICS_MAXIMUM=255\n",
      "    STATISTICS_MEAN=68.404260799013\n",
      "    STATISTICS_MINIMUM=0\n",
      "    STATISTICS_STDDEV=65.967398237427\n",
      "    STATISTICS_VALID_PERCENT=100\n"
     ]
    }
   ],
   "source": [
    "response = run_subprocess(f'gdalinfo {img} -stats', log=False)\n",
    "for l in response:\n",
    "    print(l.strip('\\n'))"
   ]
  },
  {
   "cell_type": "markdown",
   "id": "2932346b",
   "metadata": {
    "tags": []
   },
   "source": [
    "## Segmentation"
   ]
  },
  {
   "cell_type": "markdown",
   "id": "ebfc3ddb",
   "metadata": {
    "tags": []
   },
   "source": [
    "#### Generic Region Merging\n",
    "[otb docs](https://www.orfeo-toolbox.org/CookBook/Applications/app_GenericRegionMerging.html?highlight=generic%20region%20merging)"
   ]
  },
  {
   "cell_type": "code",
   "execution_count": 8,
   "id": "4c7b71b2",
   "metadata": {
    "tags": []
   },
   "outputs": [
    {
     "name": "stdout",
     "output_type": "stream",
     "text": [
      "2021-04-23 11:23:32,440 - root - INFO - Out image: results\\seg\\naip_m_4509361_se_15_060_20190727_aoi_bst100ni100s0spec0x6spat25.tif\n"
     ]
    }
   ],
   "source": [
    "# Parameters\n",
    "# Homogeneity criterion to use. The default is 'bs'. One of: [bs, ed, fls]\n",
    "criterion = 'bs'\n",
    "threshold = 100\n",
    "niter = 100\n",
    "spectral_w = 0.6 # spectral weight, higher values slow processing time\n",
    "spatial_w = 25 # spatial weight\n",
    "out_img = create_grm_outname(img=img,\n",
    "                             out_dir=seg_dir,\n",
    "                             criterion=criterion,\n",
    "                             threshold=threshold,\n",
    "                             niter=niter,\n",
    "                             spectral=spectral_w,\n",
    "                             spatial=spatial_w)\n",
    "root_logger.info(f'Out image: {out_img}')"
   ]
  },
  {
   "cell_type": "code",
   "execution_count": 9,
   "id": "eb2e7038",
   "metadata": {
    "tags": []
   },
   "outputs": [
    {
     "name": "stdout",
     "output_type": "stream",
     "text": [
      "2021-04-23 11:23:32,474 - root - INFO - OTB command:\n",
      "\"C:\\OTB-7.2.0-Win64\\OTB-7.2.0-Win64\\bin\\otbcli_GenericRegionMerging.bat\" -in data\\naip_m_4509361_se_15_060_20190727_aoi.tif -out results\\seg\\naip_m_4509361_se_15_060_20190727_aoi_bst100ni100s0spec0x6spat25.tif -criterion bs -threshold 100 -niter 100 -cw 0.6 -sw 25\n"
     ]
    }
   ],
   "source": [
    "# Build the command\n",
    "otb_cmd = f\"\"\"\n",
    "\"{otb_grm}\"\n",
    "-in {str(img)}\n",
    "-out {str(out_img)}\n",
    "-criterion {criterion}\n",
    "-threshold {threshold}\n",
    "-niter {niter}\n",
    "-cw {spectral_w}\n",
    "-sw {spatial_w}\"\"\"\n",
    "\n",
    "otb_cmd = clean4cmdline(otb_cmd)\n",
    "root_logger.info(f'OTB command:\\n{otb_cmd}')\n",
    "otb_cmd = f'{otb_init} && {otb_cmd}'\n",
    "root_logger.debug(f'OTB full command:\\n{otb_cmd}')"
   ]
  },
  {
   "cell_type": "code",
   "execution_count": 10,
   "id": "10684db7",
   "metadata": {
    "tags": []
   },
   "outputs": [
    {
     "name": "stdout",
     "output_type": "stream",
     "text": [
      "2021-04-23 11:23:43,427 - lib - INFO - 2021-04-23 11:23:32 (INFO) GenericRegionMerging: Default RAM limit for OTB is 256 MB\n",
      "\n",
      "2021-04-23 11:23:43,431 - lib - INFO - 2021-04-23 11:23:32 (INFO) GenericRegionMerging: GDAL maximum cache size is 400 MB\n",
      "\n",
      "2021-04-23 11:23:43,434 - lib - INFO - 2021-04-23 11:23:32 (INFO) GenericRegionMerging: OTB will use at most 8 threads\n",
      "\n",
      "2021-04-23 11:24:34,955 - lib - INFO - ....................................................................................................\n",
      "\n",
      "2021-04-23 11:24:37,861 - lib - INFO - 2021-04-23 11:24:37 (INFO): Estimated memory for full processing: 68.9824MB (avail.: 256 MB), optimal image partitioning: 1 blocks\n",
      "\n",
      "2021-04-23 11:24:37,862 - lib - INFO - 2021-04-23 11:24:37 (INFO): File results\\seg\\naip_m_4509361_se_15_060_20190727_aoi_bst100ni100s0spec0x6spat25.tif will be written in 1 blocks of 2506x1444 pixels\n",
      "\n",
      "2021-04-23 11:24:37,863 - lib - INFO - Writing results\\seg\\naip_m_4509361_se_15_060_20190727_aoi_bst100ni100s0spec0x6spat25.tif...: 100% [**************************************************] (0s)\n",
      "\n"
     ]
    },
    {
     "data": {
      "text/plain": [
       "[]"
      ]
     },
     "execution_count": 10,
     "metadata": {},
     "output_type": "execute_result"
    }
   ],
   "source": [
    "run_subprocess(otb_cmd)"
   ]
  },
  {
   "cell_type": "markdown",
   "id": "7d5530e7",
   "metadata": {
    "tags": []
   },
   "source": [
    "(Check out resulting image)"
   ]
  },
  {
   "cell_type": "code",
   "execution_count": 21,
   "id": "8d1f7d77",
   "metadata": {
    "tags": []
   },
   "outputs": [
    {
     "name": "stdout",
     "output_type": "stream",
     "text": [
      "2021-04-23 11:32:31,729 - lib - INFO - Polygonizing: results\\seg\\naip_m_4509361_se_15_060_20190727_aoi_bst100ni100s0spec0x6spat25.tif\n",
      "2021-04-23 11:32:32,546 - lib - INFO - Writing polygons to: results\\seg\\naip_m_4509361_se_15_060_20190727_aoi_bst100ni100s0spec0x6spat25.gpkg/seg\n"
     ]
    }
   ],
   "source": [
    "# Convert output tif to polygons\n",
    "out_vec = out_img.replace('.tif', '.gpkg/seg')\n",
    "vec_objects = rio_polygonize(img=out_img, out_vec=out_vec)"
   ]
  },
  {
   "cell_type": "markdown",
   "id": "50fc5c5a",
   "metadata": {
    "tags": []
   },
   "source": [
    "(Check out resuting polygons)"
   ]
  },
  {
   "cell_type": "markdown",
   "id": "a2c68949-d402-4f69-9e19-4ff4210ad6ff",
   "metadata": {
    "tags": []
   },
   "source": [
    "### Other segmentation options"
   ]
  },
  {
   "cell_type": "markdown",
   "id": "f5078446-329c-4f1a-83a1-a33bc9b9a242",
   "metadata": {
    "tags": []
   },
   "source": [
    "[Orfeo Toolbox LargeScaleMeanShift](https://www.orfeo-toolbox.org/CookBook/Applications/app_LargeScaleMeanShift.html)\n",
    "\n",
    "[Scikit-Image Segmenation](https://scikit-image.org/docs/stable/auto_examples/segmentation/plot_segmentations.html)  \n",
    "Inputs and output are often numpy arrays/matrices that need to be converted from geographic-space to pixel-space and back to geographic-space. \n",
    "\n",
    "![pixel_space](img/pixel_space.png)\n",
    "\n",
    "A couple of useful functions for this conversion:"
   ]
  },
  {
   "cell_type": "code",
   "execution_count": 13,
   "id": "9cfbd82a-a1e6-4789-88b5-21738ccb8480",
   "metadata": {
    "tags": []
   },
   "outputs": [],
   "source": [
    "# Functions for going back and forth from pixel space to coordinate space\n",
    "def pixel2geo(pixel_coord, geotransform):\n",
    "    \"\"\"\n",
    "    Covert pixel coordinates to geographic coordinates\n",
    "    \"\"\"\n",
    "    y, x = pixel_coord\n",
    "    gy = geotransform[4] * x + geotransform[5] * y + geotransform[4] * 0.5 + geotransform[5] * 0.5 + geotransform[3]\n",
    "    gx = geotransform[1] * x + geotransform[2] * y + geotransform[1] * 0.5 + geotransform[2] * 0.5 + geotransform[0]\n",
    "\n",
    "    return gy, gx\n",
    "\n",
    "def geo2pixel(geocoord, geotransform):\n",
    "    \"\"\"\n",
    "    Convert geographic coordinates to pixel coordinates\n",
    "    \"\"\"\n",
    "    y, x = geocoord\n",
    "    py = int(np.around((y - geotransform[3]) / geotransform[5]))\n",
    "    px = int(np.around((x - geotransform[0]) / geotransform[1]))\n",
    "    return py, px"
   ]
  },
  {
   "cell_type": "markdown",
   "id": "0a743a68-ec15-46b5-b978-932375281427",
   "metadata": {
    "tags": []
   },
   "source": [
    "Luckily GDAL can handle much of this work, if you know where to look...  \n",
    "<img src=\"img/gdal_geotransform.png\" width=\"400\">\n"
   ]
  },
  {
   "cell_type": "code",
   "execution_count": 11,
   "id": "90dc3880-0732-49bd-89d5-a3fe91433d7d",
   "metadata": {
    "tags": []
   },
   "outputs": [
    {
     "name": "stdout",
     "output_type": "stream",
     "text": [
      "2021-04-23 11:24:53,337 - root - INFO - Geotransform:\n",
      "(467491.8, 0.600000000000014, 0.0, 4983821.4, 0.0, -0.600000000000258)\n",
      "\n",
      "2021-04-23 11:24:53,340 - root - INFO - Top left x: 467491.8\n",
      "2021-04-23 11:24:53,342 - root - INFO - X Resolution: 0.600000000000014\n",
      "2021-04-23 11:24:53,345 - root - INFO - Rotation1: 0.0\n",
      "2021-04-23 11:24:53,346 - root - INFO - Top left y: 4983821.4\n",
      "2021-04-23 11:24:53,348 - root - INFO - Rotation2: 0.0\n",
      "2021-04-23 11:24:53,350 - root - INFO - Y Resolution: -0.600000000000258\n",
      "\n"
     ]
    }
   ],
   "source": [
    "# Open image and get geotransform\n",
    "ds = gdal.Open(str(img))\n",
    "geotransform = ds.GetGeoTransform()\n",
    "\n",
    "# Log info \n",
    "root_logger.info(f'Geotransform:\\n{geotransform}\\n')\n",
    "root_logger.info(f'Top left x: {geotransform[0]}')\n",
    "root_logger.info(f'X Resolution: {geotransform[1]}')\n",
    "root_logger.info(f'Rotation1: {geotransform[2]}')\n",
    "root_logger.info(f'Top left y: {geotransform[3]}')\n",
    "root_logger.info(f'Rotation2: {geotransform[4]}')\n",
    "root_logger.info(f'Y Resolution: {geotransform[5]}\\n')"
   ]
  },
  {
   "cell_type": "code",
   "execution_count": 14,
   "id": "61f2618c-6201-462b-bde0-3cf8974cf47f",
   "metadata": {
    "tags": []
   },
   "outputs": [
    {
     "name": "stdout",
     "output_type": "stream",
     "text": [
      "2021-04-23 11:25:39,994 - root - INFO - Top left corner in pixels (y, x): (0, 0)\n",
      "2021-04-23 11:25:39,996 - root - INFO - Top left corner in geocoords (y, x): (4983821.100000001, 467492.1)\n"
     ]
    }
   ],
   "source": [
    "root_logger.info(f'Top left corner in pixels (y, x): {geo2pixel(geocoord=(4983821.4, 467491.8), geotransform=geotransform)}')\n",
    "root_logger.info(f'Top left corner in geocoords (y, x): {pixel2geo(pixel_coord=(0,0), geotransform=geotransform)}')"
   ]
  },
  {
   "cell_type": "markdown",
   "id": "7f6057e0-8075-4633-a9a0-08d3b109eb6c",
   "metadata": {},
   "source": [
    "#### Quickshift Segmentation"
   ]
  },
  {
   "cell_type": "code",
   "execution_count": 15,
   "id": "fa9b93cc-1392-4c44-8e01-965d04befd69",
   "metadata": {
    "tags": []
   },
   "outputs": [],
   "source": [
    "# Read image as array\n",
    "array = ds.ReadAsArray()\n",
    "# Reshape so that bands are last dimension of array\n",
    "rgb = array.reshape(array.shape[1], array.shape[2], array.shape[0])\n",
    "# Drop last band to get three-bands\n",
    "rgb = rgb[:, :, :3]\n",
    "# Run segmentation\n",
    "labelled = quickshift(image=rgb, ratio=1, kernel_size=5, max_dist=25, sigma=1)"
   ]
  },
  {
   "cell_type": "code",
   "execution_count": 28,
   "id": "6135f5dc-cf98-4002-935e-1dc0f010b59b",
   "metadata": {
    "tags": []
   },
   "outputs": [
    {
     "name": "stdout",
     "output_type": "stream",
     "text": [
      "2021-04-23 12:34:29,354 - root - INFO - Source array shape: (4, 1444, 2506)\n",
      "2021-04-23 12:34:29,370 - root - INFO - RGB array shape: (1444, 2506, 3)\n",
      "2021-04-23 12:34:29,370 - root - INFO - Labelled shape: (1444, 2506)\n"
     ]
    }
   ],
   "source": [
    "root_logger.info(f'Source array shape: {array.shape}')\n",
    "root_logger.info(f'RGB array shape: {rgb.shape}')\n",
    "root_logger.info(f'Labelled shape: {labelled.shape}')"
   ]
  },
  {
   "cell_type": "code",
   "execution_count": 17,
   "id": "6d5fd11e-3509-4c9f-8769-1f95413c8790",
   "metadata": {
    "tags": []
   },
   "outputs": [
    {
     "name": "stdout",
     "output_type": "stream",
     "text": [
      "2021-04-23 11:30:02,364 - lib - WARNING - Unable to determine NoData value using -9999\n",
      "2021-04-23 11:30:02,367 - lib - INFO - Creating raster at: results\\seg\\naip_m_4509361_se_15_060_20190727_aoi_bst100ni100s0spec0x6spat25_qs.tif\n",
      "2021-04-23 11:30:02,542 - lib - INFO - Writing complete.\n"
     ]
    }
   ],
   "source": [
    "# Write array out, using geotransform+projection of original image\n",
    "out_qs = out_img.replace('.tif', '_qs.tif')\n",
    "write_array(labelled, out_qs, ds, dtype=3)"
   ]
  },
  {
   "cell_type": "code",
   "execution_count": 18,
   "id": "201b4a5c-5b42-4acc-99e8-89ed35f4c4a9",
   "metadata": {
    "tags": []
   },
   "outputs": [
    {
     "name": "stdout",
     "output_type": "stream",
     "text": [
      "2021-04-23 11:30:03,654 - lib - INFO - Polygonizing: results\\seg\\naip_m_4509361_se_15_060_20190727_aoi_bst100ni100s0spec0x6spat25_qs.tif\n",
      "2021-04-23 11:30:05,240 - lib - INFO - Writing polygons to: results\\seg\\naip_m_4509361_se_15_060_20190727_aoi_bst100ni100s0spec0x6spat25_qs_qs.gpkg/qs_seg\n"
     ]
    }
   ],
   "source": [
    "out_qs_vec = out_qs.replace('.tif', '_qs.gpkg/qs_seg')\n",
    "qs_poly = rio_polygonize(img=out_qs, out_vec=out_qs_vec)"
   ]
  },
  {
   "cell_type": "markdown",
   "id": "196511fd-d591-4c7c-8b66-63ddaeeaffe2",
   "metadata": {},
   "source": [
    "## Zonal Statistics"
   ]
  },
  {
   "cell_type": "markdown",
   "id": "ee1692f1-7447-4b73-91b5-d9a25878112c",
   "metadata": {
    "tags": []
   },
   "source": [
    "The [rasterstats](https://pythonhosted.org/rasterstats/https://pythonhosted.org/rasterstats/) package does all of the work here. The simpliest usage of `rasterstats` is very easy, this is straight from their docs:  \n",
    "```python\n",
    "from rasterstats import zonal_stats\n",
    "zonal_stats(\"polygons.shp\", \"elevation.tif\",\n",
    "            stats=\"count min mean max median\")\n",
    "```\n",
    "The only wonky bit is that this returns a `list` of `dicts`, one for each feature in `polygons.shp`:\n",
    "```python\n",
    "[...,\n",
    " {'count': 89,\n",
    "  'max': 69.52958679199219,\n",
    "  'mean': 20.08093536034059,\n",
    "  'median': 19.33736801147461,\n",
    "  'min': 1.5106816291809082},\n",
    "]\n",
    "\n",
    "```\n",
    "The `calc_zonal_stats` function I wrote handles the logic of inputting multiple rasters, computing different stats for each raster, formatting the results into a GeoDataFrame and writing the output. It also adds the ability to compute `compactness` and `roundness`. "
   ]
  },
  {
   "cell_type": "code",
   "execution_count": 19,
   "id": "5da94cd6",
   "metadata": {
    "tags": []
   },
   "outputs": [],
   "source": [
    "# Create dictionary of rasters, stats, and bands to compute\n",
    "zonal_stats_params = (\n",
    "    {\"img\": {\n",
    "        \"path\": img,\n",
    "        \"stats\": [\"mean\", \"max\"],\n",
    "        \"bands\": [1, 2, 3, 4]\n",
    "\t},\n",
    "    \"nDSM\": {\n",
    "        \"path\": ndsm,\n",
    "        \"stats\": [\"mean\"]\n",
    "    },\n",
    "    \"roughness\":{\n",
    "        \"path\": roughness,\n",
    "        \"stats\": [\"mean\"],\n",
    "    },\n",
    "    \"ndvi\":{\n",
    "        \"path\": ndvi,\n",
    "        \"stats\": [\"mean\"]\n",
    "    } \n",
    "})"
   ]
  },
  {
   "cell_type": "code",
   "execution_count": 29,
   "id": "ec691448",
   "metadata": {
    "tags": []
   },
   "outputs": [
    {
     "name": "stdout",
     "output_type": "stream",
     "text": [
      "2021-04-23 12:35:36,574 - calc_zonal_stats - INFO - Reading in segments from: results\\seg\\naip_m_4509361_se_15_060_20190727_aoi_bst100ni100s0spec0x6spat25.gpkg/seg...\n",
      "2021-04-23 12:35:37,361 - calc_zonal_stats - INFO - Segments found: 9,033\n",
      "2021-04-23 12:35:37,361 - calc_zonal_stats - INFO - Computing mean max on raster:\n",
      "\tdata\\naip_m_4509361_se_15_060_20190727_aoi.tif\n",
      "2021-04-23 12:35:37,361 - calc_zonal_stats - INFO - Band: 1\n"
     ]
    },
    {
     "name": "stderr",
     "output_type": "stream",
     "text": [
      "C:\\Miniconda3\\envs\\osobia\\lib\\site-packages\\rasterstats\\io.py:301: UserWarning: Setting nodata to -999; specify nodata explicitly\n",
      "  warnings.warn(\"Setting nodata to -999; specify nodata explicitly\")\n"
     ]
    },
    {
     "name": "stdout",
     "output_type": "stream",
     "text": [
      "2021-04-23 12:36:25,881 - calc_zonal_stats - INFO - Computing mean max on raster:\n",
      "\tdata\\naip_m_4509361_se_15_060_20190727_aoi.tif\n",
      "2021-04-23 12:36:25,883 - calc_zonal_stats - INFO - Band: 2\n",
      "2021-04-23 12:37:14,014 - calc_zonal_stats - INFO - Computing mean max on raster:\n",
      "\tdata\\naip_m_4509361_se_15_060_20190727_aoi.tif\n",
      "2021-04-23 12:37:14,015 - calc_zonal_stats - INFO - Band: 3\n",
      "2021-04-23 12:38:02,766 - calc_zonal_stats - INFO - Computing mean max on raster:\n",
      "\tdata\\naip_m_4509361_se_15_060_20190727_aoi.tif\n",
      "2021-04-23 12:38:02,771 - calc_zonal_stats - INFO - Band: 4\n",
      "2021-04-23 12:38:50,945 - calc_zonal_stats - INFO - Computing mean on raster:\n",
      "\tdata\\nDSM_clip_fill.tif\n",
      "2021-04-23 12:39:29,329 - calc_zonal_stats - INFO - Computing mean on raster:\n",
      "\tdata\\nDSM_clip_fill_roughness.tif\n",
      "2021-04-23 12:40:45,435 - calc_zonal_stats - INFO - Computing mean on raster:\n",
      "\tdata\\ndvi_naip_m_4509361_se_15_060_20190727_aoi.tif\n",
      "2021-04-23 12:41:53,175 - calc_zonal_stats - INFO - Writing segments with statistics to: results\\seg\\naip_m_4509361_se_15_060_20190727_aoi_bst100ni100s0spec0x6spat25.gpkg/zs\n"
     ]
    },
    {
     "data": {
      "text/html": [
       "<div>\n",
       "<style scoped>\n",
       "    .dataframe tbody tr th:only-of-type {\n",
       "        vertical-align: middle;\n",
       "    }\n",
       "\n",
       "    .dataframe tbody tr th {\n",
       "        vertical-align: top;\n",
       "    }\n",
       "\n",
       "    .dataframe thead th {\n",
       "        text-align: right;\n",
       "    }\n",
       "</style>\n",
       "<table border=\"1\" class=\"dataframe\">\n",
       "  <thead>\n",
       "    <tr style=\"text-align: right;\">\n",
       "      <th></th>\n",
       "      <th>raster_val</th>\n",
       "      <th>geometry</th>\n",
       "      <th>imgb1_max</th>\n",
       "      <th>imgb1_mean</th>\n",
       "      <th>imgb2_max</th>\n",
       "      <th>imgb2_mean</th>\n",
       "      <th>imgb3_max</th>\n",
       "      <th>imgb3_mean</th>\n",
       "      <th>imgb4_max</th>\n",
       "      <th>imgb4_mean</th>\n",
       "      <th>nDSM_mean</th>\n",
       "      <th>roughness_mean</th>\n",
       "      <th>ndvi_mean</th>\n",
       "      <th>area_zs</th>\n",
       "      <th>compactness</th>\n",
       "      <th>roundness</th>\n",
       "    </tr>\n",
       "  </thead>\n",
       "  <tbody>\n",
       "    <tr>\n",
       "      <th>0</th>\n",
       "      <td>1.0</td>\n",
       "      <td>POLYGON ((467491.800 4983821.400, 467491.800 4...</td>\n",
       "      <td>0.0</td>\n",
       "      <td>0.000000</td>\n",
       "      <td>0.0</td>\n",
       "      <td>0.000000</td>\n",
       "      <td>0.0</td>\n",
       "      <td>0.000000</td>\n",
       "      <td>0.0</td>\n",
       "      <td>0.000000</td>\n",
       "      <td>NaN</td>\n",
       "      <td>NaN</td>\n",
       "      <td>NaN</td>\n",
       "      <td>23.04</td>\n",
       "      <td>0.047589</td>\n",
       "      <td>21.013426</td>\n",
       "    </tr>\n",
       "    <tr>\n",
       "      <th>1</th>\n",
       "      <td>2.0</td>\n",
       "      <td>POLYGON ((467530.200 4983821.400, 467530.200 4...</td>\n",
       "      <td>0.0</td>\n",
       "      <td>0.000000</td>\n",
       "      <td>0.0</td>\n",
       "      <td>0.000000</td>\n",
       "      <td>0.0</td>\n",
       "      <td>0.000000</td>\n",
       "      <td>0.0</td>\n",
       "      <td>0.000000</td>\n",
       "      <td>NaN</td>\n",
       "      <td>NaN</td>\n",
       "      <td>NaN</td>\n",
       "      <td>23.04</td>\n",
       "      <td>0.047589</td>\n",
       "      <td>21.013426</td>\n",
       "    </tr>\n",
       "    <tr>\n",
       "      <th>2</th>\n",
       "      <td>3.0</td>\n",
       "      <td>POLYGON ((467568.600 4983821.400, 467568.600 4...</td>\n",
       "      <td>0.0</td>\n",
       "      <td>0.000000</td>\n",
       "      <td>0.0</td>\n",
       "      <td>0.000000</td>\n",
       "      <td>0.0</td>\n",
       "      <td>0.000000</td>\n",
       "      <td>0.0</td>\n",
       "      <td>0.000000</td>\n",
       "      <td>NaN</td>\n",
       "      <td>NaN</td>\n",
       "      <td>NaN</td>\n",
       "      <td>11.52</td>\n",
       "      <td>0.092315</td>\n",
       "      <td>10.832483</td>\n",
       "    </tr>\n",
       "    <tr>\n",
       "      <th>3</th>\n",
       "      <td>4.0</td>\n",
       "      <td>POLYGON ((467587.800 4983821.400, 467587.800 4...</td>\n",
       "      <td>0.0</td>\n",
       "      <td>0.000000</td>\n",
       "      <td>0.0</td>\n",
       "      <td>0.000000</td>\n",
       "      <td>0.0</td>\n",
       "      <td>0.000000</td>\n",
       "      <td>0.0</td>\n",
       "      <td>0.000000</td>\n",
       "      <td>NaN</td>\n",
       "      <td>NaN</td>\n",
       "      <td>NaN</td>\n",
       "      <td>5.76</td>\n",
       "      <td>0.173929</td>\n",
       "      <td>5.749472</td>\n",
       "    </tr>\n",
       "    <tr>\n",
       "      <th>4</th>\n",
       "      <td>5.0</td>\n",
       "      <td>POLYGON ((467597.400 4983821.400, 467597.400 4...</td>\n",
       "      <td>0.0</td>\n",
       "      <td>0.000000</td>\n",
       "      <td>0.0</td>\n",
       "      <td>0.000000</td>\n",
       "      <td>0.0</td>\n",
       "      <td>0.000000</td>\n",
       "      <td>0.0</td>\n",
       "      <td>0.000000</td>\n",
       "      <td>NaN</td>\n",
       "      <td>NaN</td>\n",
       "      <td>NaN</td>\n",
       "      <td>2.88</td>\n",
       "      <td>0.310281</td>\n",
       "      <td>3.222888</td>\n",
       "    </tr>\n",
       "    <tr>\n",
       "      <th>...</th>\n",
       "      <td>...</td>\n",
       "      <td>...</td>\n",
       "      <td>...</td>\n",
       "      <td>...</td>\n",
       "      <td>...</td>\n",
       "      <td>...</td>\n",
       "      <td>...</td>\n",
       "      <td>...</td>\n",
       "      <td>...</td>\n",
       "      <td>...</td>\n",
       "      <td>...</td>\n",
       "      <td>...</td>\n",
       "      <td>...</td>\n",
       "      <td>...</td>\n",
       "      <td>...</td>\n",
       "      <td>...</td>\n",
       "    </tr>\n",
       "    <tr>\n",
       "      <th>9028</th>\n",
       "      <td>8930.0</td>\n",
       "      <td>POLYGON ((468683.400 4982980.800, 468683.400 4...</td>\n",
       "      <td>141.0</td>\n",
       "      <td>80.877061</td>\n",
       "      <td>155.0</td>\n",
       "      <td>93.407796</td>\n",
       "      <td>113.0</td>\n",
       "      <td>75.930285</td>\n",
       "      <td>201.0</td>\n",
       "      <td>129.033733</td>\n",
       "      <td>5.861141</td>\n",
       "      <td>11.850944</td>\n",
       "      <td>0.247328</td>\n",
       "      <td>480.24</td>\n",
       "      <td>0.251841</td>\n",
       "      <td>3.970761</td>\n",
       "    </tr>\n",
       "    <tr>\n",
       "      <th>9029</th>\n",
       "      <td>9032.0</td>\n",
       "      <td>POLYGON ((468994.800 4982956.200, 468994.800 4...</td>\n",
       "      <td>0.0</td>\n",
       "      <td>0.000000</td>\n",
       "      <td>0.0</td>\n",
       "      <td>0.000000</td>\n",
       "      <td>0.0</td>\n",
       "      <td>0.000000</td>\n",
       "      <td>0.0</td>\n",
       "      <td>0.000000</td>\n",
       "      <td>NaN</td>\n",
       "      <td>NaN</td>\n",
       "      <td>NaN</td>\n",
       "      <td>0.36</td>\n",
       "      <td>0.785398</td>\n",
       "      <td>1.273240</td>\n",
       "    </tr>\n",
       "    <tr>\n",
       "      <th>9030</th>\n",
       "      <td>8998.0</td>\n",
       "      <td>POLYGON ((468471.600 4982967.600, 468471.600 4...</td>\n",
       "      <td>143.0</td>\n",
       "      <td>67.196319</td>\n",
       "      <td>131.0</td>\n",
       "      <td>67.527607</td>\n",
       "      <td>118.0</td>\n",
       "      <td>76.500000</td>\n",
       "      <td>131.0</td>\n",
       "      <td>31.723926</td>\n",
       "      <td>1.535610</td>\n",
       "      <td>2.468661</td>\n",
       "      <td>-0.414224</td>\n",
       "      <td>117.36</td>\n",
       "      <td>0.426555</td>\n",
       "      <td>2.344362</td>\n",
       "    </tr>\n",
       "    <tr>\n",
       "      <th>9031</th>\n",
       "      <td>9012.0</td>\n",
       "      <td>POLYGON ((468607.200 4982964.600, 468607.200 4...</td>\n",
       "      <td>186.0</td>\n",
       "      <td>124.243802</td>\n",
       "      <td>176.0</td>\n",
       "      <td>123.235537</td>\n",
       "      <td>158.0</td>\n",
       "      <td>103.380165</td>\n",
       "      <td>142.0</td>\n",
       "      <td>108.235537</td>\n",
       "      <td>0.080337</td>\n",
       "      <td>0.392763</td>\n",
       "      <td>-0.012404</td>\n",
       "      <td>87.12</td>\n",
       "      <td>0.329976</td>\n",
       "      <td>3.030521</td>\n",
       "    </tr>\n",
       "    <tr>\n",
       "      <th>9032</th>\n",
       "      <td>9033.0</td>\n",
       "      <td>POLYGON ((468994.800 4982955.600, 468994.800 4...</td>\n",
       "      <td>0.0</td>\n",
       "      <td>0.000000</td>\n",
       "      <td>0.0</td>\n",
       "      <td>0.000000</td>\n",
       "      <td>0.0</td>\n",
       "      <td>0.000000</td>\n",
       "      <td>0.0</td>\n",
       "      <td>0.000000</td>\n",
       "      <td>NaN</td>\n",
       "      <td>NaN</td>\n",
       "      <td>NaN</td>\n",
       "      <td>0.36</td>\n",
       "      <td>0.785398</td>\n",
       "      <td>1.273240</td>\n",
       "    </tr>\n",
       "  </tbody>\n",
       "</table>\n",
       "<p>9033 rows × 16 columns</p>\n",
       "</div>"
      ],
      "text/plain": [
       "      raster_val                                           geometry  \\\n",
       "0            1.0  POLYGON ((467491.800 4983821.400, 467491.800 4...   \n",
       "1            2.0  POLYGON ((467530.200 4983821.400, 467530.200 4...   \n",
       "2            3.0  POLYGON ((467568.600 4983821.400, 467568.600 4...   \n",
       "3            4.0  POLYGON ((467587.800 4983821.400, 467587.800 4...   \n",
       "4            5.0  POLYGON ((467597.400 4983821.400, 467597.400 4...   \n",
       "...          ...                                                ...   \n",
       "9028      8930.0  POLYGON ((468683.400 4982980.800, 468683.400 4...   \n",
       "9029      9032.0  POLYGON ((468994.800 4982956.200, 468994.800 4...   \n",
       "9030      8998.0  POLYGON ((468471.600 4982967.600, 468471.600 4...   \n",
       "9031      9012.0  POLYGON ((468607.200 4982964.600, 468607.200 4...   \n",
       "9032      9033.0  POLYGON ((468994.800 4982955.600, 468994.800 4...   \n",
       "\n",
       "      imgb1_max  imgb1_mean  imgb2_max  imgb2_mean  imgb3_max  imgb3_mean  \\\n",
       "0           0.0    0.000000        0.0    0.000000        0.0    0.000000   \n",
       "1           0.0    0.000000        0.0    0.000000        0.0    0.000000   \n",
       "2           0.0    0.000000        0.0    0.000000        0.0    0.000000   \n",
       "3           0.0    0.000000        0.0    0.000000        0.0    0.000000   \n",
       "4           0.0    0.000000        0.0    0.000000        0.0    0.000000   \n",
       "...         ...         ...        ...         ...        ...         ...   \n",
       "9028      141.0   80.877061      155.0   93.407796      113.0   75.930285   \n",
       "9029        0.0    0.000000        0.0    0.000000        0.0    0.000000   \n",
       "9030      143.0   67.196319      131.0   67.527607      118.0   76.500000   \n",
       "9031      186.0  124.243802      176.0  123.235537      158.0  103.380165   \n",
       "9032        0.0    0.000000        0.0    0.000000        0.0    0.000000   \n",
       "\n",
       "      imgb4_max  imgb4_mean  nDSM_mean  roughness_mean  ndvi_mean  area_zs  \\\n",
       "0           0.0    0.000000        NaN             NaN        NaN    23.04   \n",
       "1           0.0    0.000000        NaN             NaN        NaN    23.04   \n",
       "2           0.0    0.000000        NaN             NaN        NaN    11.52   \n",
       "3           0.0    0.000000        NaN             NaN        NaN     5.76   \n",
       "4           0.0    0.000000        NaN             NaN        NaN     2.88   \n",
       "...         ...         ...        ...             ...        ...      ...   \n",
       "9028      201.0  129.033733   5.861141       11.850944   0.247328   480.24   \n",
       "9029        0.0    0.000000        NaN             NaN        NaN     0.36   \n",
       "9030      131.0   31.723926   1.535610        2.468661  -0.414224   117.36   \n",
       "9031      142.0  108.235537   0.080337        0.392763  -0.012404    87.12   \n",
       "9032        0.0    0.000000        NaN             NaN        NaN     0.36   \n",
       "\n",
       "      compactness  roundness  \n",
       "0        0.047589  21.013426  \n",
       "1        0.047589  21.013426  \n",
       "2        0.092315  10.832483  \n",
       "3        0.173929   5.749472  \n",
       "4        0.310281   3.222888  \n",
       "...           ...        ...  \n",
       "9028     0.251841   3.970761  \n",
       "9029     0.785398   1.273240  \n",
       "9030     0.426555   2.344362  \n",
       "9031     0.329976   3.030521  \n",
       "9032     0.785398   1.273240  \n",
       "\n",
       "[9033 rows x 16 columns]"
      ]
     },
     "execution_count": 29,
     "metadata": {},
     "output_type": "execute_result"
    }
   ],
   "source": [
    "out_zs = out_vec.replace('/seg', '/zs')\n",
    "calc_zonal_stats(shp=out_vec,\n",
    "                 rasters=[zonal_stats_params],\n",
    "                 compactness=True,\n",
    "                 roundness=True,\n",
    "                 out_path=out_zs)"
   ]
  },
  {
   "cell_type": "markdown",
   "id": "c534958e-3f6e-48bc-8240-05a55afb82c3",
   "metadata": {},
   "source": [
    "## Classification"
   ]
  },
  {
   "cell_type": "markdown",
   "id": "5dfdb3a6-3125-4428-b90b-93606010b3e8",
   "metadata": {
    "tags": []
   },
   "source": [
    "This is done with python+geopandas but could also be done via QGIS+select_by_attribute"
   ]
  },
  {
   "cell_type": "code",
   "execution_count": 30,
   "id": "8c82a9c6",
   "metadata": {
    "tags": []
   },
   "outputs": [
    {
     "data": {
      "text/html": [
       "<div>\n",
       "<style scoped>\n",
       "    .dataframe tbody tr th:only-of-type {\n",
       "        vertical-align: middle;\n",
       "    }\n",
       "\n",
       "    .dataframe tbody tr th {\n",
       "        vertical-align: top;\n",
       "    }\n",
       "\n",
       "    .dataframe thead th {\n",
       "        text-align: right;\n",
       "    }\n",
       "</style>\n",
       "<table border=\"1\" class=\"dataframe\">\n",
       "  <thead>\n",
       "    <tr style=\"text-align: right;\">\n",
       "      <th></th>\n",
       "      <th>raster_val</th>\n",
       "      <th>imgb1_max</th>\n",
       "      <th>imgb1_mean</th>\n",
       "      <th>imgb2_max</th>\n",
       "      <th>imgb2_mean</th>\n",
       "      <th>imgb3_max</th>\n",
       "      <th>imgb3_mean</th>\n",
       "      <th>imgb4_max</th>\n",
       "      <th>imgb4_mean</th>\n",
       "      <th>nDSM_mean</th>\n",
       "      <th>roughness_mean</th>\n",
       "      <th>ndvi_mean</th>\n",
       "      <th>area_zs</th>\n",
       "      <th>compactness</th>\n",
       "      <th>roundness</th>\n",
       "      <th>geometry</th>\n",
       "    </tr>\n",
       "  </thead>\n",
       "  <tbody>\n",
       "    <tr>\n",
       "      <th>2030</th>\n",
       "      <td>2031.0</td>\n",
       "      <td>0.0</td>\n",
       "      <td>0.000000</td>\n",
       "      <td>0.0</td>\n",
       "      <td>0.000000</td>\n",
       "      <td>0.0</td>\n",
       "      <td>0.000000</td>\n",
       "      <td>0.0</td>\n",
       "      <td>0.000000</td>\n",
       "      <td>NaN</td>\n",
       "      <td>NaN</td>\n",
       "      <td>NaN</td>\n",
       "      <td>0.36</td>\n",
       "      <td>0.785398</td>\n",
       "      <td>1.273240</td>\n",
       "      <td>POLYGON ((468823.800 4983821.400, 468823.800 4...</td>\n",
       "    </tr>\n",
       "    <tr>\n",
       "      <th>2244</th>\n",
       "      <td>2245.0</td>\n",
       "      <td>0.0</td>\n",
       "      <td>0.000000</td>\n",
       "      <td>0.0</td>\n",
       "      <td>0.000000</td>\n",
       "      <td>0.0</td>\n",
       "      <td>0.000000</td>\n",
       "      <td>0.0</td>\n",
       "      <td>0.000000</td>\n",
       "      <td>NaN</td>\n",
       "      <td>NaN</td>\n",
       "      <td>NaN</td>\n",
       "      <td>0.36</td>\n",
       "      <td>0.785398</td>\n",
       "      <td>1.273240</td>\n",
       "      <td>POLYGON ((468952.200 4983821.400, 468952.200 4...</td>\n",
       "    </tr>\n",
       "    <tr>\n",
       "      <th>8289</th>\n",
       "      <td>8294.0</td>\n",
       "      <td>110.0</td>\n",
       "      <td>58.528169</td>\n",
       "      <td>120.0</td>\n",
       "      <td>62.507042</td>\n",
       "      <td>118.0</td>\n",
       "      <td>69.672535</td>\n",
       "      <td>161.0</td>\n",
       "      <td>32.309859</td>\n",
       "      <td>0.558447</td>\n",
       "      <td>1.404757</td>\n",
       "      <td>-0.373246</td>\n",
       "      <td>102.24</td>\n",
       "      <td>0.305971</td>\n",
       "      <td>3.268280</td>\n",
       "      <td>POLYGON ((468267.000 4983079.200, 468267.000 4...</td>\n",
       "    </tr>\n",
       "    <tr>\n",
       "      <th>5221</th>\n",
       "      <td>5071.0</td>\n",
       "      <td>126.0</td>\n",
       "      <td>84.096257</td>\n",
       "      <td>145.0</td>\n",
       "      <td>96.530749</td>\n",
       "      <td>105.0</td>\n",
       "      <td>79.105615</td>\n",
       "      <td>202.0</td>\n",
       "      <td>149.094251</td>\n",
       "      <td>11.482721</td>\n",
       "      <td>14.327224</td>\n",
       "      <td>0.305672</td>\n",
       "      <td>538.56</td>\n",
       "      <td>0.381448</td>\n",
       "      <td>2.621588</td>\n",
       "      <td>POLYGON ((468769.200 4983538.800, 468769.200 4...</td>\n",
       "    </tr>\n",
       "    <tr>\n",
       "      <th>2409</th>\n",
       "      <td>2452.0</td>\n",
       "      <td>96.0</td>\n",
       "      <td>69.317073</td>\n",
       "      <td>99.0</td>\n",
       "      <td>67.975610</td>\n",
       "      <td>86.0</td>\n",
       "      <td>74.268293</td>\n",
       "      <td>93.0</td>\n",
       "      <td>33.902439</td>\n",
       "      <td>-0.005294</td>\n",
       "      <td>0.043333</td>\n",
       "      <td>-0.408481</td>\n",
       "      <td>14.76</td>\n",
       "      <td>0.657170</td>\n",
       "      <td>1.521677</td>\n",
       "      <td>POLYGON ((468304.800 4983820.800, 468304.800 4...</td>\n",
       "    </tr>\n",
       "  </tbody>\n",
       "</table>\n",
       "</div>"
      ],
      "text/plain": [
       "      raster_val  imgb1_max  imgb1_mean  imgb2_max  imgb2_mean  imgb3_max  \\\n",
       "2030      2031.0        0.0    0.000000        0.0    0.000000        0.0   \n",
       "2244      2245.0        0.0    0.000000        0.0    0.000000        0.0   \n",
       "8289      8294.0      110.0   58.528169      120.0   62.507042      118.0   \n",
       "5221      5071.0      126.0   84.096257      145.0   96.530749      105.0   \n",
       "2409      2452.0       96.0   69.317073       99.0   67.975610       86.0   \n",
       "\n",
       "      imgb3_mean  imgb4_max  imgb4_mean  nDSM_mean  roughness_mean  ndvi_mean  \\\n",
       "2030    0.000000        0.0    0.000000        NaN             NaN        NaN   \n",
       "2244    0.000000        0.0    0.000000        NaN             NaN        NaN   \n",
       "8289   69.672535      161.0   32.309859   0.558447        1.404757  -0.373246   \n",
       "5221   79.105615      202.0  149.094251  11.482721       14.327224   0.305672   \n",
       "2409   74.268293       93.0   33.902439  -0.005294        0.043333  -0.408481   \n",
       "\n",
       "      area_zs  compactness  roundness  \\\n",
       "2030     0.36     0.785398   1.273240   \n",
       "2244     0.36     0.785398   1.273240   \n",
       "8289   102.24     0.305971   3.268280   \n",
       "5221   538.56     0.381448   2.621588   \n",
       "2409    14.76     0.657170   1.521677   \n",
       "\n",
       "                                               geometry  \n",
       "2030  POLYGON ((468823.800 4983821.400, 468823.800 4...  \n",
       "2244  POLYGON ((468952.200 4983821.400, 468952.200 4...  \n",
       "8289  POLYGON ((468267.000 4983079.200, 468267.000 4...  \n",
       "5221  POLYGON ((468769.200 4983538.800, 468769.200 4...  \n",
       "2409  POLYGON ((468304.800 4983820.800, 468304.800 4...  "
      ]
     },
     "execution_count": 30,
     "metadata": {},
     "output_type": "execute_result"
    }
   ],
   "source": [
    "obj = read_vec(out_zs)\n",
    "obj.sample(5)"
   ]
  },
  {
   "cell_type": "code",
   "execution_count": 31,
   "id": "0f30d6c6",
   "metadata": {
    "tags": []
   },
   "outputs": [
    {
     "data": {
      "text/html": [
       "<div>\n",
       "<style scoped>\n",
       "    .dataframe tbody tr th:only-of-type {\n",
       "        vertical-align: middle;\n",
       "    }\n",
       "\n",
       "    .dataframe tbody tr th {\n",
       "        vertical-align: top;\n",
       "    }\n",
       "\n",
       "    .dataframe thead th {\n",
       "        text-align: right;\n",
       "    }\n",
       "</style>\n",
       "<table border=\"1\" class=\"dataframe\">\n",
       "  <thead>\n",
       "    <tr style=\"text-align: right;\">\n",
       "      <th></th>\n",
       "      <th>raster_val</th>\n",
       "      <th>imgb1_max</th>\n",
       "      <th>imgb1_mean</th>\n",
       "      <th>imgb2_max</th>\n",
       "      <th>imgb2_mean</th>\n",
       "      <th>imgb3_max</th>\n",
       "      <th>imgb3_mean</th>\n",
       "      <th>imgb4_max</th>\n",
       "      <th>imgb4_mean</th>\n",
       "      <th>nDSM_mean</th>\n",
       "      <th>roughness_mean</th>\n",
       "      <th>ndvi_mean</th>\n",
       "      <th>area_zs</th>\n",
       "      <th>compactness</th>\n",
       "      <th>roundness</th>\n",
       "    </tr>\n",
       "  </thead>\n",
       "  <tbody>\n",
       "    <tr>\n",
       "      <th>count</th>\n",
       "      <td>9033.000000</td>\n",
       "      <td>9033.000000</td>\n",
       "      <td>9033.000000</td>\n",
       "      <td>9033.000000</td>\n",
       "      <td>9033.000000</td>\n",
       "      <td>9033.000000</td>\n",
       "      <td>9033.000000</td>\n",
       "      <td>9033.000000</td>\n",
       "      <td>9033.000000</td>\n",
       "      <td>5270.000000</td>\n",
       "      <td>5259.000000</td>\n",
       "      <td>5269.000000</td>\n",
       "      <td>9033.000000</td>\n",
       "      <td>9033.000000</td>\n",
       "      <td>9033.000000</td>\n",
       "    </tr>\n",
       "    <tr>\n",
       "      <th>mean</th>\n",
       "      <td>4517.000000</td>\n",
       "      <td>87.438282</td>\n",
       "      <td>61.142690</td>\n",
       "      <td>87.693457</td>\n",
       "      <td>63.626343</td>\n",
       "      <td>76.348279</td>\n",
       "      <td>55.630130</td>\n",
       "      <td>85.700100</td>\n",
       "      <td>51.341469</td>\n",
       "      <td>2.890653</td>\n",
       "      <td>3.735777</td>\n",
       "      <td>-0.150868</td>\n",
       "      <td>144.217762</td>\n",
       "      <td>0.559391</td>\n",
       "      <td>2.131951</td>\n",
       "    </tr>\n",
       "    <tr>\n",
       "      <th>std</th>\n",
       "      <td>2607.746824</td>\n",
       "      <td>80.832053</td>\n",
       "      <td>60.440066</td>\n",
       "      <td>79.430565</td>\n",
       "      <td>60.233265</td>\n",
       "      <td>71.472467</td>\n",
       "      <td>52.404200</td>\n",
       "      <td>85.796136</td>\n",
       "      <td>59.857532</td>\n",
       "      <td>3.391132</td>\n",
       "      <td>4.032175</td>\n",
       "      <td>0.371883</td>\n",
       "      <td>293.472714</td>\n",
       "      <td>0.207961</td>\n",
       "      <td>1.070550</td>\n",
       "    </tr>\n",
       "    <tr>\n",
       "      <th>min</th>\n",
       "      <td>1.000000</td>\n",
       "      <td>0.000000</td>\n",
       "      <td>0.000000</td>\n",
       "      <td>0.000000</td>\n",
       "      <td>0.000000</td>\n",
       "      <td>0.000000</td>\n",
       "      <td>0.000000</td>\n",
       "      <td>0.000000</td>\n",
       "      <td>0.000000</td>\n",
       "      <td>-0.021763</td>\n",
       "      <td>0.000000</td>\n",
       "      <td>-0.913682</td>\n",
       "      <td>0.360000</td>\n",
       "      <td>0.047589</td>\n",
       "      <td>1.273240</td>\n",
       "    </tr>\n",
       "    <tr>\n",
       "      <th>25%</th>\n",
       "      <td>2259.000000</td>\n",
       "      <td>0.000000</td>\n",
       "      <td>0.000000</td>\n",
       "      <td>0.000000</td>\n",
       "      <td>0.000000</td>\n",
       "      <td>0.000000</td>\n",
       "      <td>0.000000</td>\n",
       "      <td>0.000000</td>\n",
       "      <td>0.000000</td>\n",
       "      <td>0.063125</td>\n",
       "      <td>0.368812</td>\n",
       "      <td>-0.425017</td>\n",
       "      <td>0.360000</td>\n",
       "      <td>0.375953</td>\n",
       "      <td>1.273240</td>\n",
       "    </tr>\n",
       "    <tr>\n",
       "      <th>50%</th>\n",
       "      <td>4517.000000</td>\n",
       "      <td>94.000000</td>\n",
       "      <td>65.362903</td>\n",
       "      <td>104.000000</td>\n",
       "      <td>69.586057</td>\n",
       "      <td>85.000000</td>\n",
       "      <td>70.303371</td>\n",
       "      <td>72.000000</td>\n",
       "      <td>28.644444</td>\n",
       "      <td>1.495482</td>\n",
       "      <td>2.293838</td>\n",
       "      <td>-0.135668</td>\n",
       "      <td>45.720000</td>\n",
       "      <td>0.512254</td>\n",
       "      <td>1.952156</td>\n",
       "    </tr>\n",
       "    <tr>\n",
       "      <th>75%</th>\n",
       "      <td>6775.000000</td>\n",
       "      <td>163.000000</td>\n",
       "      <td>101.583333</td>\n",
       "      <td>159.000000</td>\n",
       "      <td>114.385519</td>\n",
       "      <td>134.000000</td>\n",
       "      <td>87.897872</td>\n",
       "      <td>175.000000</td>\n",
       "      <td>96.032653</td>\n",
       "      <td>4.760528</td>\n",
       "      <td>6.020273</td>\n",
       "      <td>0.204322</td>\n",
       "      <td>177.840000</td>\n",
       "      <td>0.785398</td>\n",
       "      <td>2.659910</td>\n",
       "    </tr>\n",
       "    <tr>\n",
       "      <th>max</th>\n",
       "      <td>9033.000000</td>\n",
       "      <td>255.000000</td>\n",
       "      <td>231.715447</td>\n",
       "      <td>255.000000</td>\n",
       "      <td>228.756098</td>\n",
       "      <td>255.000000</td>\n",
       "      <td>222.398374</td>\n",
       "      <td>255.000000</td>\n",
       "      <td>211.557692</td>\n",
       "      <td>18.680612</td>\n",
       "      <td>22.409891</td>\n",
       "      <td>0.420029</td>\n",
       "      <td>6719.400000</td>\n",
       "      <td>0.785398</td>\n",
       "      <td>21.013426</td>\n",
       "    </tr>\n",
       "  </tbody>\n",
       "</table>\n",
       "</div>"
      ],
      "text/plain": [
       "        raster_val    imgb1_max   imgb1_mean    imgb2_max   imgb2_mean  \\\n",
       "count  9033.000000  9033.000000  9033.000000  9033.000000  9033.000000   \n",
       "mean   4517.000000    87.438282    61.142690    87.693457    63.626343   \n",
       "std    2607.746824    80.832053    60.440066    79.430565    60.233265   \n",
       "min       1.000000     0.000000     0.000000     0.000000     0.000000   \n",
       "25%    2259.000000     0.000000     0.000000     0.000000     0.000000   \n",
       "50%    4517.000000    94.000000    65.362903   104.000000    69.586057   \n",
       "75%    6775.000000   163.000000   101.583333   159.000000   114.385519   \n",
       "max    9033.000000   255.000000   231.715447   255.000000   228.756098   \n",
       "\n",
       "         imgb3_max   imgb3_mean    imgb4_max   imgb4_mean    nDSM_mean  \\\n",
       "count  9033.000000  9033.000000  9033.000000  9033.000000  5270.000000   \n",
       "mean     76.348279    55.630130    85.700100    51.341469     2.890653   \n",
       "std      71.472467    52.404200    85.796136    59.857532     3.391132   \n",
       "min       0.000000     0.000000     0.000000     0.000000    -0.021763   \n",
       "25%       0.000000     0.000000     0.000000     0.000000     0.063125   \n",
       "50%      85.000000    70.303371    72.000000    28.644444     1.495482   \n",
       "75%     134.000000    87.897872   175.000000    96.032653     4.760528   \n",
       "max     255.000000   222.398374   255.000000   211.557692    18.680612   \n",
       "\n",
       "       roughness_mean    ndvi_mean      area_zs  compactness    roundness  \n",
       "count     5259.000000  5269.000000  9033.000000  9033.000000  9033.000000  \n",
       "mean         3.735777    -0.150868   144.217762     0.559391     2.131951  \n",
       "std          4.032175     0.371883   293.472714     0.207961     1.070550  \n",
       "min          0.000000    -0.913682     0.360000     0.047589     1.273240  \n",
       "25%          0.368812    -0.425017     0.360000     0.375953     1.273240  \n",
       "50%          2.293838    -0.135668    45.720000     0.512254     1.952156  \n",
       "75%          6.020273     0.204322   177.840000     0.785398     2.659910  \n",
       "max         22.409891     0.420029  6719.400000     0.785398    21.013426  "
      ]
     },
     "execution_count": 31,
     "metadata": {},
     "output_type": "execute_result"
    }
   ],
   "source": [
    "obj.describe()"
   ]
  },
  {
   "cell_type": "code",
   "execution_count": 32,
   "id": "45f7c7b6",
   "metadata": {
    "tags": []
   },
   "outputs": [],
   "source": [
    "# Field names\n",
    "ndvi_mean = 'ndvi_mean'\n",
    "ndsm_mean = 'nDSM_mean'\n",
    "roughness_mean = 'roughness_mean'\n",
    "imgb1_mean = 'imgb1_mean'\n",
    "imgb2_mean = 'imgb2_mean'\n",
    "imgb3_mean = 'imgb3_mean'\n",
    "imgb4_mean = 'imgb4_mean'\n",
    "roundness = 'roundness'\n",
    "# Class names\n",
    "trees = 'trees'\n",
    "water = 'water'\n",
    "open_green = 'open_green'\n",
    "buildings = 'buildings'\n",
    "roads_pave = 'roads_pavement'\n",
    "shadow = 'shadow'\n",
    "# Add a field to hold the class\n",
    "CLASS = 'class'\n",
    "obj[CLASS] = None\n",
    "\n",
    "\n",
    "def apply_rules(gdf, rules, class_name, unclass_only=True):\n",
    "    \"\"\"Function to apply rules\"\"\"\n",
    "    # Look up strings operators to get function\n",
    "    op_lut = {'>': operator.gt,\n",
    "              '<': operator.lt}\n",
    "    \n",
    "    matches = copy.deepcopy(gdf)\n",
    "    for field, op, val in rules:\n",
    "        if isinstance(op, str):\n",
    "            # if  a string is passed, get the function\n",
    "            op = op_lut[op]\n",
    "        matches = matches[op(matches[field], val)]\n",
    "    root_logger.info(f'Objects to be classified as {class_name}: {len(matches)}')\n",
    "    if unclass_only:\n",
    "        # Index in matches and not classified yet\n",
    "        gdf.loc[gdf.index.isin(matches.index) & gdf[CLASS].isnull(), CLASS] = class_name\n",
    "    else:\n",
    "        # Index in matches - would overwrite class if present\n",
    "        gdf.loc[gdf.index.isin(matches.index), CLASS] = class_name\n",
    "    root_logger.info(f'Objects classified as {class_name}: {len(gdf[gdf[CLASS]==class_name])}')\n",
    "    root_logger.debug(f'Remaining unclassified: {len(gdf[gdf[CLASS].isnull()])}')\n",
    "    return gdf"
   ]
  },
  {
   "cell_type": "code",
   "execution_count": 33,
   "id": "384394db",
   "metadata": {
    "tags": []
   },
   "outputs": [
    {
     "name": "stdout",
     "output_type": "stream",
     "text": [
      "2021-04-23 12:41:57,551 - root - INFO - Classifying: trees\n",
      "2021-04-23 12:41:57,613 - root - INFO - Objects to be classified as trees: 1634\n",
      "2021-04-23 12:41:57,636 - root - INFO - Objects classified as trees: 1634\n",
      "2021-04-23 12:41:57,651 - root - INFO - Classifying: water\n",
      "2021-04-23 12:41:57,736 - root - INFO - Objects to be classified as water: 463\n",
      "2021-04-23 12:41:57,751 - root - INFO - Objects classified as water: 463\n",
      "2021-04-23 12:41:57,778 - root - INFO - Classifying: open_green\n",
      "2021-04-23 12:41:57,873 - root - INFO - Objects to be classified as open_green: 424\n",
      "2021-04-23 12:41:57,883 - root - INFO - Objects classified as open_green: 387\n",
      "2021-04-23 12:41:57,899 - root - INFO - Classifying: buildings\n",
      "2021-04-23 12:41:57,952 - root - INFO - Objects to be classified as buildings: 995\n",
      "2021-04-23 12:41:57,968 - root - INFO - Objects classified as buildings: 995\n",
      "2021-04-23 12:41:57,999 - root - INFO - Classifying: roads_pavement\n",
      "2021-04-23 12:41:58,068 - root - INFO - Objects to be classified as roads_pavement: 1355\n",
      "2021-04-23 12:41:58,094 - root - INFO - Objects classified as roads_pavement: 917\n",
      "2021-04-23 12:41:58,126 - root - INFO - Classifying: shadow\n",
      "2021-04-23 12:41:58,219 - root - INFO - Objects to be classified as shadow: 7127\n",
      "2021-04-23 12:41:58,237 - root - INFO - Objects classified as shadow: 4445\n"
     ]
    }
   ],
   "source": [
    "# Trees\n",
    "tree_rules = [\n",
    "    (ndvi_mean, '>', 0),\n",
    "    (ndsm_mean, '>', 0.75),\n",
    "    (roughness_mean, '>', 1.25)\n",
    "]\n",
    "# Water\n",
    "water_rules = [\n",
    "    (ndvi_mean, '<', 0),\n",
    "    (roughness_mean, '<', 0.13),\n",
    "    (ndsm_mean, '<', 1),\n",
    "    (imgb4_mean, '<', 10)\n",
    "]\n",
    "# Open Green Space\n",
    "open_rules = [\n",
    "    (ndvi_mean, '>', 0.1),\n",
    "    (ndsm_mean, '<', 1)\n",
    "]\n",
    "# Buildings\n",
    "build_rules = [\n",
    "    (ndvi_mean, '<', 0),\n",
    "    (ndsm_mean, '>', 2),\n",
    "]\n",
    "# Roads and pavement\n",
    "roads_rules = [\n",
    "    (ndvi_mean, '<', 0),\n",
    "    (ndsm_mean, '<', 1),\n",
    "    (roughness_mean, '<', 1.5),\n",
    "    (roundness, '>', 2)\n",
    "]\n",
    "# Shadow\n",
    "shadow_rules = [\n",
    "    (imgb1_mean, '<', 150),\n",
    "    (imgb2_mean, '<', 150),\n",
    "    (imgb3_mean, '<', 150),\n",
    "    (imgb4_mean, '<', 150)\n",
    "]\n",
    "classes = [trees, water, open_green, buildings, roads_pave, shadow]\n",
    "rules = [tree_rules, water_rules, open_rules, build_rules, roads_rules, shadow_rules]\n",
    "classes_rules = zip(classes, rules)\n",
    "for class_name, class_rules in classes_rules:\n",
    "    root_logger.info(f'Classifying: {class_name}')\n",
    "    obj = apply_rules(obj, class_rules, class_name)"
   ]
  },
  {
   "cell_type": "markdown",
   "id": "f50192a1-cf6c-4168-a7ae-be9cb5f1b632",
   "metadata": {
    "tags": []
   },
   "source": [
    "Other rules are possible, but complicated.  \n",
    "* OR rules  \n",
    "* adjacency\n"
   ]
  },
  {
   "cell_type": "code",
   "execution_count": 34,
   "id": "f147a926",
   "metadata": {
    "tags": []
   },
   "outputs": [
    {
     "name": "stdout",
     "output_type": "stream",
     "text": [
      "results\\seg\\naip_m_4509361_se_15_060_20190727_aoi_bst100ni100s0spec0x6spat25.gpkg/classified\n"
     ]
    }
   ],
   "source": [
    "# Write classification\n",
    "out_class = out_vec.replace('/seg', '/classified')\n",
    "# write_gdf(obj, out_class)\n",
    "print(out_class)"
   ]
  }
 ],
 "metadata": {
  "kernelspec": {
   "display_name": "Python 3",
   "language": "python",
   "name": "python3"
  },
  "language_info": {
   "codemirror_mode": {
    "name": "ipython",
    "version": 3
   },
   "file_extension": ".py",
   "mimetype": "text/x-python",
   "name": "python",
   "nbconvert_exporter": "python",
   "pygments_lexer": "ipython3",
   "version": "3.9.2"
  }
 },
 "nbformat": 4,
 "nbformat_minor": 5
}
