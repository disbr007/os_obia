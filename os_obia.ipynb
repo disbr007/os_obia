{
 "cells": [
  {
   "cell_type": "markdown",
   "id": "ba7a5633",
   "metadata": {},
   "source": [
    "# Open Source Object-Based-Image-Analysis"
   ]
  },
  {
   "cell_type": "markdown",
   "id": "37a92940",
   "metadata": {},
   "source": [
    "Derivatives -> Segmentation -> Zonal statistics -> Classification "
   ]
  },
  {
   "cell_type": "markdown",
   "id": "2d723b0a",
   "metadata": {},
   "source": [
    "## Stack\n",
    "**python:**  \n",
    "    - [geopandas](https://geopandas.org): vector (image object) manipulation  \n",
    "    - [rasterio](https://rasterio.readthedocs.io/en/latest/): raster loading/manipulation  \n",
    "    - [rasterstats](https://pythonhosted.org/rasterstats/)  \n",
    "*The use of anaconda/miniconda is *highly* recommended for managing python dependencies, specifically installing from the `conda-forge` channel.*  \n",
    "\n",
    "[WhiteBoxTools](https://jblindsay.github.io/wbt_book/intro.html): raster derivatives, specifically geomorphometic analyses.  \n",
    "*Has python bindings, but tough to integrate with other dependencies, so called from the command line.*  \n",
    "\n",
    "[**Orfeo Toolbox**](https://www.orfeo-toolbox.org/CookBook/): segmentation (also has general GIS tools).  \n",
    "*Has python bindings, but tough to integrate with other dependencies, so called from the command line.*  \n",
    "\n",
    "[**QGIS**](https://qgis.org/en/site/): Viewing outputs, general GIS."
   ]
  },
  {
   "cell_type": "markdown",
   "id": "05836110",
   "metadata": {},
   "source": [
    "## Imports + Logging Set up"
   ]
  },
  {
   "cell_type": "code",
   "execution_count": 1,
   "id": "33674424",
   "metadata": {},
   "outputs": [],
   "source": [
    "# Standard lib\n",
    "import copy\n",
    "import logging\n",
    "import numpy as np\n",
    "import operator\n",
    "from pathlib import Path\n",
    "from pprint import pprint\n",
    "import warnings\n",
    "import sys\n",
    "\n",
    "# Installed packages\n",
    "from osgeo import gdal, osr\n",
    "import geopandas\n",
    "import rasterio\n",
    "import rasterstats\n",
    "from skimage.segmentation import quickshift\n",
    "\n",
    "# Local packages\n",
    "from lib import (run_subprocess, clean4cmdline, create_grm_outname,\n",
    "                  rio_polygonize, read_vec, write_gdf, write_array)\n",
    "from calc_zonal_stats import calc_zonal_stats"
   ]
  },
  {
   "cell_type": "code",
   "execution_count": 2,
   "id": "72a02d34",
   "metadata": {},
   "outputs": [],
   "source": [
    "# Set up logger\n",
    "logger = logging.getLogger(__name__)\n",
    "logger.setLevel(logging.DEBUG)\n",
    "ch = logging.StreamHandler(sys.stdout)\n",
    "formatter = logging.Formatter(\n",
    "    '%(asctime)s - %(name)s - %(levelname)s - %(message)s')\n",
    "ch.setFormatter(formatter)\n",
    "logger.addHandler(ch)\n",
    "\n",
    "warnings.filterwarnings('ignore', r'RuntimeWarning: Sequential read of iterator was interrupted.')"
   ]
  },
  {
   "cell_type": "markdown",
   "id": "6703ac81",
   "metadata": {},
   "source": [
    "## Paths (Orfeo + Data)"
   ]
  },
  {
   "cell_type": "code",
   "execution_count": 3,
   "id": "ecd7d76f",
   "metadata": {},
   "outputs": [
    {
     "name": "stdout",
     "output_type": "stream",
     "text": [
      "2021-04-22 23:27:56,413 - __main__ - INFO - All files/folders located.\n"
     ]
    }
   ],
   "source": [
    "# Orfeo setup and tools\n",
    "otb = Path(r'C:\\OTB-7.2.0-Win64\\OTB-7.2.0-Win64')\n",
    "otb_init = otb / 'otbenv.bat'\n",
    "otb_bin = otb / 'bin'\n",
    "otb_grm = otb_bin / 'otbcli_GenericRegionMerging.bat'\n",
    "# otb_lsms = otb_bin / 'otbcli_LargeScaleMeanShift.bat'\n",
    "\n",
    "# Data\n",
    "data_dir = Path(r'./data')\n",
    "img = data_dir / 'naip_m_4509361_se_15_060_20190727_aoi.tif'\n",
    "ndsm = data_dir / 'nDSM_clip_fill.tif'\n",
    "ndvi = data_dir / 'ndvi_naip_m_4509361_se_15_060_20190727_aoi.tif'\n",
    "roughness = data_dir / 'nDSM_clip_fill_roughness.tif'\n",
    "\n",
    "# Out paths\n",
    "out_dir = Path(r'./results')\n",
    "seg_dir = out_dir / 'seg'\n",
    "\n",
    "# Ensure all exist\n",
    "missing_files = []\n",
    "for file_path in [data_dir, img, ndsm, ndvi, roughness, out_dir]:\n",
    "    if not file_path.exists():\n",
    "        missing_files.append(file_path)\n",
    "if len(missing_files) > 0:\n",
    "    for file_path in missing_files:\n",
    "        logger.error(f'Missing file/folder: {file_path}')\n",
    "else:\n",
    "    logger.info('All files/folders located.')"
   ]
  },
  {
   "cell_type": "markdown",
   "id": "e2af1a92",
   "metadata": {},
   "source": [
    "# Check out input data\n",
    "(how it was created, etc), histogram of values in image (qgis), stats of image to seg"
   ]
  },
  {
   "cell_type": "markdown",
   "id": "2932346b",
   "metadata": {},
   "source": [
    "## Segmentation"
   ]
  },
  {
   "cell_type": "markdown",
   "id": "ebfc3ddb",
   "metadata": {},
   "source": [
    "#### Generic Region Merging\n",
    "[otb docs](https://www.orfeo-toolbox.org/CookBook/Applications/app_GenericRegionMerging.html?highlight=generic%20region%20merging)"
   ]
  },
  {
   "cell_type": "code",
   "execution_count": 4,
   "id": "4c7b71b2",
   "metadata": {},
   "outputs": [],
   "source": [
    "# Parameters\n",
    "# Homogeneity criterion to use. The default is 'bs'. One of: [bs, ed, fls]\n",
    "criterion = 'bs'\n",
    "threshold = 100\n",
    "niter = 100\n",
    "spectral_w = 0.6 # spectral weight, higher values slow processing time\n",
    "spatial_w = 25 # spatial weight\n",
    "out_img = create_grm_outname(img=img,\n",
    "                             out_dir=seg_dir,\n",
    "                             criterion=criterion,\n",
    "                             threshold=threshold,\n",
    "                             niter=niter,\n",
    "                             spectral=spectral_w,\n",
    "                             spatial=spatial_w)"
   ]
  },
  {
   "cell_type": "code",
   "execution_count": 5,
   "id": "eb2e7038",
   "metadata": {},
   "outputs": [
    {
     "name": "stdout",
     "output_type": "stream",
     "text": [
      "2021-04-22 23:27:59,515 - __main__ - INFO - OTB command:\n",
      "\"C:\\OTB-7.2.0-Win64\\OTB-7.2.0-Win64\\bin\\otbcli_GenericRegionMerging.bat\" -in data\\naip_m_4509361_se_15_060_20190727_aoi.tif -out results\\seg\\naip_m_4509361_se_15_060_20190727_aoi_bst100ni100s0spec0x6spat25.tif -criterion bs -threshold 100 -niter 100 -cw 0.6 -sw 25\n",
      "2021-04-22 23:27:59,523 - __main__ - DEBUG - OTB full command:\n",
      "C:\\OTB-7.2.0-Win64\\OTB-7.2.0-Win64\\otbenv.bat && \"C:\\OTB-7.2.0-Win64\\OTB-7.2.0-Win64\\bin\\otbcli_GenericRegionMerging.bat\" -in data\\naip_m_4509361_se_15_060_20190727_aoi.tif -out results\\seg\\naip_m_4509361_se_15_060_20190727_aoi_bst100ni100s0spec0x6spat25.tif -criterion bs -threshold 100 -niter 100 -cw 0.6 -sw 25\n"
     ]
    }
   ],
   "source": [
    "# Build the command\n",
    "otb_cmd = f\"\"\"\n",
    "\"{otb_grm}\"\n",
    "-in {str(img)}\n",
    "-out {str(out_img)}\n",
    "-criterion {criterion}\n",
    "-threshold {threshold}\n",
    "-niter {niter}\n",
    "-cw {spectral_w}\n",
    "-sw {spatial_w}\"\"\"\n",
    "\n",
    "otb_cmd = clean4cmdline(otb_cmd)\n",
    "logger.info(f'OTB command:\\n{otb_cmd}')\n",
    "otb_cmd = f'{otb_init} && {otb_cmd}'\n",
    "logger.debug(f'OTB full command:\\n{otb_cmd}')"
   ]
  },
  {
   "cell_type": "code",
   "execution_count": null,
   "id": "10684db7",
   "metadata": {},
   "outputs": [],
   "source": [
    "# Run the segmentation\n",
    "# import subprocess\n",
    "# from subprocess import PIPE\n",
    "# def run_subprocess(command):\n",
    "#     proc = subprocess.Popen(command, stdout=PIPE, stderr=PIPE, shell=True)\n",
    "#     for line in iter(proc.stdout.readline, b''):  # replace '' with b'' for Python 3\n",
    "#         logger.info(line.decode())\n",
    "#     output, error = proc.communicate()\n",
    "#     logger.debug('Output: {}'.format(output.decode()))\n",
    "#     logger.debug('Err: {}'.format(error.decode()))\n",
    "\n",
    "# run_subprocess(otb_cmd)"
   ]
  },
  {
   "cell_type": "markdown",
   "id": "7d5530e7",
   "metadata": {},
   "source": [
    "(Check out resulting image)"
   ]
  },
  {
   "cell_type": "code",
   "execution_count": 6,
   "id": "8d1f7d77",
   "metadata": {},
   "outputs": [],
   "source": [
    "# Convert output tif to polygons\n",
    "out_vec = out_img.replace('.tif', '.gpkg/seg')\n",
    "# vec_objects = rio_polygonize(img=out_img, out_vec=out_vec)"
   ]
  },
  {
   "cell_type": "markdown",
   "id": "50fc5c5a",
   "metadata": {},
   "source": [
    "(Check out resuting polygons)"
   ]
  },
  {
   "cell_type": "markdown",
   "id": "e995e537",
   "metadata": {},
   "source": [
    "### Other segmentation options\n",
    "[Orfeo Toolbox LargeScaleMeanShift](https://www.orfeo-toolbox.org/CookBook/Applications/app_LargeScaleMeanShift.html)\n",
    "\n",
    "[Scikit-Image Segmenation](https://scikit-image.org/docs/dev/api/skimage.segmentation.html)  \n",
    "Inputs and output are often nunmpy arrays/matrices that need to be converted from pixel space back to geographic space. A couple of useful functions for this conversion:"
   ]
  },
  {
   "cell_type": "code",
   "execution_count": 7,
   "id": "ff964e02",
   "metadata": {},
   "outputs": [
    {
     "name": "stdout",
     "output_type": "stream",
     "text": [
      "2021-04-22 23:28:05,631 - __main__ - INFO - Geotransform:\n",
      "(467491.8, 0.600000000000014, 0.0, 4983821.4, 0.0, -0.600000000000258)\n",
      "2021-04-22 23:28:05,631 - __main__ - INFO - Top left x: 467491.8\n",
      "2021-04-22 23:28:05,643 - __main__ - INFO - X Resolution: 0.600000000000014\n",
      "2021-04-22 23:28:05,645 - __main__ - INFO - Rotation1: 0.0\n",
      "2021-04-22 23:28:05,648 - __main__ - INFO - Top left y: 4983821.4\n",
      "2021-04-22 23:28:05,652 - __main__ - INFO - Rotation: 0.0\n",
      "2021-04-22 23:28:05,653 - __main__ - INFO - Y Resolution: -0.600000000000258\n",
      "2021-04-22 23:28:05,655 - __main__ - INFO - Array shape: (4, 1444, 2506)\n"
     ]
    }
   ],
   "source": [
    "def pixel2geo(pixel_coord, geotransform):\n",
    "    \"\"\"\n",
    "    Covert pixel coordinates to geographic coordinates\n",
    "    \"\"\"\n",
    "    y, x = pixel_coord\n",
    "    gy = geotransform[4] * x + geotransform[5] * y + geotransform[4] * 0.5 + geotransform[5] * 0.5 + self.geotransform[3]\n",
    "    gx = geotransform[1] * x + geotransform[2] * y + geotransform[1] * 0.5 + geotransform[2] * 0.5 + self.geotransform[0]\n",
    "\n",
    "    return gy, gx\n",
    "\n",
    "def geo2pixel(geocoord, geotransform):\n",
    "    \"\"\"\n",
    "    Convert geographic coordinates to pixel coordinates\n",
    "    \"\"\"\n",
    "    y, x = geocoord\n",
    "    py = int(np.around((y - geotransform[3]) / geotransform[5]))\n",
    "    px = int(np.around((x - geotransform[0]) / geotransform[1]))\n",
    "    return py, px\n",
    "\n",
    "ds = gdal.Open(str(img))\n",
    "geotransform = ds.GetGeoTransform()\n",
    "array = ds.ReadAsArray()\n",
    "\n",
    "\n",
    "logger.info(f'Geotransform:\\n{geotransform}')\n",
    "logger.info(f'Top left x: {geotransform[0]}')\n",
    "logger.info(f'X Resolution: {geotransform[1]}')\n",
    "logger.info(f'Rotation1: {geotransform[2]}')\n",
    "logger.info(f'Top left y: {geotransform[3]}')\n",
    "logger.info(f'Rotation: {geotransform[4]}')\n",
    "logger.info(f'Y Resolution: {geotransform[5]}')\n",
    "\n",
    "geo2pixel(geocoord=(467491.8, 4983821), geotransform=geotransform)\n",
    "logger.info(f'Array shape: {array.shape}')"
   ]
  },
  {
   "cell_type": "code",
   "execution_count": 36,
   "id": "92104454",
   "metadata": {},
   "outputs": [
    {
     "name": "stdout",
     "output_type": "stream",
     "text": [
      "(1444, 2506, 4)\n",
      "(1444, 2506, 3)\n"
     ]
    },
    {
     "name": "stderr",
     "output_type": "stream",
     "text": [
      "2021-04-23 00:03:44,143 - lib - WARNING - Unable to determine NoData value using -9999\n"
     ]
    }
   ],
   "source": [
    "rgb = array.reshape(array.shape[1], array.shape[2], array.shape[0])\n",
    "rgb = rgb[:, :, :3]\n",
    "labelled = quickshift(image=rgb, ratio=1, kernel_size=5, max_dist=25, sigma=1)\n",
    "out_qs = out_img.replace('.tif', '_qs.tif')\n",
    "write_array(labelled, out_qs, ds, dtype=3)\n",
    "out_qs_vec = out_qs.replace('.tif', '.shp')\n",
    "qs_poly = rio_polygonize(img=out_qs, out_vec=out_qs_vec)"
   ]
  },
  {
   "cell_type": "code",
   "execution_count": 37,
   "id": "dd401a2c",
   "metadata": {},
   "outputs": [
    {
     "name": "stderr",
     "output_type": "stream",
     "text": [
      "2021-04-23 00:05:54,873 - lib - INFO - Polygonizing: results\\seg\\naip_m_4509361_se_15_060_20190727_aoi_bst100ni100s0spec0x6spat25_qs.tif\n",
      "2021-04-23 00:05:57,093 - lib - INFO - Writing polygons to: results\\seg\\naip_m_4509361_se_15_060_20190727_aoi_bst100ni100s0spec0x6spat25_qs.shp\n"
     ]
    },
    {
     "data": {
      "text/html": [
       "<div>\n",
       "<style scoped>\n",
       "    .dataframe tbody tr th:only-of-type {\n",
       "        vertical-align: middle;\n",
       "    }\n",
       "\n",
       "    .dataframe tbody tr th {\n",
       "        vertical-align: top;\n",
       "    }\n",
       "\n",
       "    .dataframe thead th {\n",
       "        text-align: right;\n",
       "    }\n",
       "</style>\n",
       "<table border=\"1\" class=\"dataframe\">\n",
       "  <thead>\n",
       "    <tr style=\"text-align: right;\">\n",
       "      <th></th>\n",
       "      <th>geometry</th>\n",
       "      <th>raster_val</th>\n",
       "    </tr>\n",
       "  </thead>\n",
       "  <tbody>\n",
       "    <tr>\n",
       "      <th>0</th>\n",
       "      <td>POLYGON ((467938.800 4983821.400, 467938.800 4...</td>\n",
       "      <td>79.0</td>\n",
       "    </tr>\n",
       "    <tr>\n",
       "      <th>1</th>\n",
       "      <td>POLYGON ((468752.400 4983821.400, 468752.400 4...</td>\n",
       "      <td>62.0</td>\n",
       "    </tr>\n",
       "    <tr>\n",
       "      <th>2</th>\n",
       "      <td>POLYGON ((468974.400 4983821.400, 468974.400 4...</td>\n",
       "      <td>35.0</td>\n",
       "    </tr>\n",
       "    <tr>\n",
       "      <th>3</th>\n",
       "      <td>POLYGON ((467781.600 4983820.800, 467781.600 4...</td>\n",
       "      <td>47.0</td>\n",
       "    </tr>\n",
       "    <tr>\n",
       "      <th>4</th>\n",
       "      <td>POLYGON ((467794.200 4983820.800, 467794.200 4...</td>\n",
       "      <td>47.0</td>\n",
       "    </tr>\n",
       "    <tr>\n",
       "      <th>...</th>\n",
       "      <td>...</td>\n",
       "      <td>...</td>\n",
       "    </tr>\n",
       "    <tr>\n",
       "      <th>11078</th>\n",
       "      <td>POLYGON ((468831.000 4982957.400, 468831.000 4...</td>\n",
       "      <td>2324.0</td>\n",
       "    </tr>\n",
       "    <tr>\n",
       "      <th>11079</th>\n",
       "      <td>POLYGON ((468907.800 4982998.800, 468907.800 4...</td>\n",
       "      <td>2321.0</td>\n",
       "    </tr>\n",
       "    <tr>\n",
       "      <th>11080</th>\n",
       "      <td>POLYGON ((468931.200 4982955.600, 468931.200 4...</td>\n",
       "      <td>2297.0</td>\n",
       "    </tr>\n",
       "    <tr>\n",
       "      <th>11081</th>\n",
       "      <td>POLYGON ((468923.400 4982992.200, 468923.400 4...</td>\n",
       "      <td>2297.0</td>\n",
       "    </tr>\n",
       "    <tr>\n",
       "      <th>11082</th>\n",
       "      <td>POLYGON ((468994.200 4982986.200, 468994.200 4...</td>\n",
       "      <td>2293.0</td>\n",
       "    </tr>\n",
       "  </tbody>\n",
       "</table>\n",
       "<p>11083 rows × 2 columns</p>\n",
       "</div>"
      ],
      "text/plain": [
       "                                                geometry  raster_val\n",
       "0      POLYGON ((467938.800 4983821.400, 467938.800 4...        79.0\n",
       "1      POLYGON ((468752.400 4983821.400, 468752.400 4...        62.0\n",
       "2      POLYGON ((468974.400 4983821.400, 468974.400 4...        35.0\n",
       "3      POLYGON ((467781.600 4983820.800, 467781.600 4...        47.0\n",
       "4      POLYGON ((467794.200 4983820.800, 467794.200 4...        47.0\n",
       "...                                                  ...         ...\n",
       "11078  POLYGON ((468831.000 4982957.400, 468831.000 4...      2324.0\n",
       "11079  POLYGON ((468907.800 4982998.800, 468907.800 4...      2321.0\n",
       "11080  POLYGON ((468931.200 4982955.600, 468931.200 4...      2297.0\n",
       "11081  POLYGON ((468923.400 4982992.200, 468923.400 4...      2297.0\n",
       "11082  POLYGON ((468994.200 4982986.200, 468994.200 4...      2293.0\n",
       "\n",
       "[11083 rows x 2 columns]"
      ]
     },
     "execution_count": 37,
     "metadata": {},
     "output_type": "execute_result"
    }
   ],
   "source": []
  },
  {
   "cell_type": "markdown",
   "id": "16e6d317",
   "metadata": {},
   "source": [
    "## Zonal Statistics"
   ]
  },
  {
   "cell_type": "code",
   "execution_count": null,
   "id": "5da94cd6",
   "metadata": {},
   "outputs": [],
   "source": [
    "# Create dictionary of rasters, stats, and bands to compute\n",
    "zonal_stats_params = (\n",
    "    {\"img\": {\n",
    "        \"path\": img,\n",
    "        \"stats\": [\"mean\", \"max\"],\n",
    "        \"bands\": [1, 2, 3, 4]\n",
    "\t},\n",
    "    \"nDSM\": {\n",
    "        \"path\": ndsm,\n",
    "        \"stats\": [\"mean\"]\n",
    "    },\n",
    "    \"roughness\":{\n",
    "        \"path\": roughness,\n",
    "        \"stats\": [\"mean\"],\n",
    "    },\n",
    "    \"ndvi\":{\n",
    "        \"path\": ndvi,\n",
    "        \"stats\": [\"mean\"]\n",
    "    } \n",
    "})\n",
    "pprint(zonal_stats_params)"
   ]
  },
  {
   "cell_type": "code",
   "execution_count": null,
   "id": "ec691448",
   "metadata": {},
   "outputs": [],
   "source": [
    "out_zs = out_vec.replace('/seg', '/zs')\n",
    "calc_zonal_stats(shp=out_vec,\n",
    "                 rasters=[zonal_stats_params],\n",
    "                 compactness=True,\n",
    "                 roundness=True,\n",
    "                 out_path=out_zs)"
   ]
  },
  {
   "cell_type": "markdown",
   "id": "48d88baf",
   "metadata": {},
   "source": [
    "## Classification\n",
    "This is done with python+geopandas but could also be done via QGIS+select_by_attribute"
   ]
  },
  {
   "cell_type": "code",
   "execution_count": null,
   "id": "8c82a9c6",
   "metadata": {},
   "outputs": [],
   "source": [
    "obj = read_vec(out_zs)\n",
    "obj.sample(5)"
   ]
  },
  {
   "cell_type": "code",
   "execution_count": null,
   "id": "0f30d6c6",
   "metadata": {},
   "outputs": [],
   "source": [
    "obj.describe()"
   ]
  },
  {
   "cell_type": "code",
   "execution_count": null,
   "id": "45f7c7b6",
   "metadata": {},
   "outputs": [],
   "source": [
    "# Field names\n",
    "ndvi_mean = 'ndvi_mean'\n",
    "ndsm_mean = 'nDSM_mean'\n",
    "roughness_mean = 'roughness_mean'\n",
    "imgb1_mean = 'imgb1_mean'\n",
    "imgb2_mean = 'imgb2_mean'\n",
    "imgb3_mean = 'imgb3_mean'\n",
    "imgb4_mean = 'imgb4_mean'\n",
    "roundness = 'roundness'\n",
    "# Class names\n",
    "trees = 'trees'\n",
    "water = 'water'\n",
    "open_green = 'open_green'\n",
    "buildings = 'buildings'\n",
    "roads_pave = 'roads_pavement'\n",
    "shadow = 'shadow'\n",
    "# Add a field to hold the class\n",
    "CLASS = 'class'\n",
    "obj[CLASS] = None\n",
    "\n",
    "\n",
    "def apply_rules(gdf, rules, class_name, unclass_only=True):\n",
    "    \"\"\"Function to apply rules\"\"\"\n",
    "    # Look up strings operators to get function\n",
    "    op_lut = {'>': operator.gt,\n",
    "              '<': operator.lt}\n",
    "    \n",
    "    matches = copy.deepcopy(gdf)\n",
    "    for field, op, val in rules:\n",
    "        if isinstance(op, str):\n",
    "            # if  a string is passed, get the function\n",
    "            op = op_lut[op]\n",
    "        matches = matches[op(matches[field], val)]\n",
    "    logger.info(f'Objects to be classified as {class_name}: {len(matches)}')\n",
    "    if unclass_only:\n",
    "        # Index in matches and not classified yet\n",
    "        gdf.loc[gdf.index.isin(matches.index) & gdf[CLASS].isnull(), CLASS] = class_name\n",
    "    else:\n",
    "        # Index in matches - would overwrite class if present\n",
    "        gdf.loc[gdf.index.isin(matches.index), CLASS] = class_name\n",
    "    logger.info(f'Objects classified as {class_name}: {len(gdf[gdf[CLASS]==class_name])}')\n",
    "    logger.debug(f'Remaining unclassified: {len(gdf[gdf[CLASS].isnull()])}')\n",
    "    return gdf"
   ]
  },
  {
   "cell_type": "code",
   "execution_count": null,
   "id": "384394db",
   "metadata": {},
   "outputs": [],
   "source": [
    "# Trees\n",
    "tree_rules = [\n",
    "    (ndvi_mean, '>', 0),\n",
    "    (ndsm_mean, '>', 0.75),\n",
    "    (roughness_mean, '>', 1.25)\n",
    "]\n",
    "# Water\n",
    "water_rules = [\n",
    "    (ndvi_mean, '<', 0),\n",
    "    (roughness_mean, '<', 0.13),\n",
    "    (ndsm_mean, '<', 1),\n",
    "    (imgb4_mean, '<', 10)\n",
    "]\n",
    "# Open Green Space\n",
    "open_rules = [\n",
    "    (ndvi_mean, '>', 0.1),\n",
    "    (ndsm_mean, '<', 1)\n",
    "]\n",
    "# Buildings\n",
    "build_rules = [\n",
    "    (ndvi_mean, '<', 0),\n",
    "    (ndsm_mean, '>', 2),\n",
    "]\n",
    "# Roads and pavement\n",
    "roads_rules = [\n",
    "    (ndvi_mean, '<', 0),\n",
    "    (ndsm_mean, '<', 1),\n",
    "    (roughness_mean, '<', 1.5),\n",
    "    (roundness, '>', 2)\n",
    "]\n",
    "# Shadow\n",
    "shadow_rules = [\n",
    "    (imgb1_mean, '<', 150),\n",
    "    (imgb2_mean, '<', 150),\n",
    "    (imgb3_mean, '<', 150),\n",
    "    (imgb4_mean, '<', 150)\n",
    "]\n",
    "classes = [trees, water, open_green, buildings, roads_pave, shadow]\n",
    "rules = [tree_rules, water_rules, open_rules, build_rules, roads_rules, shadow_rules]\n",
    "classes_rules = zip(classes, rules)\n",
    "for class_name, class_rules in classes_rules:\n",
    "    logger.info(f'Classifying: {class_name}')\n",
    "    obj = apply_rules(obj, class_rules, class_name)"
   ]
  },
  {
   "cell_type": "code",
   "execution_count": null,
   "id": "f147a926",
   "metadata": {},
   "outputs": [],
   "source": [
    "# Write classification\n",
    "out_class = out_vec.replace('/seg', '/classified')\n",
    "# write_gdf(obj, out_class)\n",
    "print(out_class)"
   ]
  }
 ],
 "metadata": {
  "kernelspec": {
   "display_name": "Python 3",
   "language": "python",
   "name": "python3"
  },
  "language_info": {
   "codemirror_mode": {
    "name": "ipython",
    "version": 3
   },
   "file_extension": ".py",
   "mimetype": "text/x-python",
   "name": "python",
   "nbconvert_exporter": "python",
   "pygments_lexer": "ipython3",
   "version": "3.9.2"
  }
 },
 "nbformat": 4,
 "nbformat_minor": 5
}
